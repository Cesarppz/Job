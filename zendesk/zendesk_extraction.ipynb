{
 "cells": [
  {
   "cell_type": "code",
   "execution_count": 26,
   "id": "e7a77daf-fd83-4840-843d-be7c92ce60c2",
   "metadata": {},
   "outputs": [],
   "source": [
    "import requests\n",
    "import json\n",
    "import datetime\n",
    "import pandas as pd\n",
    "import numpy as np"
   ]
  },
  {
   "cell_type": "code",
   "execution_count": 2,
   "id": "9617c8d7-9870-476f-8f27-f0ffee771e96",
   "metadata": {},
   "outputs": [],
   "source": [
    "TOKEN = 'cB6X5Z29v2JkFTGIv8mlaZayBUN2DSqKtl6D2Bov'"
   ]
  },
  {
   "cell_type": "code",
   "execution_count": 3,
   "id": "0640130d-e041-4705-aff3-906c67142397",
   "metadata": {},
   "outputs": [],
   "source": [
    "user = 'joana@customerfirst.io' + '/token'\n",
    "user2 = 'oliver@customerfirst.io' + '/token'\n",
    "pwd = TOKEN"
   ]
  },
  {
   "cell_type": "code",
   "execution_count": 4,
   "id": "0ecec7fc-c304-45f8-962f-fa2adb11c03b",
   "metadata": {},
   "outputs": [],
   "source": [
    "headers = {\n",
    "            'Accept': 'application/json',\n",
    "            'Authorization': \"Bearer {0}\".format(TOKEN),\n",
    "        }"
   ]
  },
  {
   "cell_type": "code",
   "execution_count": 63,
   "id": "a6e6e5fc-e798-4447-bfb1-857d53044b14",
   "metadata": {},
   "outputs": [],
   "source": [
    "def to_file(data, name):\n",
    "    num_columns = len(list(data))\n",
    "    array = np.zeros((num_columns,),dtype=str).reshape(-1,num_columns)\n",
    "    df = pd.DataFrame(array, columns=list(data))\n",
    "    df.to_excel(f'{name}.xlsx',index=False)"
   ]
  },
  {
   "cell_type": "markdown",
   "id": "9b52abb2-443a-4022-8d09-0ea4fafd7f8b",
   "metadata": {},
   "source": [
    "## * Support *\n",
    "\n",
    "\n",
    "- Tickets\n",
    "- Ticket Metrics\n",
    "- Users\n",
    "- Views\n",
    "- Satisfaction Ratings\n",
    "- Schedules\n",
    "\n",
    "\n",
    "## * Voice *\n",
    "\n",
    "- Availabilities\n",
    "- Stats (equivalante a tickets en support) https://developer.zendesk.com/api-reference/voice/talk-api/stats/\n",
    ", tambien tiene su incremental\n",
    "\n",
    "\n",
    "## * Live Chat *\n",
    "\n",
    "\n",
    "- Chats (igual usar el incremental luego de tener la base)"
   ]
  },
  {
   "cell_type": "markdown",
   "id": "7800184e-b973-40e4-89ea-6bc7d4947c8e",
   "metadata": {},
   "source": [
    "# Suport"
   ]
  },
  {
   "cell_type": "markdown",
   "id": "a1974c93-bae1-458c-afa1-7bf29eae6b2e",
   "metadata": {},
   "source": [
    "## Tickets"
   ]
  },
  {
   "cell_type": "code",
   "execution_count": 5,
   "id": "efd15566-1fde-43ce-9150-2380214a39d3",
   "metadata": {},
   "outputs": [],
   "source": [
    "link = 'https://con-customerfirst.zendesk.com/api/v2/tickets'"
   ]
  },
  {
   "cell_type": "code",
   "execution_count": 6,
   "id": "be97e07d-e1ab-428e-9aad-5a0e1e4c5743",
   "metadata": {},
   "outputs": [],
   "source": [
    "r = requests.get(link,auth=(user,pwd))"
   ]
  },
  {
   "cell_type": "code",
   "execution_count": 7,
   "id": "0175d66d-501f-4557-98a2-e7cd21f563b4",
   "metadata": {},
   "outputs": [],
   "source": [
    "data = r.json()"
   ]
  },
  {
   "cell_type": "code",
   "execution_count": 20,
   "id": "b3bc0c52-d930-4e59-bb72-f4d0e19a8e16",
   "metadata": {},
   "outputs": [
    {
     "data": {
      "text/plain": [
       "dict_keys(['tickets', 'next_page', 'previous_page', 'count'])"
      ]
     },
     "execution_count": 20,
     "metadata": {},
     "output_type": "execute_result"
    }
   ],
   "source": [
    "data.keys()"
   ]
  },
  {
   "cell_type": "code",
   "execution_count": 19,
   "id": "493156c8-abb3-4085-9506-6521bd974c98",
   "metadata": {
    "collapsed": true,
    "jupyter": {
     "outputs_hidden": true
    },
    "tags": []
   },
   "outputs": [
    {
     "data": {
      "text/plain": [
       "{'url': 'https://con-customerfirst.zendesk.com/api/v2/tickets/1.json',\n",
       " 'id': 1,\n",
       " 'external_id': None,\n",
       " 'via': {'channel': 'sample_ticket',\n",
       "  'source': {'from': {}, 'to': {}, 'rel': None}},\n",
       " 'created_at': '2021-04-07T15:30:10Z',\n",
       " 'updated_at': '2021-07-15T16:58:44Z',\n",
       " 'type': 'incident',\n",
       " 'subject': 'Sample ticket: Meet the ticket',\n",
       " 'raw_subject': 'Sample ticket: Meet the ticket',\n",
       " 'description': \"Hi Nino,\\n\\nThis is your first ticket. Ta-da! Any customer request sent to your supported channels (email, chat, voicemail, web form, and tweet) will become a Support ticket, just like this one. Respond to this ticket by typing a message and clicking Submit. You can also see how an email becomes a ticket by emailing your new account, support@con-customerfirst.zendesk.com. Your ticket will appear in ticket views.\\n\\nThat's the ticket on tickets. If you want to learn more, check out: \\nhttps://support.zendesk.com/hc/en-us/articles/203691476\\n\",\n",
       " 'priority': 'normal',\n",
       " 'status': 'open',\n",
       " 'recipient': None,\n",
       " 'requester_id': 1505363624782,\n",
       " 'submitter_id': 1505299660781,\n",
       " 'assignee_id': 1505299660781,\n",
       " 'organization_id': 1500398522901,\n",
       " 'group_id': 1500001950182,\n",
       " 'collaborator_ids': [],\n",
       " 'follower_ids': [],\n",
       " 'email_cc_ids': [],\n",
       " 'forum_topic_id': None,\n",
       " 'problem_id': None,\n",
       " 'has_incidents': False,\n",
       " 'is_public': True,\n",
       " 'due_at': None,\n",
       " 'tags': ['sample', 'support', 'zendesk'],\n",
       " 'custom_fields': [{'id': 1500004162082, 'value': None},\n",
       "  {'id': 1900006324065, 'value': None}],\n",
       " 'satisfaction_rating': {'score': 'unoffered'},\n",
       " 'sharing_agreement_ids': [],\n",
       " 'fields': [{'id': 1500004162082, 'value': None},\n",
       "  {'id': 1900006324065, 'value': None}],\n",
       " 'followup_ids': [],\n",
       " 'ticket_form_id': 1500000580142,\n",
       " 'brand_id': 1500000365802,\n",
       " 'allow_channelback': False,\n",
       " 'allow_attachments': True}"
      ]
     },
     "execution_count": 19,
     "metadata": {},
     "output_type": "execute_result"
    }
   ],
   "source": [
    "data['tickets'][0]"
   ]
  },
  {
   "cell_type": "code",
   "execution_count": 51,
   "id": "9b8cf390-7320-406a-a6df-95ec48f1c851",
   "metadata": {},
   "outputs": [],
   "source": [
    "array = np.zeros((36,),dtype=str).reshape(-1,36)"
   ]
  },
  {
   "cell_type": "code",
   "execution_count": 52,
   "id": "31224625-6b42-4038-a326-8b917428b969",
   "metadata": {},
   "outputs": [],
   "source": [
    "df_t = pd.DataFrame(array, columns=list(data['tickets'][0].keys()))"
   ]
  },
  {
   "cell_type": "code",
   "execution_count": 54,
   "id": "47fabc9e-e404-4c26-9e74-8e2e595caa7c",
   "metadata": {},
   "outputs": [
    {
     "data": {
      "text/html": [
       "<div>\n",
       "<style scoped>\n",
       "    .dataframe tbody tr th:only-of-type {\n",
       "        vertical-align: middle;\n",
       "    }\n",
       "\n",
       "    .dataframe tbody tr th {\n",
       "        vertical-align: top;\n",
       "    }\n",
       "\n",
       "    .dataframe thead th {\n",
       "        text-align: right;\n",
       "    }\n",
       "</style>\n",
       "<table border=\"1\" class=\"dataframe\">\n",
       "  <thead>\n",
       "    <tr style=\"text-align: right;\">\n",
       "      <th></th>\n",
       "      <th>url</th>\n",
       "      <th>id</th>\n",
       "      <th>external_id</th>\n",
       "      <th>via</th>\n",
       "      <th>created_at</th>\n",
       "      <th>updated_at</th>\n",
       "      <th>type</th>\n",
       "      <th>subject</th>\n",
       "      <th>raw_subject</th>\n",
       "      <th>description</th>\n",
       "      <th>...</th>\n",
       "      <th>tags</th>\n",
       "      <th>custom_fields</th>\n",
       "      <th>satisfaction_rating</th>\n",
       "      <th>sharing_agreement_ids</th>\n",
       "      <th>fields</th>\n",
       "      <th>followup_ids</th>\n",
       "      <th>ticket_form_id</th>\n",
       "      <th>brand_id</th>\n",
       "      <th>allow_channelback</th>\n",
       "      <th>allow_attachments</th>\n",
       "    </tr>\n",
       "  </thead>\n",
       "  <tbody>\n",
       "    <tr>\n",
       "      <th>0</th>\n",
       "      <td></td>\n",
       "      <td></td>\n",
       "      <td></td>\n",
       "      <td></td>\n",
       "      <td></td>\n",
       "      <td></td>\n",
       "      <td></td>\n",
       "      <td></td>\n",
       "      <td></td>\n",
       "      <td></td>\n",
       "      <td>...</td>\n",
       "      <td></td>\n",
       "      <td></td>\n",
       "      <td></td>\n",
       "      <td></td>\n",
       "      <td></td>\n",
       "      <td></td>\n",
       "      <td></td>\n",
       "      <td></td>\n",
       "      <td></td>\n",
       "      <td></td>\n",
       "    </tr>\n",
       "  </tbody>\n",
       "</table>\n",
       "<p>1 rows × 36 columns</p>\n",
       "</div>"
      ],
      "text/plain": [
       "  url id external_id via created_at updated_at type subject raw_subject  \\\n",
       "0                                                                         \n",
       "\n",
       "  description  ... tags custom_fields satisfaction_rating  \\\n",
       "0              ...                                          \n",
       "\n",
       "  sharing_agreement_ids fields followup_ids ticket_form_id brand_id  \\\n",
       "0                                                                     \n",
       "\n",
       "  allow_channelback allow_attachments  \n",
       "0                                      \n",
       "\n",
       "[1 rows x 36 columns]"
      ]
     },
     "execution_count": 54,
     "metadata": {},
     "output_type": "execute_result"
    }
   ],
   "source": [
    "df_t.head()"
   ]
  },
  {
   "cell_type": "code",
   "execution_count": 55,
   "id": "71a09aa7-788e-49be-a445-4b914bd7d4b4",
   "metadata": {},
   "outputs": [],
   "source": [
    "df_t.to_excel('tickets.xlsx')"
   ]
  },
  {
   "cell_type": "markdown",
   "id": "12a95e0f-df2e-4add-9122-2f8fbdde5497",
   "metadata": {},
   "source": [
    "## Tickes metrics"
   ]
  },
  {
   "cell_type": "code",
   "execution_count": 9,
   "id": "bd2468e2-2b5a-4109-a03c-06f6eba9d5e9",
   "metadata": {},
   "outputs": [
    {
     "data": {
      "text/plain": [
       "<Response [200]>"
      ]
     },
     "execution_count": 9,
     "metadata": {},
     "output_type": "execute_result"
    }
   ],
   "source": [
    "link = 'https://con-customerfirst.zendesk.com/api/v2/ticket_metrics'\n",
    "\n",
    "r = requests.get(link,auth=(user,pwd))\n",
    "r"
   ]
  },
  {
   "cell_type": "code",
   "execution_count": 58,
   "id": "235789c3-26da-40ce-b14f-1e196eefbf26",
   "metadata": {},
   "outputs": [
    {
     "data": {
      "text/plain": [
       "dict_keys(['account_overview'])"
      ]
     },
     "execution_count": 58,
     "metadata": {},
     "output_type": "execute_result"
    }
   ],
   "source": [
    "data = r.json()\n",
    "data.keys()"
   ]
  },
  {
   "cell_type": "code",
   "execution_count": 62,
   "id": "363f4bd7-71f1-418e-afac-3e0a9d4be47b",
   "metadata": {},
   "outputs": [],
   "source": [
    "to_file(data['account_overview'],'account_overview')"
   ]
  },
  {
   "cell_type": "markdown",
   "id": "f3e35158-144e-46cf-9201-ecd9c2b5903e",
   "metadata": {},
   "source": [
    "## User"
   ]
  },
  {
   "cell_type": "code",
   "execution_count": 64,
   "id": "8e31c663-12e5-442c-83c9-f0231622af62",
   "metadata": {},
   "outputs": [
    {
     "data": {
      "text/plain": [
       "<Response [200]>"
      ]
     },
     "execution_count": 64,
     "metadata": {},
     "output_type": "execute_result"
    }
   ],
   "source": [
    "link = 'https://con-customerfirst.zendesk.com/api/v2/users'\n",
    "\n",
    "r = requests.get(link,auth=(user,pwd))\n",
    "r"
   ]
  },
  {
   "cell_type": "code",
   "execution_count": 65,
   "id": "f419e325-9078-4d2d-8c48-bab556deae31",
   "metadata": {
    "tags": []
   },
   "outputs": [
    {
     "data": {
      "text/plain": [
       "dict_keys(['users', 'next_page', 'previous_page', 'count'])"
      ]
     },
     "execution_count": 65,
     "metadata": {},
     "output_type": "execute_result"
    }
   ],
   "source": [
    "data = r.json()\n",
    "data.keys()"
   ]
  },
  {
   "cell_type": "code",
   "execution_count": 67,
   "id": "0c5b47c5-a488-4b48-ae0b-3435ff6323e8",
   "metadata": {},
   "outputs": [],
   "source": [
    "to_file(data['users'][0],'users')"
   ]
  },
  {
   "cell_type": "markdown",
   "id": "0aa50b36-4a60-406f-bd83-36c3adbf8172",
   "metadata": {},
   "source": [
    "## Views"
   ]
  },
  {
   "cell_type": "code",
   "execution_count": 68,
   "id": "51505822-ca13-4d7a-8b0a-033122598e16",
   "metadata": {},
   "outputs": [
    {
     "data": {
      "text/plain": [
       "<Response [200]>"
      ]
     },
     "execution_count": 68,
     "metadata": {},
     "output_type": "execute_result"
    }
   ],
   "source": [
    "link = 'https://con-customerfirst.zendesk.com/api/v2/views'\n",
    "\n",
    "r = requests.get(link,auth=(user,pwd))\n",
    "r"
   ]
  },
  {
   "cell_type": "code",
   "execution_count": 70,
   "id": "03b39888-2ae3-4318-bbca-11fa6ebc0bf1",
   "metadata": {
    "tags": []
   },
   "outputs": [
    {
     "data": {
      "text/plain": [
       "dict_keys(['views', 'next_page', 'previous_page', 'count'])"
      ]
     },
     "execution_count": 70,
     "metadata": {},
     "output_type": "execute_result"
    }
   ],
   "source": [
    "data = r.json()\n",
    "data.keys()"
   ]
  },
  {
   "cell_type": "code",
   "execution_count": 72,
   "id": "3c5bb29f-a428-4861-a7a4-28757fa8eaf6",
   "metadata": {},
   "outputs": [],
   "source": [
    "to_file(data['views'][0],'views')"
   ]
  },
  {
   "cell_type": "markdown",
   "id": "7ee6a5ac-f49c-430b-b51c-fd9cbceea0a2",
   "metadata": {},
   "source": [
    "## Satisfaction Ratings"
   ]
  },
  {
   "cell_type": "code",
   "execution_count": 73,
   "id": "5b7f84a4-52a9-41cb-a6c1-2a2932423873",
   "metadata": {},
   "outputs": [
    {
     "data": {
      "text/plain": [
       "<Response [200]>"
      ]
     },
     "execution_count": 73,
     "metadata": {},
     "output_type": "execute_result"
    }
   ],
   "source": [
    "link = 'https://con-customerfirst.zendesk.com/api/v2/satisfaction_ratings'\n",
    "\n",
    "r = requests.get(link,auth=(user,pwd))\n",
    "r"
   ]
  },
  {
   "cell_type": "code",
   "execution_count": 74,
   "id": "e8f526e1-0cc9-4aef-8a00-af3b9126cd4e",
   "metadata": {
    "tags": []
   },
   "outputs": [
    {
     "data": {
      "text/plain": [
       "dict_keys(['satisfaction_ratings', 'next_page', 'previous_page', 'count'])"
      ]
     },
     "execution_count": 74,
     "metadata": {},
     "output_type": "execute_result"
    }
   ],
   "source": [
    "data = r.json()\n",
    "data.keys()"
   ]
  },
  {
   "cell_type": "code",
   "execution_count": 77,
   "id": "a9de34b6-48b2-4070-bd3d-96530b8bdadd",
   "metadata": {},
   "outputs": [],
   "source": [
    "to_file(data['satisfaction_ratings'][0],'satisfaction_ratings')"
   ]
  },
  {
   "cell_type": "markdown",
   "id": "62baadf9-5441-4455-a6b8-a4c389d5e268",
   "metadata": {},
   "source": [
    "## Schedules"
   ]
  },
  {
   "cell_type": "code",
   "execution_count": 78,
   "id": "3d7b792c-873c-4759-8b3a-d6eec6726ce8",
   "metadata": {},
   "outputs": [
    {
     "data": {
      "text/plain": [
       "<Response [200]>"
      ]
     },
     "execution_count": 78,
     "metadata": {},
     "output_type": "execute_result"
    }
   ],
   "source": [
    "link = 'https://con-customerfirst.zendesk.com/api/v2/business_hours/schedules'\n",
    "\n",
    "r = requests.get(link,auth=(user,pwd))\n",
    "r"
   ]
  },
  {
   "cell_type": "code",
   "execution_count": 79,
   "id": "cfdac587-55b5-4732-9c8c-79135851bc24",
   "metadata": {
    "tags": []
   },
   "outputs": [
    {
     "data": {
      "text/plain": [
       "dict_keys(['schedules', 'url'])"
      ]
     },
     "execution_count": 79,
     "metadata": {},
     "output_type": "execute_result"
    }
   ],
   "source": [
    "data = r.json()\n",
    "data.keys()"
   ]
  },
  {
   "cell_type": "code",
   "execution_count": 81,
   "id": "71377c93-056e-4e1e-8d87-abf45ec3af46",
   "metadata": {},
   "outputs": [],
   "source": [
    "to_file(data['schedules'][0],'schedules')"
   ]
  },
  {
   "cell_type": "markdown",
   "id": "808485c8-cd6f-48bf-8260-7b29f7369610",
   "metadata": {},
   "source": [
    "# Voice"
   ]
  },
  {
   "cell_type": "markdown",
   "id": "927f00b3-8691-4f8e-a894-2de8bdc6cc35",
   "metadata": {},
   "source": [
    "## Channels"
   ]
  },
  {
   "cell_type": "code",
   "execution_count": 82,
   "id": "101f3839-b613-4289-936c-3262abb108f8",
   "metadata": {},
   "outputs": [
    {
     "data": {
      "text/plain": [
       "<Response [200]>"
      ]
     },
     "execution_count": 82,
     "metadata": {},
     "output_type": "execute_result"
    }
   ],
   "source": [
    "link = 'https://con-customerfirst.zendesk.com/api/v2/channels/voice/availabilities/1505364079882'\n",
    "\n",
    "r = requests.get(link,auth=(user,pwd))\n",
    "r"
   ]
  },
  {
   "cell_type": "code",
   "execution_count": 83,
   "id": "3f9a5364-85d6-4f97-870c-3491a83ea7cf",
   "metadata": {
    "tags": []
   },
   "outputs": [
    {
     "data": {
      "text/plain": [
       "dict_keys(['availability'])"
      ]
     },
     "execution_count": 83,
     "metadata": {},
     "output_type": "execute_result"
    }
   ],
   "source": [
    "data = r.json()\n",
    "data.keys()"
   ]
  },
  {
   "cell_type": "code",
   "execution_count": 85,
   "id": "63197c00-2d26-4d13-bd24-d843dbe52c7e",
   "metadata": {},
   "outputs": [],
   "source": [
    "to_file(data['availability'],'availability')"
   ]
  },
  {
   "cell_type": "markdown",
   "id": "1adb9907-9237-4549-8856-767c21c110fe",
   "metadata": {},
   "source": [
    "## Stats"
   ]
  },
  {
   "cell_type": "code",
   "execution_count": 87,
   "id": "8807c93f-98fa-4c68-9a2e-d1f974334cc1",
   "metadata": {},
   "outputs": [
    {
     "data": {
      "text/plain": [
       "<Response [200]>"
      ]
     },
     "execution_count": 87,
     "metadata": {},
     "output_type": "execute_result"
    }
   ],
   "source": [
    "link = 'https://con-customerfirst.zendesk.com/api/v2/channels/voice/stats/account_overview'\n",
    "\n",
    "r = requests.get(link,auth=(user,pwd))\n",
    "r"
   ]
  },
  {
   "cell_type": "code",
   "execution_count": 88,
   "id": "5bcada20-e54d-4c8d-b7e8-e1db5b44f121",
   "metadata": {
    "tags": []
   },
   "outputs": [
    {
     "data": {
      "text/plain": [
       "dict_keys(['account_overview'])"
      ]
     },
     "execution_count": 88,
     "metadata": {},
     "output_type": "execute_result"
    }
   ],
   "source": [
    "data = r.json()\n",
    "data.keys()"
   ]
  },
  {
   "cell_type": "code",
   "execution_count": 90,
   "id": "b19b4497-d291-4da0-ac8f-eef703046a23",
   "metadata": {},
   "outputs": [],
   "source": [
    "to_file(data['account_overview'],'account_overview')"
   ]
  },
  {
   "cell_type": "code",
   "execution_count": 17,
   "id": "5f0c4a26-1027-4b70-a900-20e074aefcec",
   "metadata": {
    "tags": []
   },
   "outputs": [
    {
     "data": {
      "text/plain": [
       "{'account_overview': {'average_call_duration': 0,\n",
       "  'average_callback_wait_time': 0,\n",
       "  'average_hold_time': 0,\n",
       "  'average_queue_wait_time': 0,\n",
       "  'average_time_to_answer': 0,\n",
       "  'average_wrap_up_time': 0,\n",
       "  'max_calls_waiting': 0,\n",
       "  'max_queue_wait_time': 0,\n",
       "  'total_call_duration': 0,\n",
       "  'total_callback_calls': 0,\n",
       "  'total_calls': 0,\n",
       "  'total_calls_abandoned_in_queue': 0,\n",
       "  'total_calls_outside_business_hours': 0,\n",
       "  'total_calls_with_exceeded_queue_wait_time': 0,\n",
       "  'total_calls_with_requested_voicemail': 0,\n",
       "  'total_embeddable_callback_calls': 0,\n",
       "  'total_hold_time': 0,\n",
       "  'total_inbound_calls': 0,\n",
       "  'total_outbound_calls': 0,\n",
       "  'total_textback_requests': 0,\n",
       "  'total_voicemails': 0,\n",
       "  'total_wrap_up_time': 0}}"
      ]
     },
     "execution_count": 17,
     "metadata": {},
     "output_type": "execute_result"
    }
   ],
   "source": [
    "r.json()"
   ]
  },
  {
   "cell_type": "code",
   "execution_count": null,
   "id": "4315e73c-2238-4598-87d4-6563b47a9128",
   "metadata": {},
   "outputs": [],
   "source": []
  }
 ],
 "metadata": {
  "kernelspec": {
   "display_name": "Python [conda env:ws]",
   "language": "python",
   "name": "conda-env-ws-py"
  },
  "language_info": {
   "codemirror_mode": {
    "name": "ipython",
    "version": 3
   },
   "file_extension": ".py",
   "mimetype": "text/x-python",
   "name": "python",
   "nbconvert_exporter": "python",
   "pygments_lexer": "ipython3",
   "version": "3.7.10"
  }
 },
 "nbformat": 4,
 "nbformat_minor": 5
}
