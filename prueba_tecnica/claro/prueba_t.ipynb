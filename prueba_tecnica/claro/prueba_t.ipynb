{
 "cells": [
  {
   "cell_type": "code",
   "execution_count": 1,
   "id": "b1769e77-e839-44b1-81a7-ca8a5cfa0fe9",
   "metadata": {},
   "outputs": [],
   "source": [
    "import pandas as pd\n",
    "import psycopg2\n",
    "import requests\n",
    "from bs4 import BeautifulSoup"
   ]
  },
  {
   "cell_type": "code",
   "execution_count": 60,
   "id": "0895ab8e-1fd7-4faf-a43c-1af3d4565cae",
   "metadata": {
    "collapsed": true,
    "jupyter": {
     "outputs_hidden": true
    },
    "tags": []
   },
   "outputs": [
    {
     "ename": "SyntaxError",
     "evalue": "invalid syntax (<ipython-input-60-11fa3117663a>, line 5)",
     "output_type": "error",
     "traceback": [
      "\u001b[0;36m  File \u001b[0;32m\"<ipython-input-60-11fa3117663a>\"\u001b[0;36m, line \u001b[0;32m5\u001b[0m\n\u001b[0;31m    from herlper import load_tables, insert_states, load_corona_cases, load_insurance, load_population\u001b[0m\n\u001b[0m    ^\u001b[0m\n\u001b[0;31mSyntaxError\u001b[0m\u001b[0;31m:\u001b[0m invalid syntax\n"
     ]
    }
   ],
   "source": [
    "import psycopg2\n",
    "from decouple import config\n",
    "\n",
    "from queries_helper import query_states, query_corona_cases, query_insured_population, query_population\n",
    "from herlper import load_tables, insert_states, load_corona_cases, load_insurance, load_population"
   ]
  },
  {
   "cell_type": "markdown",
   "id": "2bf44359-0746-4c8a-84b5-9dd79063f848",
   "metadata": {},
   "source": [
    "# Import Data "
   ]
  },
  {
   "cell_type": "markdown",
   "id": "5213ac3d-e125-4363-9ed9-474dc2ce9d2e",
   "metadata": {},
   "source": [
    "## States"
   ]
  },
  {
   "cell_type": "code",
   "execution_count": 2,
   "id": "0f1eb11d-0bc2-4096-8747-9c8dd527f674",
   "metadata": {},
   "outputs": [],
   "source": [
    "r = requests.get('https://www.faa.gov/air_traffic/publications/atpubs/cnt_html/appendix_a.html')\n",
    "s = BeautifulSoup(r.text, 'lxml')"
   ]
  },
  {
   "cell_type": "code",
   "execution_count": 3,
   "id": "f786fb27-738f-49f8-ab1c-72f9786a7212",
   "metadata": {},
   "outputs": [],
   "source": [
    "table = s.find('table')\n",
    "table_of_states = [td.text.strip() for tr in table.find_all('tr') for td in tr.find_all('td') ] "
   ]
  },
  {
   "cell_type": "code",
   "execution_count": 4,
   "id": "957a03ff-d3e4-4633-8c1a-82bd979353ea",
   "metadata": {},
   "outputs": [],
   "source": [
    "state_names = table_of_states[::2]\n",
    "state_abbreviation  = table_of_states[1::2]"
   ]
  },
  {
   "cell_type": "code",
   "execution_count": 5,
   "id": "c6f46b82-7e11-4f5c-95cc-728b1e448e66",
   "metadata": {},
   "outputs": [],
   "source": [
    "dict_state_names = {i[0].capitalize():i[1] for i in list(zip(state_names, state_abbreviation))}\n",
    "dict_state_names['United states'] = 'All'\n",
    "dict_state_names['US Total'] = 'All'"
   ]
  },
  {
   "cell_type": "code",
   "execution_count": 6,
   "id": "539da29c-bf0d-4f4c-8cef-0d6666ecd12a",
   "metadata": {},
   "outputs": [],
   "source": [
    "def change_name_abb(x:str, names:dict) -> str:\n",
    "    try:\n",
    "        abb = names[x.capitalize()]\n",
    "    except KeyError:\n",
    "        abb = None\n",
    "    return abb\n",
    "    "
   ]
  },
  {
   "cell_type": "code",
   "execution_count": 7,
   "id": "1fa5c0fa-62b8-4317-b6ae-63338700ac0c",
   "metadata": {},
   "outputs": [],
   "source": [
    "df_state_name = pd.DataFrame([dict_state_names]).T.reset_index()"
   ]
  },
  {
   "cell_type": "code",
   "execution_count": 8,
   "id": "1bc775d9-5033-4ca1-9ba4-2112ecb29223",
   "metadata": {},
   "outputs": [],
   "source": [
    "df_state_name.columns = ['Name', 'Abbreviation ']"
   ]
  },
  {
   "cell_type": "code",
   "execution_count": 9,
   "id": "3faaab7e-e40a-4afd-b848-8e31bbf22c5a",
   "metadata": {},
   "outputs": [
    {
     "data": {
      "text/html": [
       "<div>\n",
       "<style scoped>\n",
       "    .dataframe tbody tr th:only-of-type {\n",
       "        vertical-align: middle;\n",
       "    }\n",
       "\n",
       "    .dataframe tbody tr th {\n",
       "        vertical-align: top;\n",
       "    }\n",
       "\n",
       "    .dataframe thead th {\n",
       "        text-align: right;\n",
       "    }\n",
       "</style>\n",
       "<table border=\"1\" class=\"dataframe\">\n",
       "  <thead>\n",
       "    <tr style=\"text-align: right;\">\n",
       "      <th></th>\n",
       "      <th>Name</th>\n",
       "      <th>Abbreviation</th>\n",
       "    </tr>\n",
       "  </thead>\n",
       "  <tbody>\n",
       "    <tr>\n",
       "      <th>0</th>\n",
       "      <td>Alabama</td>\n",
       "      <td>AL</td>\n",
       "    </tr>\n",
       "    <tr>\n",
       "      <th>1</th>\n",
       "      <td>Kentucky</td>\n",
       "      <td>KY</td>\n",
       "    </tr>\n",
       "    <tr>\n",
       "      <th>2</th>\n",
       "      <td>Ohio</td>\n",
       "      <td>OH</td>\n",
       "    </tr>\n",
       "    <tr>\n",
       "      <th>3</th>\n",
       "      <td>Alaska</td>\n",
       "      <td>AK</td>\n",
       "    </tr>\n",
       "    <tr>\n",
       "      <th>4</th>\n",
       "      <td>Louisiana</td>\n",
       "      <td>LA</td>\n",
       "    </tr>\n",
       "  </tbody>\n",
       "</table>\n",
       "</div>"
      ],
      "text/plain": [
       "        Name Abbreviation \n",
       "0    Alabama            AL\n",
       "1   Kentucky            KY\n",
       "2       Ohio            OH\n",
       "3     Alaska            AK\n",
       "4  Louisiana            LA"
      ]
     },
     "execution_count": 9,
     "metadata": {},
     "output_type": "execute_result"
    }
   ],
   "source": [
    "df_state_name.head()"
   ]
  },
  {
   "cell_type": "markdown",
   "id": "2e9ab136-6deb-4836-9491-76d61e50bf6e",
   "metadata": {},
   "source": [
    "## Seguros "
   ]
  },
  {
   "cell_type": "code",
   "execution_count": 10,
   "id": "e86fd1bf-3590-47f5-933a-2433c1fbfe96",
   "metadata": {},
   "outputs": [],
   "source": [
    "path_data_uninsured_state = '//mnt/c/Users/cesar/Downloads/aspe-uninsured-estimates-by-state.xlsx'"
   ]
  },
  {
   "cell_type": "code",
   "execution_count": 11,
   "id": "8b4271b7-2842-47a7-8587-6fb3eac8b7c4",
   "metadata": {},
   "outputs": [],
   "source": [
    "xls    = pd.ExcelFile(path_data_uninsured_state)\n",
    "df_us = pd.read_excel(xls, 'All Uninsured (#)')"
   ]
  },
  {
   "cell_type": "code",
   "execution_count": 12,
   "id": "ea56c198-270c-45dc-95a4-1e52d5bd330c",
   "metadata": {},
   "outputs": [],
   "source": [
    "df_us = df_us[['State Name', 'Total Non-Elderly Population (Excluding Undocumented)','Uninsured Population (Excluding Undocumented)', 'Male','Female', 'Age 0-18', 'Age 19-34', 'Age 35-49',\n",
    "       'Age 50-64']]"
   ]
  },
  {
   "cell_type": "code",
   "execution_count": 13,
   "id": "92e6e623-2517-4a44-9e6b-ceba72091994",
   "metadata": {},
   "outputs": [],
   "source": [
    "df_us = df_us.rename(columns={\n",
    "    'Total Non-Elderly Population (Excluding Undocumented)':'Non-Elderly Population',\n",
    "    'Uninsured Population (Excluding Undocumented)':'Uninsured Population (Excluding Undocumented)'\n",
    "})"
   ]
  },
  {
   "cell_type": "code",
   "execution_count": 14,
   "id": "83dd64a2-b4bc-469b-8051-1605a3f15b33",
   "metadata": {
    "tags": []
   },
   "outputs": [],
   "source": [
    "df_us['State Name'] = df_us['State Name'].apply(lambda x : change_name_abb(x, dict_state_names))"
   ]
  },
  {
   "cell_type": "code",
   "execution_count": 15,
   "id": "f4e37ee5-ee97-4409-9f1e-d02b1d271f06",
   "metadata": {},
   "outputs": [
    {
     "data": {
      "text/html": [
       "<div>\n",
       "<style scoped>\n",
       "    .dataframe tbody tr th:only-of-type {\n",
       "        vertical-align: middle;\n",
       "    }\n",
       "\n",
       "    .dataframe tbody tr th {\n",
       "        vertical-align: top;\n",
       "    }\n",
       "\n",
       "    .dataframe thead th {\n",
       "        text-align: right;\n",
       "    }\n",
       "</style>\n",
       "<table border=\"1\" class=\"dataframe\">\n",
       "  <thead>\n",
       "    <tr style=\"text-align: right;\">\n",
       "      <th></th>\n",
       "      <th>State Name</th>\n",
       "      <th>Non-Elderly Population</th>\n",
       "      <th>Uninsured Population (Excluding Undocumented)</th>\n",
       "      <th>Male</th>\n",
       "      <th>Female</th>\n",
       "      <th>Age 0-18</th>\n",
       "      <th>Age 19-34</th>\n",
       "      <th>Age 35-49</th>\n",
       "      <th>Age 50-64</th>\n",
       "    </tr>\n",
       "  </thead>\n",
       "  <tbody>\n",
       "    <tr>\n",
       "      <th>0</th>\n",
       "      <td>AL</td>\n",
       "      <td>3986500</td>\n",
       "      <td>456100</td>\n",
       "      <td>253100</td>\n",
       "      <td>202900</td>\n",
       "      <td>36800</td>\n",
       "      <td>188500</td>\n",
       "      <td>128300</td>\n",
       "      <td>102400</td>\n",
       "    </tr>\n",
       "    <tr>\n",
       "      <th>1</th>\n",
       "      <td>AK</td>\n",
       "      <td>629300</td>\n",
       "      <td>80300</td>\n",
       "      <td>49500</td>\n",
       "      <td>30800</td>\n",
       "      <td>13300</td>\n",
       "      <td>37700</td>\n",
       "      <td>16200</td>\n",
       "      <td>13200</td>\n",
       "    </tr>\n",
       "    <tr>\n",
       "      <th>2</th>\n",
       "      <td>AZ</td>\n",
       "      <td>5720700</td>\n",
       "      <td>698800</td>\n",
       "      <td>397500</td>\n",
       "      <td>301300</td>\n",
       "      <td>144800</td>\n",
       "      <td>253800</td>\n",
       "      <td>166800</td>\n",
       "      <td>133300</td>\n",
       "    </tr>\n",
       "    <tr>\n",
       "      <th>3</th>\n",
       "      <td>AR</td>\n",
       "      <td>2443900</td>\n",
       "      <td>257200</td>\n",
       "      <td>149600</td>\n",
       "      <td>107600</td>\n",
       "      <td>37600</td>\n",
       "      <td>99200</td>\n",
       "      <td>72300</td>\n",
       "      <td>48100</td>\n",
       "    </tr>\n",
       "    <tr>\n",
       "      <th>4</th>\n",
       "      <td>CA</td>\n",
       "      <td>32060700</td>\n",
       "      <td>2397600</td>\n",
       "      <td>1373600</td>\n",
       "      <td>1024000</td>\n",
       "      <td>325600</td>\n",
       "      <td>968800</td>\n",
       "      <td>623300</td>\n",
       "      <td>479900</td>\n",
       "    </tr>\n",
       "  </tbody>\n",
       "</table>\n",
       "</div>"
      ],
      "text/plain": [
       "  State Name  Non-Elderly Population  \\\n",
       "0         AL                 3986500   \n",
       "1         AK                  629300   \n",
       "2         AZ                 5720700   \n",
       "3         AR                 2443900   \n",
       "4         CA                32060700   \n",
       "\n",
       "   Uninsured Population (Excluding Undocumented)     Male   Female  Age 0-18  \\\n",
       "0                                         456100   253100   202900     36800   \n",
       "1                                          80300    49500    30800     13300   \n",
       "2                                         698800   397500   301300    144800   \n",
       "3                                         257200   149600   107600     37600   \n",
       "4                                        2397600  1373600  1024000    325600   \n",
       "\n",
       "   Age 19-34  Age 35-49  Age 50-64  \n",
       "0     188500     128300     102400  \n",
       "1      37700      16200      13200  \n",
       "2     253800     166800     133300  \n",
       "3      99200      72300      48100  \n",
       "4     968800     623300     479900  "
      ]
     },
     "execution_count": 15,
     "metadata": {},
     "output_type": "execute_result"
    }
   ],
   "source": [
    "df_us.head()"
   ]
  },
  {
   "cell_type": "code",
   "execution_count": 16,
   "id": "4da570bb-fa25-4f5c-a9e0-aeda451b52dd",
   "metadata": {},
   "outputs": [],
   "source": [
    "df_us.dropna(subset=['State Name'], inplace=True)"
   ]
  },
  {
   "cell_type": "markdown",
   "id": "1d2b0070-07b3-4dbb-8214-9bed3f4ce031",
   "metadata": {},
   "source": [
    "## State"
   ]
  },
  {
   "cell_type": "code",
   "execution_count": 17,
   "id": "93502bf8-6759-472d-9f81-ac452e525510",
   "metadata": {},
   "outputs": [],
   "source": [
    "path_state = '//mnt/c/Users/cesar/Downloads/acs2021_1yr_B27003_04000US09.xlsx'\n",
    "df_state = pd.read_excel(path_state)\n",
    "df_state = df_state[['Unnamed: 0', 'Alabama', 'Alaska',\n",
    "       'Arizona', 'Arkansas', 'California',\n",
    "       'Colorado',  'Connecticut',\n",
    "        'Delaware',  'District of Columbia',\n",
    "        'Florida',  'Georgia', \n",
    "       'Hawaii', 'Idaho', 'Illinois',\n",
    "        'Indiana',  'Iowa', \n",
    "       'Kansas', 'Kentucky', 'Louisiana',\n",
    "        'Maine',  'Maryland', \n",
    "       'Massachusetts',  'Michigan',\n",
    "       'Minnesota', 'Mississippi', \n",
    "       'Missouri',  'Montana',  'Nebraska',\n",
    "        'Nevada',  'New Hampshire',\n",
    "        'New Jersey', 'New Mexico',\n",
    "       'New York', 'North Carolina',\n",
    "        'North Dakota',  'Ohio',\n",
    "        'Oklahoma',  'Oregon', \n",
    "       'Pennsylvania',  'Rhode Island', \n",
    "       'South Carolina', 'South Dakota', \n",
    "       'Tennessee', 'Texas',  'Utah',\n",
    "        'Vermont',  'Virginia',\n",
    "       'Washington', 'West Virginia', \n",
    "       'Wisconsin',  'Wyoming' ]]"
   ]
  },
  {
   "cell_type": "code",
   "execution_count": 18,
   "id": "ca7f4b0f-1773-4c8a-ae19-7183cfa752ab",
   "metadata": {},
   "outputs": [],
   "source": [
    "df_state.name = 'index'"
   ]
  },
  {
   "cell_type": "code",
   "execution_count": 19,
   "id": "a2f4e1ba-8833-4f1b-9589-a888bfaf1e8a",
   "metadata": {
    "tags": []
   },
   "outputs": [],
   "source": [
    "df_state = df_state.set_index('Unnamed: 0').T.reset_index().rename(columns={'index':'State'})"
   ]
  },
  {
   "cell_type": "code",
   "execution_count": 20,
   "id": "6bb13d8a-5d5c-4f01-8681-f7166c5417b5",
   "metadata": {},
   "outputs": [],
   "source": [
    "df_state['State abbreviation'] = df_state['State'].apply(lambda x : change_name_abb(x, dict_state_names))"
   ]
  },
  {
   "cell_type": "code",
   "execution_count": 21,
   "id": "6c1f726d-3e11-4994-ba69-d08c2c9f34e3",
   "metadata": {},
   "outputs": [
    {
     "data": {
      "text/html": [
       "<div>\n",
       "<style scoped>\n",
       "    .dataframe tbody tr th:only-of-type {\n",
       "        vertical-align: middle;\n",
       "    }\n",
       "\n",
       "    .dataframe tbody tr th {\n",
       "        vertical-align: top;\n",
       "    }\n",
       "\n",
       "    .dataframe thead th {\n",
       "        text-align: right;\n",
       "    }\n",
       "</style>\n",
       "<table border=\"1\" class=\"dataframe\">\n",
       "  <thead>\n",
       "    <tr style=\"text-align: right;\">\n",
       "      <th>Unnamed: 0</th>\n",
       "      <th>State</th>\n",
       "      <th>Total</th>\n",
       "      <th>Male</th>\n",
       "      <th>Female</th>\n",
       "      <th>State abbreviation</th>\n",
       "    </tr>\n",
       "  </thead>\n",
       "  <tbody>\n",
       "    <tr>\n",
       "      <th>0</th>\n",
       "      <td>Alabama</td>\n",
       "      <td>4957633</td>\n",
       "      <td>2384150</td>\n",
       "      <td>2573483</td>\n",
       "      <td>AL</td>\n",
       "    </tr>\n",
       "    <tr>\n",
       "      <th>1</th>\n",
       "      <td>Alaska</td>\n",
       "      <td>702154</td>\n",
       "      <td>357463</td>\n",
       "      <td>344691</td>\n",
       "      <td>AK</td>\n",
       "    </tr>\n",
       "    <tr>\n",
       "      <th>2</th>\n",
       "      <td>Arizona</td>\n",
       "      <td>7174053</td>\n",
       "      <td>3546481</td>\n",
       "      <td>3627572</td>\n",
       "      <td>AZ</td>\n",
       "    </tr>\n",
       "    <tr>\n",
       "      <th>3</th>\n",
       "      <td>Arkansas</td>\n",
       "      <td>2974701</td>\n",
       "      <td>1457278</td>\n",
       "      <td>1517423</td>\n",
       "      <td>AR</td>\n",
       "    </tr>\n",
       "    <tr>\n",
       "      <th>4</th>\n",
       "      <td>California</td>\n",
       "      <td>38724296</td>\n",
       "      <td>19209230</td>\n",
       "      <td>19515064</td>\n",
       "      <td>CA</td>\n",
       "    </tr>\n",
       "  </tbody>\n",
       "</table>\n",
       "</div>"
      ],
      "text/plain": [
       "Unnamed: 0       State     Total      Male    Female State abbreviation\n",
       "0              Alabama   4957633   2384150   2573483                 AL\n",
       "1               Alaska    702154    357463    344691                 AK\n",
       "2              Arizona   7174053   3546481   3627572                 AZ\n",
       "3             Arkansas   2974701   1457278   1517423                 AR\n",
       "4           California  38724296  19209230  19515064                 CA"
      ]
     },
     "execution_count": 21,
     "metadata": {},
     "output_type": "execute_result"
    }
   ],
   "source": [
    "df_state.head()"
   ]
  },
  {
   "cell_type": "markdown",
   "id": "68adbfbc-b6ab-4fa3-8703-e211ecc61e9d",
   "metadata": {},
   "source": [
    "## COVID Cases"
   ]
  },
  {
   "cell_type": "code",
   "execution_count": 22,
   "id": "33d8853c-2c4b-4287-9f0d-a69153451055",
   "metadata": {},
   "outputs": [],
   "source": [
    "path_data_covid = '//mnt/c/Users/cesar/Downloads/covid_confirmed_usafacts.csv'"
   ]
  },
  {
   "cell_type": "code",
   "execution_count": 23,
   "id": "c3b88601-ce5a-463c-8358-cc7ba833b0ae",
   "metadata": {},
   "outputs": [],
   "source": [
    "df_cd = pd.read_csv(path_data_covid)"
   ]
  },
  {
   "cell_type": "code",
   "execution_count": 24,
   "id": "55541c5f-5679-4135-81c3-94cc2e367e9a",
   "metadata": {},
   "outputs": [],
   "source": [
    "df_cd.drop(columns=['County Name', 'countyFIPS'], inplace=True)"
   ]
  },
  {
   "cell_type": "code",
   "execution_count": 25,
   "id": "4a8ca66b-417f-4b68-88fb-11658a70fd20",
   "metadata": {},
   "outputs": [],
   "source": [
    "df_cd = df_cd.groupby(['State','StateFIPS']).sum().reset_index()"
   ]
  },
  {
   "cell_type": "code",
   "execution_count": 26,
   "id": "479c25e3-f2db-43aa-a552-57c339521aab",
   "metadata": {},
   "outputs": [],
   "source": [
    "df_cd = df_cd.set_index(['State','StateFIPS']).sum(axis=1, numeric_only=True).reset_index().rename(columns={0:'Total cases'})"
   ]
  },
  {
   "cell_type": "code",
   "execution_count": 27,
   "id": "784eeb99-1d0f-4fb0-95c5-a412df759890",
   "metadata": {},
   "outputs": [
    {
     "data": {
      "text/html": [
       "<div>\n",
       "<style scoped>\n",
       "    .dataframe tbody tr th:only-of-type {\n",
       "        vertical-align: middle;\n",
       "    }\n",
       "\n",
       "    .dataframe tbody tr th {\n",
       "        vertical-align: top;\n",
       "    }\n",
       "\n",
       "    .dataframe thead th {\n",
       "        text-align: right;\n",
       "    }\n",
       "</style>\n",
       "<table border=\"1\" class=\"dataframe\">\n",
       "  <thead>\n",
       "    <tr style=\"text-align: right;\">\n",
       "      <th></th>\n",
       "      <th>State</th>\n",
       "      <th>StateFIPS</th>\n",
       "      <th>Total cases</th>\n",
       "    </tr>\n",
       "  </thead>\n",
       "  <tbody>\n",
       "    <tr>\n",
       "      <th>0</th>\n",
       "      <td>AK</td>\n",
       "      <td>2</td>\n",
       "      <td>114436633</td>\n",
       "    </tr>\n",
       "    <tr>\n",
       "      <th>1</th>\n",
       "      <td>AL</td>\n",
       "      <td>1</td>\n",
       "      <td>706369074</td>\n",
       "    </tr>\n",
       "    <tr>\n",
       "      <th>2</th>\n",
       "      <td>AR</td>\n",
       "      <td>5</td>\n",
       "      <td>438592973</td>\n",
       "    </tr>\n",
       "    <tr>\n",
       "      <th>3</th>\n",
       "      <td>AZ</td>\n",
       "      <td>4</td>\n",
       "      <td>1081616913</td>\n",
       "    </tr>\n",
       "    <tr>\n",
       "      <th>4</th>\n",
       "      <td>CA</td>\n",
       "      <td>6</td>\n",
       "      <td>4660986565</td>\n",
       "    </tr>\n",
       "  </tbody>\n",
       "</table>\n",
       "</div>"
      ],
      "text/plain": [
       "  State  StateFIPS  Total cases\n",
       "0    AK          2    114436633\n",
       "1    AL          1    706369074\n",
       "2    AR          5    438592973\n",
       "3    AZ          4   1081616913\n",
       "4    CA          6   4660986565"
      ]
     },
     "execution_count": 27,
     "metadata": {},
     "output_type": "execute_result"
    }
   ],
   "source": [
    "df_cd.head()"
   ]
  },
  {
   "cell_type": "markdown",
   "id": "e7a51537-64bb-4cc2-89fa-ae50240ab86e",
   "metadata": {},
   "source": [
    "# Load"
   ]
  },
  {
   "cell_type": "code",
   "execution_count": 29,
   "id": "e29eac12-2008-4de4-b2e1-f95b03ea66b1",
   "metadata": {},
   "outputs": [],
   "source": [
    "dbname = 'usa_insurance'\n",
    "user = config('db_user')\n",
    "port = config('db_port')\n",
    "host = config('db_host')\n",
    "password = config('db_passoword')"
   ]
  },
  {
   "cell_type": "code",
   "execution_count": 57,
   "id": "4bc7117b-e72a-4964-97e7-479fd95639ee",
   "metadata": {},
   "outputs": [],
   "source": [
    "connection = psycopg2.connect(\n",
    "                    dbname = dbname,\n",
    "                    host = host,\n",
    "                    port = port,\n",
    "                    user = user,\n",
    "            password = password)\n",
    "\n",
    "cursor = connection.cursor()"
   ]
  },
  {
   "cell_type": "code",
   "execution_count": 34,
   "id": "f96a14a1-4973-4769-b180-9d3110bb2d2f",
   "metadata": {},
   "outputs": [],
   "source": [
    "with connection.cursor() as curs:\n",
    "    load_tables(curs)\n",
    "    connection.commit()"
   ]
  },
  {
   "cell_type": "markdown",
   "id": "14b9b881-96a1-477d-b93b-ce23f09c8930",
   "metadata": {},
   "source": [
    "## Insert States"
   ]
  },
  {
   "cell_type": "code",
   "execution_count": 42,
   "id": "0eed3542-5c09-4142-a53e-c66b517d3866",
   "metadata": {},
   "outputs": [],
   "source": [
    "load_population(cursor, connection, df_state_name)"
   ]
  },
  {
   "cell_type": "markdown",
   "id": "7a229e77-9d93-4f1e-b4f1-c435650fbc75",
   "metadata": {},
   "source": [
    "## Insert Population"
   ]
  },
  {
   "cell_type": "code",
   "execution_count": 173,
   "id": "6637f84b-216a-45d3-9b49-a998eb7ff62d",
   "metadata": {},
   "outputs": [],
   "source": [
    "load_population(cursor, connection, df_state)"
   ]
  },
  {
   "cell_type": "markdown",
   "id": "6ef2289f-fe13-4bfa-bdd7-1bfa961dc3d9",
   "metadata": {},
   "source": [
    "## Insert seguros"
   ]
  },
  {
   "cell_type": "code",
   "execution_count": 29,
   "id": "1d9e3ea2-1157-46a9-a448-36194ddd25c3",
   "metadata": {},
   "outputs": [],
   "source": [
    "load_insurance(cursor, connection, df_us)"
   ]
  },
  {
   "cell_type": "markdown",
   "id": "4d17d2a2-c445-496e-af93-01c629cd0b69",
   "metadata": {},
   "source": [
    "## Load cases covid"
   ]
  },
  {
   "cell_type": "code",
   "execution_count": 59,
   "id": "856df098-8026-43eb-ae69-b485dd65ff3f",
   "metadata": {},
   "outputs": [],
   "source": [
    "load_corona_cases(cursor, connection, df_cd)"
   ]
  }
 ],
 "metadata": {
  "kernelspec": {
   "display_name": "Python [conda env:ia]",
   "language": "python",
   "name": "conda-env-ia-py"
  },
  "language_info": {
   "codemirror_mode": {
    "name": "ipython",
    "version": 3
   },
   "file_extension": ".py",
   "mimetype": "text/x-python",
   "name": "python",
   "nbconvert_exporter": "python",
   "pygments_lexer": "ipython3",
   "version": "3.8.8"
  }
 },
 "nbformat": 4,
 "nbformat_minor": 5
}
