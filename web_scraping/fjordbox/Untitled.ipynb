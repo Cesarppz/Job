{
 "cells": [
  {
   "cell_type": "code",
   "execution_count": 64,
   "id": "3920fd12-8ac1-41b5-aab1-6706b91be3e6",
   "metadata": {},
   "outputs": [],
   "source": [
    "from selenium import webdriver\n",
    "import pandas as pd\n",
    "import re\n",
    "from agenda_tools import tools\n",
    "import time\n",
    "import pickle"
   ]
  },
  {
   "cell_type": "code",
   "execution_count": 194,
   "id": "9aa78021-1b1f-42fa-80aa-de203c5268d4",
   "metadata": {},
   "outputs": [],
   "source": [
    "\n",
    "options = webdriver.FirefoxOptions()\n",
    "options.add_argument('--private')\n",
    "# options.add_argument('--no-sandbox')\n",
    "# options.add_argument('Mozilla/5.0 (Windows NT 10.0; Win64; x64; rv:102.0) Gecko/20100101 Firefox/102.0')\n",
    "driver = webdriver.Firefox(executable_path='/home/cesarppz/Documents/jobs/web_scraping/javier/agenda/driver/geckodriver', options=options)"
   ]
  },
  {
   "cell_type": "code",
   "execution_count": 183,
   "id": "79ddf964-53eb-4aa6-bed8-190de63ab71b",
   "metadata": {},
   "outputs": [],
   "source": [
    "driver.get('https://2017.hardrocx.no/produkt/cambrium-sport-29r/')"
   ]
  },
  {
   "cell_type": "code",
   "execution_count": 185,
   "id": "47288946-9f70-4c56-aa1c-502cac8698ef",
   "metadata": {},
   "outputs": [
    {
     "data": {
      "text/plain": [
       "[]"
      ]
     },
     "execution_count": 185,
     "metadata": {},
     "output_type": "execute_result"
    }
   ],
   "source": [
    "[i.get_attribute('href') for i in driver.find_elements_by_xpath('//ul[@class=\"products columns-2\"]//a[@class=\"woocommerce-LoopProduct-link woocommerce-loop-product__link\"]')]"
   ]
  },
  {
   "cell_type": "code",
   "execution_count": 139,
   "id": "e73a3d15-08aa-4690-a972-c352254e803d",
   "metadata": {},
   "outputs": [
    {
     "data": {
      "text/plain": [
       "True"
      ]
     },
     "execution_count": 139,
     "metadata": {},
     "output_type": "execute_result"
    }
   ],
   "source": [
    "'2018' in 'https://2017.hardrocx.no/produktkategori/sykler-2018/'"
   ]
  },
  {
   "cell_type": "code",
   "execution_count": 195,
   "id": "87066864-5b6e-4bc2-96de-585929c446cb",
   "metadata": {},
   "outputs": [],
   "source": [
    "urls = ['https://2017.hardrocx.no/produktkategori/sykler-2018/', 'https://2017.hardrocx.no/produktkategori/sykler-2017/']"
   ]
  },
  {
   "cell_type": "code",
   "execution_count": 168,
   "id": "ba380d2b-d51e-44fd-ba2a-66148ff67da4",
   "metadata": {},
   "outputs": [],
   "source": [
    "urls = [ 'https://2017.hardrocx.no/produktkategori/sykler-2017/']"
   ]
  },
  {
   "cell_type": "code",
   "execution_count": 197,
   "id": "be8daa4d-abdb-48fa-a95a-053908288f4e",
   "metadata": {
    "collapsed": true,
    "jupyter": {
     "outputs_hidden": true
    },
    "tags": []
   },
   "outputs": [
    {
     "name": "stdout",
     "output_type": "stream",
     "text": [
      "P  https://2017.hardrocx.no/produktkategori/sykler-2018/elsykler/\n",
      "S  ['https://2017.hardrocx.no/produktkategori/sykler-2018/elsykler/elsykler-terreng/', 'https://2017.hardrocx.no/produktkategori/sykler-2018/elsykler/elsykler-hybrid/', 'https://2017.hardrocx.no/produktkategori/sykler-2018/elsykler/elsykler-classic/']\n",
      "R  ['https://2017.hardrocx.no/produkt/chubster-e-3000/', 'https://2017.hardrocx.no/produkt/e-shock-4/', 'https://2017.hardrocx.no/produkt/e-shock-3/', 'https://2017.hardrocx.no/produkt/e-shock-2/']\n",
      "R  ['https://2017.hardrocx.no/produkt/e-volution-4-xx/', 'https://2017.hardrocx.no/produkt/e-volution-4/', 'https://2017.hardrocx.no/produkt/e-volution-3-xx/', 'https://2017.hardrocx.no/produkt/e-volution-3/', 'https://2017.hardrocx.no/produkt/e-volution-2/', 'https://2017.hardrocx.no/produkt/e-volution-2-xx/']\n",
      "R  ['https://2017.hardrocx.no/produkt/e-city-2/', 'https://2017.hardrocx.no/produkt/e-city-7/']\n",
      "S  ['https://2017.hardrocx.no/produkt/circo-volante-race-2018/', 'https://2017.hardrocx.no/produkt/psycho-volante-2018/', 'https://2017.hardrocx.no/produkt/circo-volante-team-sl-2/', 'https://2017.hardrocx.no/produkt/circo-volante-team-slr-2/', 'https://2017.hardrocx.no/produkt/circo-volante-team-2/', 'https://2017.hardrocx.no/produkt/circo-volante/', 'https://2017.hardrocx.no/produkt/helium-carbon/', 'https://2017.hardrocx.no/produkt/helium-29r-2/', 'https://2017.hardrocx.no/produkt/cambrium-29r/', 'https://2017.hardrocx.no/produkt/cambrium-m27/', 'https://2017.hardrocx.no/produkt/shock-machine-29r-2/', 'https://2017.hardrocx.no/produkt/mean-machine-27r-2/']\n",
      "R  []\n",
      "R  []\n",
      "R  []\n",
      "R  []\n",
      "R  []\n",
      "R  []\n",
      "R  []\n",
      "R  []\n",
      "R  []\n",
      "R  []\n",
      "R  []\n",
      "R  []\n",
      "S  ['https://2017.hardrocx.no/produkt/forza-volante-ltd/', 'https://2017.hardrocx.no/produkt/forza-volante-team-sl/', 'https://2017.hardrocx.no/produkt/forza-volante-sl/', 'https://2017.hardrocx.no/produkt/forza-volante/']\n",
      "R  []\n",
      "R  []\n",
      "R  []\n",
      "R  []\n",
      "S  ['https://2017.hardrocx.no/produkt/chubster-3000/', 'https://2017.hardrocx.no/produkt/chubster-2000/']\n",
      "R  []\n",
      "R  []\n",
      "S  ['https://2017.hardrocx.no/produkt/circo-volante-sl-xx-29r/', 'https://2017.hardrocx.no/produkt/helium-xx-29r/', 'https://2017.hardrocx.no/produkt/cambrium-race-xx-29r-2/', 'https://2017.hardrocx.no/produkt/sport-machine-xx-24r-2/', 'https://2017.hardrocx.no/produkt/sport-machine-xx-27r/']\n",
      "R  []\n",
      "R  []\n",
      "R  []\n",
      "R  []\n",
      "R  []\n",
      "S  ['https://2017.hardrocx.no/produkt/sport-machine-xx-24r-2/', 'https://2017.hardrocx.no/produkt/mean-machine-24r-2/']\n",
      "R  []\n",
      "R  []\n",
      "S  ['https://2017.hardrocx.no/produkt/super-m5-touring/', 'https://2017.hardrocx.no/produkt/super-m5/', 'https://2017.hardrocx.no/produkt/super-m4-touring/', 'https://2017.hardrocx.no/produkt/super-m4/', 'https://2017.hardrocx.no/produkt/cross-machine-c3-touring/', 'https://2017.hardrocx.no/produkt/cross-machine-c3-dameherre/', 'https://2017.hardrocx.no/produkt/cross-machine-c1-touring-dameherre/', 'https://2017.hardrocx.no/produkt/cross-machine-c1-dameherre/']\n",
      "R  []\n",
      "R  []\n",
      "R  []\n",
      "R  []\n",
      "R  []\n",
      "R  []\n",
      "R  []\n",
      "R  []\n",
      "S  ['https://2017.hardrocx.no/produkt/colonel-cxe-2/', 'https://2017.hardrocx.no/produkt/super-electra-disc/', 'https://2017.hardrocx.no/produkt/super-veloce-cx-2018/', 'https://2017.hardrocx.no/produkt/super-veloce-disc/', 'https://2017.hardrocx.no/produkt/captain-cross/']\n",
      "R  []\n",
      "R  []\n",
      "R  []\n",
      "R  []\n",
      "R  []\n",
      "P  https://2017.hardrocx.no/produktkategori/sykler-2017/elsykler-sykler-2017/\n",
      "S  ['https://2017.hardrocx.no/produktkategori/sykler-2017/elsykler-sykler-2017/e-city/', 'https://2017.hardrocx.no/produktkategori/sykler-2017/elsykler-sykler-2017/e-cross/', 'https://2017.hardrocx.no/produktkategori/sykler-2017/elsykler-sykler-2017/e-shock/', 'https://2017.hardrocx.no/produktkategori/sykler-2017/elsykler-sykler-2017/e-volution/', 'https://2017.hardrocx.no/produktkategori/sykler-2017/elsykler-sykler-2017/pendolare/']\n",
      "R  ['https://2017.hardrocx.no/produkt/e-city-3/', 'https://2017.hardrocx.no/produkt/e-city-8/', 'https://2017.hardrocx.no/produkt/e-city-2-2/', 'https://2017.hardrocx.no/produkt/e-city-1/']\n",
      "R  ['https://2017.hardrocx.no/produkt/e-cross-3-xx/', 'https://2017.hardrocx.no/produkt/e-cross-3/', 'https://2017.hardrocx.no/produkt/e-cross-1-xx/', 'https://2017.hardrocx.no/produkt/e-cross-1/']\n",
      "R  ['https://2017.hardrocx.no/produkt/e-shock-27/', 'https://2017.hardrocx.no/produkt/e-shock-4-2/', 'https://2017.hardrocx.no/produkt/e-shock-3-2/', 'https://2017.hardrocx.no/produkt/e-shock-2-2/', 'https://2017.hardrocx.no/produkt/e-shock-1/']\n",
      "R  ['https://2017.hardrocx.no/produkt/e-volution-8-di2/', 'https://2017.hardrocx.no/produkt/e-volution-8-xx/', 'https://2017.hardrocx.no/produkt/e-volution-4-xx-2/', 'https://2017.hardrocx.no/produkt/e-volution-4-2/', 'https://2017.hardrocx.no/produkt/e-volution-3-xx-2/', 'https://2017.hardrocx.no/produkt/e-volution-3-2/', 'https://2017.hardrocx.no/produkt/e-volution-2-2/', 'https://2017.hardrocx.no/produkt/e-volution-1/']\n",
      "R  ['https://2017.hardrocx.no/produkt/e-cross-pendolare-27/']\n",
      "S  ['https://2017.hardrocx.no/produkt/forza-volante-limited/', 'https://2017.hardrocx.no/produkt/circo-volante-race/', 'https://2017.hardrocx.no/produkt/psycho-volante/', 'https://2017.hardrocx.no/produkt/forza-volante-team/', 'https://2017.hardrocx.no/produkt/circo-volante-team-sl/', 'https://2017.hardrocx.no/produkt/circo-volante-team-slr/', 'https://2017.hardrocx.no/produkt/circo-volante-team/', 'https://2017.hardrocx.no/produkt/circo-volante-sl/', 'https://2017.hardrocx.no/produkt/cam-c-29/', 'https://2017.hardrocx.no/produkt/helium-29r/', 'https://2017.hardrocx.no/produkt/cambrium-race-29r/', 'https://2017.hardrocx.no/produkt/cambrium-sport-29r/', 'https://2017.hardrocx.no/produkt/stone-machine-29r/', 'https://2017.hardrocx.no/produkt/shock-machine-29r/']\n",
      "R  []\n",
      "R  []\n",
      "R  []\n",
      "R  []\n",
      "R  []\n",
      "R  []\n",
      "R  []\n",
      "R  []\n",
      "R  []\n",
      "R  []\n",
      "R  []\n",
      "R  []\n",
      "R  []\n",
      "R  []\n",
      "S  ['https://2017.hardrocx.no/produkt/shock-machine-27r/', 'https://2017.hardrocx.no/produkt/mean-machine-26r/', 'https://2017.hardrocx.no/produkt/mean-machine-27r/']\n",
      "R  []\n",
      "R  []\n",
      "R  []\n",
      "S  ['https://2017.hardrocx.no/produkt/circo-volante-sl-xx/', 'https://2017.hardrocx.no/produkt/cambrium-race-xx-29r/', 'https://2017.hardrocx.no/produkt/stone-machine-xx-27r/', 'https://2017.hardrocx.no/produkt/shock-machine-xx-27r/', 'https://2017.hardrocx.no/produkt/sport-machine-xx-26r/']\n",
      "R  []\n",
      "R  []\n",
      "R  []\n",
      "R  []\n",
      "R  []\n",
      "S  ['https://2017.hardrocx.no/produkt/circo-gigante-xl/', 'https://2017.hardrocx.no/produkt/circo-gigante-m-27/', 'https://2017.hardrocx.no/produkt/circo-gigante-l/']\n",
      "R  []\n",
      "R  []\n",
      "R  []\n",
      "S  ['https://2017.hardrocx.no/produkt/cambrium-race-27r/', 'https://2017.hardrocx.no/produkt/sport-machine-xx-24r/', 'https://2017.hardrocx.no/produkt/mean-machine-24r/']\n",
      "R  []\n",
      "R  []\n",
      "R  []\n",
      "S  ['https://2017.hardrocx.no/produkt/cross-machine-c6-sl/', 'https://2017.hardrocx.no/produkt/cross-machine-c5-sl/', 'https://2017.hardrocx.no/produkt/super-m4-touringm4/', 'https://2017.hardrocx.no/produkt/cross-machine-c4-sl/', 'https://2017.hardrocx.no/produkt/cross-machine-c3-touring-28r-dame/', 'https://2017.hardrocx.no/produkt/cross-machine-c3-touring-28r-herre/', 'https://2017.hardrocx.no/produkt/cross-machine-c3-xx-dame-28r/', 'https://2017.hardrocx.no/produkt/cross-machine-c3-dame/', 'https://2017.hardrocx.no/produkt/cross-machine-c3-herre/', 'https://2017.hardrocx.no/produkt/cross-machine-c1-touring-dame-28r/', 'https://2017.hardrocx.no/produkt/cross-machine-c1-touring-herre-28r/', 'https://2017.hardrocx.no/produkt/cross-machine-c2-dame-28r/', 'https://2017.hardrocx.no/produkt/cross-machine-c2-herre-28r/', 'https://2017.hardrocx.no/produkt/cross-machine-c1-dame-28r/', 'https://2017.hardrocx.no/produkt/cross-machine-c1-herre-28r/']\n",
      "R  []\n",
      "R  []\n",
      "R  []\n",
      "R  []\n",
      "R  []\n",
      "R  []\n",
      "R  []\n",
      "R  []\n",
      "R  []\n",
      "R  []\n",
      "R  []\n",
      "R  []\n",
      "R  []\n",
      "R  []\n",
      "R  []\n",
      "S  ['https://2017.hardrocx.no/produkt/colonel-cxe/', 'https://2017.hardrocx.no/produkt/super-electra-rrc/', 'https://2017.hardrocx.no/produkt/super-veloce-cx/', 'https://2017.hardrocx.no/produkt/super-veloce-rrc/']\n",
      "R  []\n",
      "R  []\n",
      "R  []\n",
      "R  []\n",
      "S  ['https://2017.hardrocx.no/produkt/comfort-machine-c7-herre/', 'https://2017.hardrocx.no/produkt/comfort-machine-c7-dame/', 'https://2017.hardrocx.no/produkt/comfort-machine-c24-herre/', 'https://2017.hardrocx.no/produkt/comfort-machine-c24-dame/']\n",
      "R  []\n",
      "R  []\n",
      "R  []\n",
      "R  []\n"
     ]
    }
   ],
   "source": [
    "links_to_insert = get_links(urls)"
   ]
  },
  {
   "cell_type": "code",
   "execution_count": 69,
   "id": "b78a65aa-2720-44fa-a2bd-3bc331bcc806",
   "metadata": {
    "collapsed": true,
    "jupyter": {
     "outputs_hidden": true
    },
    "tags": []
   },
   "outputs": [
    {
     "data": {
      "text/plain": [
       "[['https://2017.hardrocx.no/produkt/chubster-e-3000/',\n",
       "  'https://2017.hardrocx.no/produkt/e-shock-4/',\n",
       "  'https://2017.hardrocx.no/produkt/e-shock-3/',\n",
       "  'https://2017.hardrocx.no/produkt/e-shock-2/'],\n",
       " '2018',\n",
       " 'elsykler',\n",
       " ['https://2017.hardrocx.no/produkt/e-volution-4-xx/',\n",
       "  'https://2017.hardrocx.no/produkt/e-volution-4/',\n",
       "  'https://2017.hardrocx.no/produkt/e-volution-3-xx/',\n",
       "  'https://2017.hardrocx.no/produkt/e-volution-3/',\n",
       "  'https://2017.hardrocx.no/produkt/e-volution-2/',\n",
       "  'https://2017.hardrocx.no/produkt/e-volution-2-xx/'],\n",
       " '2018',\n",
       " 'elsykler',\n",
       " ['https://2017.hardrocx.no/produkt/e-city-2/',\n",
       "  'https://2017.hardrocx.no/produkt/e-city-7/'],\n",
       " '2018',\n",
       " 'elsykler',\n",
       " ['https://2017.hardrocx.no/produkt/circo-volante-team-sl-2/',\n",
       "  'https://2017.hardrocx.no/produkt/colonel-cxe-2/',\n",
       "  'https://2017.hardrocx.no/produkt/circo-volante-team-slr-2/',\n",
       "  'https://2017.hardrocx.no/produkt/super-veloce-disc/'],\n",
       " '2018',\n",
       " 'rittfulldemper',\n",
       " ['https://2017.hardrocx.no/produkt/cambrium-29r/',\n",
       "  'https://2017.hardrocx.no/produkt/super-veloce-disc/',\n",
       "  'https://2017.hardrocx.no/produkt/circo-volante-team-sl-2/',\n",
       "  'https://2017.hardrocx.no/produkt/helium-carbon/'],\n",
       " '2018',\n",
       " 'rittfulldemper',\n",
       " ['https://2017.hardrocx.no/produkt/circo-volante-sl-xx-29r/',\n",
       "  'https://2017.hardrocx.no/produkt/circo-volante-team-sl-2/',\n",
       "  'https://2017.hardrocx.no/produkt/circo-volante-team-2/',\n",
       "  'https://2017.hardrocx.no/produkt/forza-volante/'],\n",
       " '2018',\n",
       " 'rittfulldemper',\n",
       " ['https://2017.hardrocx.no/produkt/cambrium-race-xx-29r-2/',\n",
       "  'https://2017.hardrocx.no/produkt/sport-machine-xx-24r-2/',\n",
       "  'https://2017.hardrocx.no/produkt/forza-volante-team-sl/',\n",
       "  'https://2017.hardrocx.no/produkt/circo-volante/'],\n",
       " '2018',\n",
       " 'rittfulldemper',\n",
       " ['https://2017.hardrocx.no/produkt/colonel-cxe-2/',\n",
       "  'https://2017.hardrocx.no/produkt/super-electra-disc/',\n",
       "  'https://2017.hardrocx.no/produkt/circo-volante/',\n",
       "  'https://2017.hardrocx.no/produkt/sport-machine-xx-24r-2/'],\n",
       " '2018',\n",
       " 'xx',\n",
       " ['https://2017.hardrocx.no/produkt/forza-volante-sl/',\n",
       "  'https://2017.hardrocx.no/produkt/captain-cross/',\n",
       "  'https://2017.hardrocx.no/produkt/cambrium-29r/',\n",
       "  'https://2017.hardrocx.no/produkt/helium-carbon/'],\n",
       " '2018',\n",
       " 'xx',\n",
       " ['https://2017.hardrocx.no/produkt/circo-volante-team-sl-2/',\n",
       "  'https://2017.hardrocx.no/produkt/circo-gigante-xl-2/',\n",
       "  'https://2017.hardrocx.no/produkt/forza-volante-sl/',\n",
       "  'https://2017.hardrocx.no/produkt/super-veloce-disc/'],\n",
       " '2018',\n",
       " 'xx',\n",
       " ['https://2017.hardrocx.no/produkt/shock-machine-29r-2/',\n",
       "  'https://2017.hardrocx.no/produkt/helium-carbon/',\n",
       "  'https://2017.hardrocx.no/produkt/cambrium-m27/',\n",
       "  'https://2017.hardrocx.no/produkt/cambrium-race-xx-29r-2/'],\n",
       " '2018',\n",
       " 'xx',\n",
       " ['https://2017.hardrocx.no/produkt/helium-xx-29r/',\n",
       "  'https://2017.hardrocx.no/produkt/colonel-cxe-2/',\n",
       "  'https://2017.hardrocx.no/produkt/super-veloce-disc/',\n",
       "  'https://2017.hardrocx.no/produkt/cambrium-29r/'],\n",
       " '2018',\n",
       " 'xx',\n",
       " ['https://2017.hardrocx.no/produkt/circo-volante-team-sl-2/',\n",
       "  'https://2017.hardrocx.no/produkt/helium-carbon/',\n",
       "  'https://2017.hardrocx.no/produkt/forza-volante-sl/',\n",
       "  'https://2017.hardrocx.no/produkt/circo-volante-team-slr-2/'],\n",
       " '2018',\n",
       " 'hybrid',\n",
       " ['https://2017.hardrocx.no/produkt/shock-machine-29r-2/',\n",
       "  'https://2017.hardrocx.no/produkt/forza-volante/',\n",
       "  'https://2017.hardrocx.no/produkt/circo-volante/',\n",
       "  'https://2017.hardrocx.no/produkt/cambrium-29r/'],\n",
       " '2018',\n",
       " 'hybrid',\n",
       " ['https://2017.hardrocx.no/produkt/sport-machine-xx-24r-2/',\n",
       "  'https://2017.hardrocx.no/produkt/cambrium-m27/',\n",
       "  'https://2017.hardrocx.no/produkt/cross-machine-c1-dameherre/',\n",
       "  'https://2017.hardrocx.no/produkt/forza-volante-ltd/'],\n",
       " '2018',\n",
       " 'hybrid',\n",
       " ['https://2017.hardrocx.no/produkt/cambrium-race-xx-29r-2/',\n",
       "  'https://2017.hardrocx.no/produkt/super-veloce-disc/',\n",
       "  'https://2017.hardrocx.no/produkt/circo-volante-team-sl-2/',\n",
       "  'https://2017.hardrocx.no/produkt/captain-cross/'],\n",
       " '2018',\n",
       " 'hybrid',\n",
       " ['https://2017.hardrocx.no/produkt/circo-volante-team-sl-2/',\n",
       "  'https://2017.hardrocx.no/produkt/circo-gigante-xl-2/',\n",
       "  'https://2017.hardrocx.no/produkt/super-veloce-disc/',\n",
       "  'https://2017.hardrocx.no/produkt/helium-29r-2/'],\n",
       " '2018',\n",
       " 'hybrid',\n",
       " ['https://2017.hardrocx.no/produkt/forza-volante/',\n",
       "  'https://2017.hardrocx.no/produkt/circo-gigante-xl-2/',\n",
       "  'https://2017.hardrocx.no/produkt/captain-cross/',\n",
       "  'https://2017.hardrocx.no/produkt/circo-volante-team-slr-2/'],\n",
       " '2018',\n",
       " 'hybrid',\n",
       " ['https://2017.hardrocx.no/produkt/circo-gigante-xl-2/',\n",
       "  'https://2017.hardrocx.no/produkt/forza-volante/',\n",
       "  'https://2017.hardrocx.no/produkt/sport-machine-xx-24r-2/',\n",
       "  'https://2017.hardrocx.no/produkt/super-electra-disc/'],\n",
       " '2018',\n",
       " 'hybrid',\n",
       " ['https://2017.hardrocx.no/produkt/forza-volante-team-sl/',\n",
       "  'https://2017.hardrocx.no/produkt/colonel-cxe-2/',\n",
       "  'https://2017.hardrocx.no/produkt/circo-volante-team-sl-2/',\n",
       "  'https://2017.hardrocx.no/produkt/circo-volante-sl-xx-29r/'],\n",
       " '2018',\n",
       " 'hybrid',\n",
       " ['https://2017.hardrocx.no/produkt/e-city-3/',\n",
       "  'https://2017.hardrocx.no/produkt/e-city-8/',\n",
       "  'https://2017.hardrocx.no/produkt/e-city-2-2/',\n",
       "  'https://2017.hardrocx.no/produkt/e-city-1/'],\n",
       " '2017',\n",
       " 'elsykler',\n",
       " ['https://2017.hardrocx.no/produkt/e-cross-3-xx/',\n",
       "  'https://2017.hardrocx.no/produkt/e-cross-3/',\n",
       "  'https://2017.hardrocx.no/produkt/e-cross-1-xx/',\n",
       "  'https://2017.hardrocx.no/produkt/e-cross-1/'],\n",
       " '2017',\n",
       " 'elsykler',\n",
       " ['https://2017.hardrocx.no/produkt/e-shock-27/',\n",
       "  'https://2017.hardrocx.no/produkt/e-shock-4-2/',\n",
       "  'https://2017.hardrocx.no/produkt/e-shock-3-2/',\n",
       "  'https://2017.hardrocx.no/produkt/e-shock-2-2/',\n",
       "  'https://2017.hardrocx.no/produkt/e-shock-1/'],\n",
       " '2017',\n",
       " 'elsykler',\n",
       " ['https://2017.hardrocx.no/produkt/e-volution-8-di2/',\n",
       "  'https://2017.hardrocx.no/produkt/e-volution-8-xx/',\n",
       "  'https://2017.hardrocx.no/produkt/e-volution-4-xx-2/',\n",
       "  'https://2017.hardrocx.no/produkt/e-volution-4-2/',\n",
       "  'https://2017.hardrocx.no/produkt/e-volution-3-xx-2/',\n",
       "  'https://2017.hardrocx.no/produkt/e-volution-3-2/',\n",
       "  'https://2017.hardrocx.no/produkt/e-volution-2-2/',\n",
       "  'https://2017.hardrocx.no/produkt/e-volution-1/'],\n",
       " '2017',\n",
       " 'elsykler',\n",
       " ['https://2017.hardrocx.no/produkt/e-cross-pendolare-27/'],\n",
       " '2017',\n",
       " 'elsykler',\n",
       " ['https://2017.hardrocx.no/produkt/stone-machine-xx-27r/',\n",
       "  'https://2017.hardrocx.no/produkt/forza-volante-limited/',\n",
       "  'https://2017.hardrocx.no/produkt/cambrium-race-xx-29r/',\n",
       "  'https://2017.hardrocx.no/produkt/circo-volante-team/'],\n",
       " '2017',\n",
       " 'terreng',\n",
       " ['https://2017.hardrocx.no/produkt/mean-machine-24r/',\n",
       "  'https://2017.hardrocx.no/produkt/circo-volante-sl/',\n",
       "  'https://2017.hardrocx.no/produkt/circo-volante-team/',\n",
       "  'https://2017.hardrocx.no/produkt/cambrium-race-xx-29r/'],\n",
       " '2017',\n",
       " 'terreng',\n",
       " ['https://2017.hardrocx.no/produkt/circo-volante-sl/',\n",
       "  'https://2017.hardrocx.no/produkt/cambrium-race-xx-29r/',\n",
       "  'https://2017.hardrocx.no/produkt/psycho-volante/',\n",
       "  'https://2017.hardrocx.no/produkt/sport-machine-xx-24r/'],\n",
       " '2017',\n",
       " 'terreng',\n",
       " ['https://2017.hardrocx.no/produkt/mean-machine-27r/',\n",
       "  'https://2017.hardrocx.no/produkt/shock-machine-29r/',\n",
       "  'https://2017.hardrocx.no/produkt/circo-volante-team/',\n",
       "  'https://2017.hardrocx.no/produkt/helium-29r/'],\n",
       " '2017',\n",
       " 'fatbikes',\n",
       " ['https://2017.hardrocx.no/produkt/stone-machine-xx-27r/',\n",
       "  'https://2017.hardrocx.no/produkt/stone-machine-29r/',\n",
       "  'https://2017.hardrocx.no/produkt/circo-volante-team-slr/',\n",
       "  'https://2017.hardrocx.no/produkt/circo-volante-sl/'],\n",
       " '2017',\n",
       " 'fatbikes',\n",
       " ['https://2017.hardrocx.no/produkt/cambrium-race-27r/',\n",
       "  'https://2017.hardrocx.no/produkt/circo-volante-team-sl/',\n",
       "  'https://2017.hardrocx.no/produkt/sport-machine-xx-24r/',\n",
       "  'https://2017.hardrocx.no/produkt/circo-volante-sl-xx/'],\n",
       " '2017',\n",
       " 'fatbikes',\n",
       " ['https://2017.hardrocx.no/produkt/cambrium-race-27r/',\n",
       "  'https://2017.hardrocx.no/produkt/circo-volante-sl/',\n",
       "  'https://2017.hardrocx.no/produkt/sport-machine-xx-24r/',\n",
       "  'https://2017.hardrocx.no/produkt/circo-volante-team-sl/'],\n",
       " '2017',\n",
       " 'hybrid',\n",
       " ['https://2017.hardrocx.no/produkt/forza-volante-limited/',\n",
       "  'https://2017.hardrocx.no/produkt/sport-machine-xx-24r/',\n",
       "  'https://2017.hardrocx.no/produkt/mean-machine-27r/',\n",
       "  'https://2017.hardrocx.no/produkt/helium-29r/'],\n",
       " '2017',\n",
       " 'hybrid',\n",
       " ['https://2017.hardrocx.no/produkt/forza-volante-team/',\n",
       "  'https://2017.hardrocx.no/produkt/shock-machine-29r/',\n",
       "  'https://2017.hardrocx.no/produkt/circo-volante-race/',\n",
       "  'https://2017.hardrocx.no/produkt/cam-c-29/'],\n",
       " '2017',\n",
       " 'hybrid',\n",
       " ['https://2017.hardrocx.no/produkt/stone-machine-29r/',\n",
       "  'https://2017.hardrocx.no/produkt/cam-c-29/',\n",
       "  'https://2017.hardrocx.no/produkt/circo-volante-team/',\n",
       "  'https://2017.hardrocx.no/produkt/helium-29r/'],\n",
       " '2017',\n",
       " 'hybrid',\n",
       " ['https://2017.hardrocx.no/produkt/super-m4-touringm4/',\n",
       "  'https://2017.hardrocx.no/produkt/shock-machine-27r/',\n",
       "  'https://2017.hardrocx.no/produkt/circo-volante-team/',\n",
       "  'https://2017.hardrocx.no/produkt/cambrium-sport-29r/'],\n",
       " '2017',\n",
       " 'hybrid',\n",
       " ['https://2017.hardrocx.no/produkt/mean-machine-24r/',\n",
       "  'https://2017.hardrocx.no/produkt/shock-machine-27r/',\n",
       "  'https://2017.hardrocx.no/produkt/super-m4-touringm4/',\n",
       "  'https://2017.hardrocx.no/produkt/cambrium-race-xx-29r/'],\n",
       " '2017',\n",
       " 'hybrid',\n",
       " ['https://2017.hardrocx.no/produkt/forza-volante-team/',\n",
       "  'https://2017.hardrocx.no/produkt/circo-volante-team-slr/',\n",
       "  'https://2017.hardrocx.no/produkt/mean-machine-26r/',\n",
       "  'https://2017.hardrocx.no/produkt/circo-volante-sl/'],\n",
       " '2017',\n",
       " 'hybrid',\n",
       " ['https://2017.hardrocx.no/produkt/forza-volante-team/',\n",
       "  'https://2017.hardrocx.no/produkt/circo-volante-team-sl/',\n",
       "  'https://2017.hardrocx.no/produkt/cambrium-race-29r/',\n",
       "  'https://2017.hardrocx.no/produkt/shock-machine-29r/'],\n",
       " '2017',\n",
       " 'hybrid',\n",
       " ['https://2017.hardrocx.no/produkt/forza-volante-limited/',\n",
       "  'https://2017.hardrocx.no/produkt/shock-machine-27r/',\n",
       "  'https://2017.hardrocx.no/produkt/circo-volante-team-sl/',\n",
       "  'https://2017.hardrocx.no/produkt/mean-machine-27r/'],\n",
       " '2017',\n",
       " 'hybrid',\n",
       " ['https://2017.hardrocx.no/produkt/super-m4-touringm4/',\n",
       "  'https://2017.hardrocx.no/produkt/circo-volante-sl-xx/',\n",
       "  'https://2017.hardrocx.no/produkt/psycho-volante/',\n",
       "  'https://2017.hardrocx.no/produkt/cambrium-sport-29r/'],\n",
       " '2017',\n",
       " 'hybrid',\n",
       " ['https://2017.hardrocx.no/produkt/mean-machine-27r/',\n",
       "  'https://2017.hardrocx.no/produkt/mean-machine-24r/',\n",
       "  'https://2017.hardrocx.no/produkt/cambrium-sport-29r/',\n",
       "  'https://2017.hardrocx.no/produkt/sport-machine-xx-24r/'],\n",
       " '2017',\n",
       " 'hybrid',\n",
       " ['https://2017.hardrocx.no/produkt/sport-machine-xx-24r/',\n",
       "  'https://2017.hardrocx.no/produkt/circo-volante-sl/',\n",
       "  'https://2017.hardrocx.no/produkt/circo-volante-team/',\n",
       "  'https://2017.hardrocx.no/produkt/cambrium-race-27r/'],\n",
       " '2017',\n",
       " 'hybrid',\n",
       " ['https://2017.hardrocx.no/produkt/mean-machine-24r/',\n",
       "  'https://2017.hardrocx.no/produkt/cambrium-race-27r/',\n",
       "  'https://2017.hardrocx.no/produkt/stone-machine-xx-27r/',\n",
       "  'https://2017.hardrocx.no/produkt/cambrium-race-xx-29r/'],\n",
       " '2017',\n",
       " 'hybrid',\n",
       " ['https://2017.hardrocx.no/produkt/mean-machine-24r/',\n",
       "  'https://2017.hardrocx.no/produkt/helium-29r/',\n",
       "  'https://2017.hardrocx.no/produkt/sport-machine-xx-24r/',\n",
       "  'https://2017.hardrocx.no/produkt/circo-volante-race/'],\n",
       " '2017',\n",
       " 'hybrid',\n",
       " ['https://2017.hardrocx.no/produkt/sport-machine-xx-24r/',\n",
       "  'https://2017.hardrocx.no/produkt/forza-volante-team/',\n",
       "  'https://2017.hardrocx.no/produkt/cambrium-sport-29r/',\n",
       "  'https://2017.hardrocx.no/produkt/circo-volante-team-slr/'],\n",
       " '2017',\n",
       " 'hybrid',\n",
       " ['https://2017.hardrocx.no/produkt/circo-volante-sl/',\n",
       "  'https://2017.hardrocx.no/produkt/mean-machine-24r/',\n",
       "  'https://2017.hardrocx.no/produkt/circo-volante-team-slr/',\n",
       "  'https://2017.hardrocx.no/produkt/circo-volante-team-sl/'],\n",
       " '2017',\n",
       " 'bysykkel',\n",
       " ['https://2017.hardrocx.no/produkt/forza-volante-team/',\n",
       "  'https://2017.hardrocx.no/produkt/stone-machine-xx-27r/',\n",
       "  'https://2017.hardrocx.no/produkt/mean-machine-27r/',\n",
       "  'https://2017.hardrocx.no/produkt/forza-volante-limited/'],\n",
       " '2017',\n",
       " 'bysykkel',\n",
       " ['https://2017.hardrocx.no/produkt/helium-29r/',\n",
       "  'https://2017.hardrocx.no/produkt/stone-machine-29r/',\n",
       "  'https://2017.hardrocx.no/produkt/psycho-volante/',\n",
       "  'https://2017.hardrocx.no/produkt/forza-volante-limited/'],\n",
       " '2017',\n",
       " 'bysykkel',\n",
       " ['https://2017.hardrocx.no/produkt/circo-volante-team-slr/',\n",
       "  'https://2017.hardrocx.no/produkt/cam-c-29/',\n",
       "  'https://2017.hardrocx.no/produkt/mean-machine-27r/',\n",
       "  'https://2017.hardrocx.no/produkt/mean-machine-26r/'],\n",
       " '2017',\n",
       " 'bysykkel']"
      ]
     },
     "execution_count": 69,
     "metadata": {},
     "output_type": "execute_result"
    }
   ],
   "source": [
    "links_to_insert"
   ]
  },
  {
   "cell_type": "code",
   "execution_count": 78,
   "id": "d850a65c-739a-4f9d-ab89-487c29f531f6",
   "metadata": {
    "jupyter": {
     "source_hidden": true
    },
    "tags": []
   },
   "outputs": [
    {
     "data": {
      "text/plain": [
       "'2018'"
      ]
     },
     "execution_count": 78,
     "metadata": {},
     "output_type": "execute_result"
    }
   ],
   "source": [
    "links_to_insert[1]"
   ]
  },
  {
   "cell_type": "code",
   "execution_count": 198,
   "id": "3cf54fe6-63de-4d58-9e1c-9b18ceee980d",
   "metadata": {
    "collapsed": true,
    "jupyter": {
     "outputs_hidden": true
    },
    "tags": []
   },
   "outputs": [
    {
     "name": "stdout",
     "output_type": "stream",
     "text": [
      "C elsykler\n",
      "0\n",
      "C elsykler\n",
      "3\n",
      "C elsykler\n",
      "6\n",
      "C hardtail\n",
      "9\n",
      "C hardtail\n",
      "12\n",
      "C hardtail\n",
      "15\n",
      "C hardtail\n",
      "18\n",
      "C hardtail\n",
      "21\n",
      "C hardtail\n",
      "24\n",
      "C hardtail\n",
      "27\n",
      "C hardtail\n",
      "30\n",
      "C hardtail\n",
      "33\n",
      "C hardtail\n",
      "36\n",
      "C hardtail\n",
      "39\n",
      "C hardtail\n",
      "42\n",
      "C rittfulldemper\n",
      "45\n",
      "C rittfulldemper\n",
      "48\n",
      "C rittfulldemper\n",
      "51\n",
      "C rittfulldemper\n",
      "54\n",
      "C stisykler\n",
      "57\n",
      "C stisykler\n",
      "60\n",
      "C xx\n",
      "63\n",
      "C xx\n",
      "66\n",
      "C xx\n",
      "69\n",
      "C xx\n",
      "72\n",
      "C xx\n",
      "75\n",
      "C junior\n",
      "78\n",
      "C junior\n",
      "81\n",
      "C hybrid\n",
      "84\n",
      "C hybrid\n",
      "87\n",
      "C hybrid\n",
      "90\n",
      "C hybrid\n",
      "93\n",
      "C hybrid\n",
      "96\n",
      "C hybrid\n",
      "99\n",
      "C hybrid\n",
      "102\n",
      "C hybrid\n",
      "105\n",
      "C landevei\n",
      "108\n",
      "C landevei\n",
      "111\n",
      "C landevei\n",
      "114\n",
      "C landevei\n",
      "117\n",
      "C landevei\n",
      "120\n",
      "C elsykler\n",
      "123\n",
      "C elsykler\n",
      "126\n",
      "C elsykler\n",
      "129\n",
      "C elsykler\n",
      "132\n",
      "C elsykler\n",
      "135\n",
      "C terreng\n",
      "138\n",
      "C terreng\n",
      "141\n",
      "C terreng\n",
      "144\n",
      "C terreng\n",
      "147\n",
      "C terreng\n",
      "150\n",
      "C terreng\n",
      "153\n",
      "C terreng\n",
      "156\n",
      "C terreng\n",
      "159\n",
      "C terreng\n",
      "162\n",
      "C terreng\n",
      "165\n",
      "C terreng\n",
      "168\n",
      "C terreng\n",
      "171\n",
      "C terreng\n",
      "174\n",
      "C terreng\n",
      "177\n",
      "C terreng\n",
      "180\n",
      "C terreng\n",
      "183\n",
      "C terreng\n",
      "186\n",
      "C xx\n",
      "189\n",
      "C xx\n",
      "192\n",
      "C xx\n",
      "195\n",
      "C xx\n",
      "198\n",
      "C xx\n",
      "201\n",
      "C fatbikes\n",
      "204\n",
      "C fatbikes\n",
      "207\n",
      "C fatbikes\n",
      "210\n",
      "C junior\n",
      "213\n",
      "C junior\n",
      "216\n",
      "C junior\n",
      "219\n",
      "C hybrid\n",
      "222\n",
      "C hybrid\n",
      "225\n",
      "C hybrid\n",
      "228\n",
      "C hybrid\n",
      "231\n",
      "C hybrid\n",
      "234\n",
      "C hybrid\n",
      "237\n",
      "C hybrid\n",
      "240\n",
      "C hybrid\n",
      "243\n",
      "C hybrid\n",
      "246\n",
      "C hybrid\n",
      "249\n",
      "C hybrid\n",
      "252\n",
      "C hybrid\n",
      "255\n",
      "C hybrid\n",
      "258\n",
      "C hybrid\n",
      "261\n",
      "C hybrid\n",
      "264\n",
      "C landevei\n",
      "267\n",
      "C landevei\n",
      "270\n",
      "C landevei\n",
      "273\n",
      "C landevei\n",
      "276\n",
      "C bysykkel\n",
      "279\n",
      "C bysykkel\n",
      "282\n",
      "C bysykkel\n",
      "285\n",
      "C bysykkel\n",
      "288\n"
     ]
    }
   ],
   "source": [
    "idx = 0\n",
    "box = []\n",
    "for  i in links_to_insert[::3]:\n",
    "    links = links_to_insert[idx]\n",
    "    \n",
    "    year = links_to_insert[idx+1]\n",
    "    if year == '2017':\n",
    "        box.extend(links)\n",
    "    print('C',links_to_insert[idx+2])\n",
    "    print(idx)\n",
    "    idx += 3\n",
    "    \n",
    "    for link in links:\n",
    "        driver.get(link)"
   ]
  },
  {
   "cell_type": "code",
   "execution_count": 199,
   "id": "028b8d5f-1e8e-44cb-843a-68a899a768ed",
   "metadata": {},
   "outputs": [
    {
     "data": {
      "text/plain": [
       "527"
      ]
     },
     "execution_count": 199,
     "metadata": {},
     "output_type": "execute_result"
    }
   ],
   "source": [
    "len(box)"
   ]
  },
  {
   "cell_type": "code",
   "execution_count": 200,
   "id": "c86deb1c-bac7-43a4-ad70-212875b05e8d",
   "metadata": {},
   "outputs": [
    {
     "data": {
      "text/plain": [
       "73"
      ]
     },
     "execution_count": 200,
     "metadata": {},
     "output_type": "execute_result"
    }
   ],
   "source": [
    "len(list(set(box)))"
   ]
  },
  {
   "cell_type": "code",
   "execution_count": 201,
   "id": "05d61a46-baef-4ffa-8437-5297d6ec8e96",
   "metadata": {},
   "outputs": [],
   "source": [
    "with open('list.pickle', 'wb') as handle:\n",
    "    pickle.dump(links_to_insert, handle, protocol=pickle.HIGHEST_PROTOCOL)"
   ]
  },
  {
   "cell_type": "code",
   "execution_count": 59,
   "id": "e0396303-473c-45f3-9207-53de10ddc7df",
   "metadata": {},
   "outputs": [],
   "source": [
    "pattern_link = re.compile(r'.*/(\\w+)')"
   ]
  },
  {
   "cell_type": "code",
   "execution_count": 60,
   "id": "c355454b-737f-4028-b1e8-14b90cef7344",
   "metadata": {},
   "outputs": [
    {
     "data": {
      "text/plain": [
       "'elsykler'"
      ]
     },
     "execution_count": 60,
     "metadata": {},
     "output_type": "execute_result"
    }
   ],
   "source": [
    "re.match(pattern_link, 'https://2017.hardrocx.no/produktkategori/sykler-2018/elsykler/').group(1)"
   ]
  },
  {
   "cell_type": "code",
   "execution_count": 94,
   "id": "e51b9c03-7c3c-4189-8f98-1280ef01ed9b",
   "metadata": {},
   "outputs": [],
   "source": [
    "driver.get(link)"
   ]
  },
  {
   "cell_type": "code",
   "execution_count": 98,
   "id": "9793de0c-f4cf-429b-8151-bb2ba37fe97a",
   "metadata": {},
   "outputs": [
    {
     "data": {
      "text/plain": [
       "'Colonel CXe'"
      ]
     },
     "execution_count": 98,
     "metadata": {},
     "output_type": "execute_result"
    }
   ],
   "source": [
    "driver.find_element_by_xpath('//h1').text"
   ]
  },
  {
   "cell_type": "code",
   "execution_count": null,
   "id": "1943f083-21e8-4b35-8935-03c876b93d9a",
   "metadata": {},
   "outputs": [],
   "source": []
  },
  {
   "cell_type": "code",
   "execution_count": null,
   "id": "65fe8d67-f060-4aef-acc0-031324a57fb9",
   "metadata": {},
   "outputs": [],
   "source": []
  },
  {
   "cell_type": "code",
   "execution_count": null,
   "id": "4503118a-6f55-4f65-a374-d0fd1d5c9c60",
   "metadata": {},
   "outputs": [],
   "source": []
  },
  {
   "cell_type": "code",
   "execution_count": null,
   "id": "3aeab68e-f528-4e46-81ee-ca2c4eb00710",
   "metadata": {},
   "outputs": [],
   "source": []
  },
  {
   "cell_type": "code",
   "execution_count": 51,
   "id": "aa219bc3-35fb-408c-bedf-9dae0c2e580b",
   "metadata": {},
   "outputs": [
    {
     "data": {
      "text/plain": [
       "['https://2017.hardrocx.no/produktkategori/sykler-2018/elsykler/elsykler-terreng/',\n",
       " 'https://2017.hardrocx.no/produktkategori/sykler-2018/elsykler/elsykler-hybrid/',\n",
       " 'https://2017.hardrocx.no/produktkategori/sykler-2018/elsykler/elsykler-classic/']"
      ]
     },
     "execution_count": 51,
     "metadata": {},
     "output_type": "execute_result"
    }
   ],
   "source": [
    " [i.get_attribute('href') for i in driver.find_elements_by_xpath('//ul[@class=\"products columns-2\"]//a')]"
   ]
  },
  {
   "cell_type": "code",
   "execution_count": 13,
   "id": "647af329-bb2e-4301-b6ca-48604299ab19",
   "metadata": {},
   "outputs": [],
   "source": [
    "main_links = [i.get_attribute('href') for i in driver.find_elements_by_xpath('//li[@class=\"product-category product first\"]/a')]"
   ]
  },
  {
   "cell_type": "code",
   "execution_count": null,
   "id": "d2b6993f-5cd0-4269-a6e8-833f20cde6a0",
   "metadata": {},
   "outputs": [],
   "source": []
  },
  {
   "cell_type": "code",
   "execution_count": 14,
   "id": "6c4c8f4a-5125-4249-bd84-46a9ccf85400",
   "metadata": {},
   "outputs": [],
   "source": [
    "driver.get(main_links[0])"
   ]
  },
  {
   "cell_type": "code",
   "execution_count": 16,
   "id": "8484b1c5-6622-4cb3-9d13-06d3daf77513",
   "metadata": {},
   "outputs": [],
   "source": [
    "second_links = [i.get_attribute('href') for i in driver.find_elements_by_xpath('//li[@class=\"product-category product first\"]/a')]"
   ]
  },
  {
   "cell_type": "code",
   "execution_count": 17,
   "id": "aeea8c1e-ad99-4ac4-9bb1-5fab2bfd1724",
   "metadata": {},
   "outputs": [],
   "source": [
    "driver.get(second_links[0])"
   ]
  },
  {
   "cell_type": "code",
   "execution_count": 18,
   "id": "55251e3a-1777-410b-90f6-de64c45a4a38",
   "metadata": {},
   "outputs": [
    {
     "data": {
      "text/plain": [
       "['https://2017.hardrocx.no/produkt/e-city-3/',\n",
       " 'https://2017.hardrocx.no/produkt/e-city-8/',\n",
       " 'https://2017.hardrocx.no/produkt/e-city-2-2/',\n",
       " 'https://2017.hardrocx.no/produkt/e-city-1/']"
      ]
     },
     "execution_count": 18,
     "metadata": {},
     "output_type": "execute_result"
    }
   ],
   "source": [
    "[i.get_attribute('href') for i in driver.find_elements_by_xpath('//a[@class=\"woocommerce-LoopProduct-link woocommerce-loop-product__link\"]')]"
   ]
  },
  {
   "cell_type": "code",
   "execution_count": 196,
   "id": "52eff2bb-4f3f-41bd-9bd3-189c635a4e32",
   "metadata": {},
   "outputs": [],
   "source": [
    "def get_links(urls):\n",
    "    box = []\n",
    "    for url in urls:\n",
    "        if '2018' in url:\n",
    "            year = '2018'\n",
    "        else:\n",
    "            year = '2017'\n",
    "\n",
    "        driver.get(url)\n",
    "        time.sleep(0.5)\n",
    "        main_links = tools.get_links_by_scralling(url, '//ul[@class=\"products columns-2\"]//li/a', driver=driver)\n",
    "        #main_links = [i.get_attribute('href') for i in driver.find_elements_by_xpath('//ul/li/a')]\n",
    "        print('P ', main_links[0])\n",
    "        for link in main_links:\n",
    "            category = re.match(pattern_link, link).group(1)\n",
    "            driver.get(link)\n",
    "            time.sleep(0.5)\n",
    "            second_links = tools.get_links_by_scralling(link, '//ul[@class=\"products columns-2\"]//a[@class=\"woocommerce-LoopProduct-link woocommerce-loop-product__link\"]', driver=driver)\n",
    "            #second_links = [i.get_attribute('href') for i in driver.find_elements_by_xpath('//a[@class=\"woocommerce-LoopProduct-link woocommerce-loop-product__link\"]')]\n",
    "            if second_links == []:\n",
    "                second_links =  [i.get_attribute('href') for i in driver.find_elements_by_xpath('//ul[@class=\"products columns-2\"]//a')]\n",
    "#                 box_s = []\n",
    "#                 for i in second_links:\n",
    "#                      box_s.extend([i.get_attribute('href') for i in driver.find_elements_by_xpath('//a[@class=\"woocommerce-LoopProduct-link woocommerce-loop-product__link\"]')])\n",
    "#                 second_links = box_s\n",
    "            \n",
    "            print('S ', second_links)\n",
    "            for s in second_links:\n",
    "                driver.get(s)\n",
    "                time.sleep(0.5)\n",
    "                r = [i.get_attribute('href') for i in driver.find_elements_by_xpath('//ul[@class=\"products columns-2\"]//a[@class=\"woocommerce-LoopProduct-link woocommerce-loop-product__link\"]')]\n",
    "                print('R ', r)\n",
    "                if r == []:\n",
    "                    r = second_links\n",
    "                box.extend((r,year, category))\n",
    "    return box"
   ]
  },
  {
   "cell_type": "code",
   "execution_count": null,
   "id": "214be090-f342-44c2-a860-991a5c7a3cba",
   "metadata": {},
   "outputs": [],
   "source": []
  },
  {
   "cell_type": "code",
   "execution_count": 89,
   "id": "3385f0ca-5e50-4908-9123-363e3169d747",
   "metadata": {},
   "outputs": [],
   "source": [
    "driver.get('https://2017.hardrocx.no/produkt/chubster-e-3000/')"
   ]
  },
  {
   "cell_type": "code",
   "execution_count": 5,
   "id": "3cd74ca0-4b8a-4dc6-b893-3dcbdd90f80c",
   "metadata": {},
   "outputs": [
    {
     "data": {
      "text/plain": [
       "['https://www.hardrocx.no/no/bikes/2019/p/circo-volante-xx-2020',\n",
       " 'https://www.hardrocx.no/no/bikes/2019/p/helium-xx-29r-2020',\n",
       " 'https://www.hardrocx.no/no/bikes/2019/p/sport-machine-xx-27r-2020',\n",
       " 'https://www.hardrocx.no/no/bikes/2019/p/sport-machine-xx-24r-jente']"
      ]
     },
     "execution_count": 5,
     "metadata": {},
     "output_type": "execute_result"
    }
   ],
   "source": [
    "tools.get_links_by_scralling('https://www.hardrocx.no/no/bikes/2021/lady', '//a[@class=\"bikes-list__item\"]', driver=driver)"
   ]
  },
  {
   "cell_type": "code",
   "execution_count": 13,
   "id": "ddac60c4-c931-48f4-bf65-2392f2d17d25",
   "metadata": {},
   "outputs": [
    {
     "data": {
      "text/plain": [
       "['https://www.hardrocx.no/no/bikes/2019/p/circo-volante-xx-2020',\n",
       " 'https://www.hardrocx.no/no/bikes/2019/p/helium-xx-29r-2020',\n",
       " 'https://www.hardrocx.no/no/bikes/2019/p/sport-machine-xx-27r-2020',\n",
       " 'https://www.hardrocx.no/no/bikes/2019/p/sport-machine-xx-24r-jente']"
      ]
     },
     "execution_count": 13,
     "metadata": {},
     "output_type": "execute_result"
    }
   ],
   "source": [
    "[i.get_attribute('href') for i in driver.find_elements_by_xpath('//a[@class=\"bikes-list__item\"]')]"
   ]
  },
  {
   "cell_type": "code",
   "execution_count": null,
   "id": "d186ecfc-db96-4b74-8b8c-c3efed545b94",
   "metadata": {},
   "outputs": [],
   "source": [
    " [i.get_attribute('href') for i in driver.find_elements_by_xpath('//a[@class=\"bikes-list__item\"]')]"
   ]
  },
  {
   "cell_type": "code",
   "execution_count": 99,
   "id": "1b24ffc2-46d1-41f1-93b1-b26bd73ae959",
   "metadata": {},
   "outputs": [
    {
     "data": {
      "text/plain": [
       "'RR-6 Disc karbon'"
      ]
     },
     "execution_count": 99,
     "metadata": {},
     "output_type": "execute_result"
    }
   ],
   "source": [
    "driver.find_element_by_xpath('//tr[contains(., \"Ramme\")]//td').text"
   ]
  },
  {
   "cell_type": "code",
   "execution_count": 15,
   "id": "f43272c5-427d-4b2e-9834-11835a560fff",
   "metadata": {},
   "outputs": [
    {
     "data": {
      "text/plain": [
       "'https://storage.googleapis.com/hardrocx-no.appspot.com/2021/09/799ba6c4-2210e-hard-rocx-el-chubster-ep8-2022.jpg'"
      ]
     },
     "execution_count": 15,
     "metadata": {},
     "output_type": "execute_result"
    }
   ],
   "source": [
    "driver.find_element_by_xpath('//div[@class=\"carousel__item\"]/img').get_attribute('src')"
   ]
  },
  {
   "cell_type": "code",
   "execution_count": 29,
   "id": "5f157877-e4ca-4861-9eb5-bf45713a8c25",
   "metadata": {},
   "outputs": [],
   "source": [
    "url = 'https://www.hardrocx.no/no/bikes/2021/electric'"
   ]
  },
  {
   "cell_type": "code",
   "execution_count": 30,
   "id": "e5d1c74e-ba4d-45a9-a05b-a8569e6763ff",
   "metadata": {},
   "outputs": [],
   "source": [
    "pattern_link = re.compile(r'.*/no/bikes/?(\\d+)*/(\\w*)')"
   ]
  },
  {
   "cell_type": "code",
   "execution_count": 32,
   "id": "d95d0377-330e-4106-8528-02dba8ca7d3b",
   "metadata": {},
   "outputs": [
    {
     "data": {
      "text/plain": [
       "'2021'"
      ]
     },
     "execution_count": 32,
     "metadata": {},
     "output_type": "execute_result"
    }
   ],
   "source": [
    "re.match(pattern_link, url).group(1)"
   ]
  },
  {
   "cell_type": "code",
   "execution_count": 202,
   "id": "7b82d7f8-b955-4893-9396-b05fb4d15f70",
   "metadata": {},
   "outputs": [],
   "source": [
    "df = pd.read_excel('//mnt/c/Users/cesar/Desktop/fj/results_f.xlsx')"
   ]
  },
  {
   "cell_type": "code",
   "execution_count": 203,
   "id": "953d36c2-2f01-4133-aca2-d1817a083950",
   "metadata": {},
   "outputs": [
    {
     "data": {
      "text/plain": [
       "Index(['Link', 'Electric', 'Brand', 'Model', 'Year', 'Image', 'Price',\n",
       "       'Category', 'Wheels', 'Frame', 'Suspension Fork', 'Rear Derailleur',\n",
       "       'Shift Levers', 'Cassette', 'Crank', 'Bottom Bracket', 'Chain',\n",
       "       'Pedals', 'Rims', 'Tires', 'Brakes', 'Stem', 'Handlebar', 'Grips',\n",
       "       'Headset', 'Saddle', 'Seatpost', 'Motor', 'Battery', 'Charger',\n",
       "       'Remote', 'Front Derailleur', 'Chain Guide', 'Brake Levers',\n",
       "       'Rear Shock', 'Disk Rotors', 'Front Hub', 'Rear Hub', 'Spokes',\n",
       "       'Chain Tensioner'],\n",
       "      dtype='object')"
      ]
     },
     "execution_count": 203,
     "metadata": {},
     "output_type": "execute_result"
    }
   ],
   "source": [
    "df.columns"
   ]
  },
  {
   "cell_type": "code",
   "execution_count": 204,
   "id": "11de1fad-9efc-4d8d-b04d-cb5927a27f83",
   "metadata": {},
   "outputs": [
    {
     "data": {
      "text/plain": [
       "0            Trek\n",
       "1            Trek\n",
       "2            Trek\n",
       "3            Trek\n",
       "4            Trek\n",
       "           ...   \n",
       "13663    Hardrocx\n",
       "13664    Hardrocx\n",
       "13665    Hardrocx\n",
       "13666    Hardrocx\n",
       "13667    Hardrocx\n",
       "Name: Brand, Length: 13668, dtype: object"
      ]
     },
     "execution_count": 204,
     "metadata": {},
     "output_type": "execute_result"
    }
   ],
   "source": [
    "df['Brand']"
   ]
  },
  {
   "cell_type": "code",
   "execution_count": 205,
   "id": "8e03f548-6643-48a3-bed6-bc6f20066595",
   "metadata": {},
   "outputs": [
    {
     "data": {
      "text/html": [
       "<div>\n",
       "<style scoped>\n",
       "    .dataframe tbody tr th:only-of-type {\n",
       "        vertical-align: middle;\n",
       "    }\n",
       "\n",
       "    .dataframe tbody tr th {\n",
       "        vertical-align: top;\n",
       "    }\n",
       "\n",
       "    .dataframe thead th {\n",
       "        text-align: right;\n",
       "    }\n",
       "</style>\n",
       "<table border=\"1\" class=\"dataframe\">\n",
       "  <thead>\n",
       "    <tr style=\"text-align: right;\">\n",
       "      <th></th>\n",
       "      <th>Model</th>\n",
       "      <th>Brand</th>\n",
       "    </tr>\n",
       "  </thead>\n",
       "  <tbody>\n",
       "    <tr>\n",
       "      <th>0</th>\n",
       "      <td>District 2 Equipped Lowstep</td>\n",
       "      <td>Trek</td>\n",
       "    </tr>\n",
       "    <tr>\n",
       "      <th>1</th>\n",
       "      <td>District</td>\n",
       "      <td>Trek</td>\n",
       "    </tr>\n",
       "    <tr>\n",
       "      <th>2</th>\n",
       "      <td>District</td>\n",
       "      <td>Trek</td>\n",
       "    </tr>\n",
       "    <tr>\n",
       "      <th>3</th>\n",
       "      <td>District Carbon</td>\n",
       "      <td>Trek</td>\n",
       "    </tr>\n",
       "    <tr>\n",
       "      <th>4</th>\n",
       "      <td>District</td>\n",
       "      <td>Trek</td>\n",
       "    </tr>\n",
       "  </tbody>\n",
       "</table>\n",
       "</div>"
      ],
      "text/plain": [
       "                          Model Brand\n",
       "0   District 2 Equipped Lowstep  Trek\n",
       "1                      District  Trek\n",
       "2                      District  Trek\n",
       "3               District Carbon  Trek\n",
       "4                      District  Trek"
      ]
     },
     "execution_count": 205,
     "metadata": {},
     "output_type": "execute_result"
    }
   ],
   "source": [
    "df[['Model','Brand']].head()"
   ]
  },
  {
   "cell_type": "code",
   "execution_count": 206,
   "id": "1267b97a-ce3c-498a-8469-f3ba4e3ffd24",
   "metadata": {},
   "outputs": [],
   "source": [
    "def ex(x):\n",
    "    for idx, model in enumerate(x.Model):\n",
    "        if type(x.Brand[idx]) == str and type(x.Model[idx]) == str:\n",
    "            if  x.Brand[idx] in model:\n",
    "                x.Model[idx] = model.replace(x.Brand[idx], '')\n",
    "    return x "
   ]
  },
  {
   "cell_type": "code",
   "execution_count": 207,
   "id": "f023cea1-09cb-4dd8-9e55-fe9976b9de43",
   "metadata": {
    "tags": []
   },
   "outputs": [],
   "source": [
    "df[['Model','Brand']] = ex(df[['Model','Brand']])"
   ]
  },
  {
   "cell_type": "code",
   "execution_count": 213,
   "id": "9d0978d2-fe40-4099-86ea-eb738f74a63a",
   "metadata": {},
   "outputs": [],
   "source": [
    "df = df.drop_duplicates(subset=['Link','Brand','Model'])"
   ]
  },
  {
   "cell_type": "code",
   "execution_count": 214,
   "id": "816bf8c6-9215-48b9-8ee8-47a01d14eb5c",
   "metadata": {},
   "outputs": [
    {
     "data": {
      "text/plain": [
       "(13538, 40)"
      ]
     },
     "execution_count": 214,
     "metadata": {},
     "output_type": "execute_result"
    }
   ],
   "source": [
    "df.shape"
   ]
  },
  {
   "cell_type": "code",
   "execution_count": 209,
   "id": "63b020c3-2ce2-4379-a420-fb9ab0045470",
   "metadata": {},
   "outputs": [
    {
     "data": {
      "text/plain": [
       "(13668, 40)"
      ]
     },
     "execution_count": 209,
     "metadata": {},
     "output_type": "execute_result"
    }
   ],
   "source": [
    "df.shape"
   ]
  },
  {
   "cell_type": "code",
   "execution_count": 215,
   "id": "1cbb0c68-8c2c-4018-810b-eebe47a2eea8",
   "metadata": {},
   "outputs": [],
   "source": [
    "def replacex(x):\n",
    "    if x == 1:\n",
    "        x = True\n",
    "    else:\n",
    "        x = False\n",
    "    return x"
   ]
  },
  {
   "cell_type": "code",
   "execution_count": 216,
   "id": "fa672955-d4fe-4b85-8987-ed1af20e5656",
   "metadata": {},
   "outputs": [
    {
     "name": "stderr",
     "output_type": "stream",
     "text": [
      "/tmp/ipykernel_3166/2570209770.py:1: SettingWithCopyWarning: \n",
      "A value is trying to be set on a copy of a slice from a DataFrame.\n",
      "Try using .loc[row_indexer,col_indexer] = value instead\n",
      "\n",
      "See the caveats in the documentation: https://pandas.pydata.org/pandas-docs/stable/user_guide/indexing.html#returning-a-view-versus-a-copy\n",
      "  df['Electric'] = df['Electric'].apply(lambda x :  replacex(x))\n"
     ]
    }
   ],
   "source": [
    "df['Electric'] = df['Electric'].apply(lambda x :  replacex(x))"
   ]
  },
  {
   "cell_type": "code",
   "execution_count": 217,
   "id": "b41795d6-9e4d-419c-8f0b-268810f70622",
   "metadata": {},
   "outputs": [],
   "source": [
    "df.to_excel('//mnt/c/Users/cesar/Desktop/fj/results_f.xlsx', index=False)"
   ]
  },
  {
   "cell_type": "code",
   "execution_count": null,
   "id": "4c634819-e69d-421b-a57d-7783d6222c1b",
   "metadata": {},
   "outputs": [],
   "source": []
  }
 ],
 "metadata": {
  "kernelspec": {
   "display_name": "Python [conda env:ws]",
   "language": "python",
   "name": "conda-env-ws-py"
  },
  "language_info": {
   "codemirror_mode": {
    "name": "ipython",
    "version": 3
   },
   "file_extension": ".py",
   "mimetype": "text/x-python",
   "name": "python",
   "nbconvert_exporter": "python",
   "pygments_lexer": "ipython3",
   "version": "3.9.7"
  }
 },
 "nbformat": 4,
 "nbformat_minor": 5
}
