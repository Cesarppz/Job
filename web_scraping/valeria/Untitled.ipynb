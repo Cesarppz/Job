{
 "cells": [
  {
   "cell_type": "code",
   "execution_count": 1,
   "id": "95f5a572-1c45-44c3-9e0f-27ba7864e95b",
   "metadata": {},
   "outputs": [],
   "source": [
    "import time\n",
    "import pandas as pd\n",
    "\n",
    "from IPython.display import clear_output \n"
   ]
  },
  {
   "cell_type": "code",
   "execution_count": 16,
   "id": "ddfcaf8c-b7da-4bb2-931e-7d9673784d20",
   "metadata": {},
   "outputs": [],
   "source": [
    "from selenium import webdriver\n",
    "from selenium.webdriver.chrome.service import Service\n",
    "from webdriver_manager.chrome import ChromeDriverManager\n",
    "\n",
    "options = webdriver.ChromeOptions()\n",
    "driver = webdriver.Chrome(service=Service(ChromeDriverManager().install()))\n",
    "driver.get(\"https://www.google.com\")"
   ]
  },
  {
   "cell_type": "code",
   "execution_count": 17,
   "id": "c4736be7-64be-4e3e-87d9-962235370d13",
   "metadata": {},
   "outputs": [],
   "source": [
    "def scroll():\n",
    "    previous_heigth = driver.execute_script('return document.body.scrollHeight')\n",
    "    while True:\n",
    "        driver.execute_script('window.scrollTo(0,document.body.scrollHeight);')\n",
    "        time.sleep(5)\n",
    "        new_heigth = driver.execute_script('return document.body.scrollHeight')\n",
    "        if new_heigth == previous_heigth:\n",
    "            break\n",
    "        previous_heigth = new_heigth"
   ]
  },
  {
   "cell_type": "code",
   "execution_count": 18,
   "id": "bd4d5997-660a-4eca-89b5-a36eca51d4b0",
   "metadata": {},
   "outputs": [],
   "source": [
    "driver.get('https://app.onepagecrm.com/dashboard')"
   ]
  },
  {
   "cell_type": "markdown",
   "id": "3ae15bed-20a9-43f1-95a8-e8291d3ce57e",
   "metadata": {},
   "source": [
    "### Credenciales\n",
    "\n",
    "    https://app.onepagecrm.com/dashboard\n",
    "    valeria@comprayventa.ca\n",
    "    val18052003!"
   ]
  },
  {
   "cell_type": "code",
   "execution_count": 20,
   "id": "09ecf295-924f-4847-9aa4-a1576a524ba1",
   "metadata": {},
   "outputs": [],
   "source": [
    "scroll()"
   ]
  },
  {
   "cell_type": "code",
   "execution_count": 106,
   "id": "512d9745-fbb3-4aba-8cb2-c9e88481f255",
   "metadata": {},
   "outputs": [
    {
     "data": {
      "text/plain": [
       "1056"
      ]
     },
     "execution_count": 106,
     "metadata": {},
     "output_type": "execute_result"
    }
   ],
   "source": [
    "len(driver.find_elements('xpath', '//div[@class=\"email-area more-data\"]//a[@class=\"show_email_popup\"]'))"
   ]
  },
  {
   "cell_type": "code",
   "execution_count": null,
   "id": "975d938c-717a-45eb-9cc0-775507c1994e",
   "metadata": {},
   "outputs": [
    {
     "data": {
      "text/plain": [
       "'info@1-2-1travel.net'"
      ]
     },
     "execution_count": 41,
     "metadata": {},
     "output_type": "execute_result"
    }
   ],
   "source": [
    "driver.find_element('xpath', '//div[@class=\"email-area more-data\"]//a[@class=\"show_email_popup\"]').text"
   ]
  },
  {
   "cell_type": "code",
   "execution_count": 21,
   "id": "524f4422-f93d-4b41-a521-33548d124586",
   "metadata": {},
   "outputs": [],
   "source": [
    "box_a = driver.find_elements('xpath', '//div[@class=\"email-area more-data\"]//a[@class=\"show_email_popup\"]')"
   ]
  },
  {
   "cell_type": "code",
   "execution_count": 23,
   "id": "156d751c-2ea1-4c44-bea3-e4897cb5f379",
   "metadata": {},
   "outputs": [],
   "source": [
    "box_a[0].click()"
   ]
  },
  {
   "cell_type": "code",
   "execution_count": 43,
   "id": "849c635c-562c-43ca-b492-a7efbda246a7",
   "metadata": {
    "jupyter": {
     "source_hidden": true
    },
    "tags": []
   },
   "outputs": [],
   "source": [
    "list_emails = [\n",
    "    'admin@neoartismo.com',\n",
    "    'alex@mimoskidsart.com',\n",
    "    'beckysvideo@hotmail.com',\n",
    "    'dreamworld201515@yahoo.com',\n",
    "    'hermes@mangococo.ca',\n",
    "    'hola@elsazonmexicano.ca',\n",
    "    'info@archiesmango.com',\n",
    "    'Info@bravoconstructioncompany.com',\n",
    "    'info@cabasdesignstudio.com',\n",
    "    'info@canadavideocompanies.ca',\n",
    "    'info@clinicafinanciera.com',\n",
    "    'info@conarq.ca',\n",
    "    'info@internationalsportsbarandeatery.com',\n",
    "    'info@invisiblescreens.ca',\n",
    "    'info@ipmna.com',\n",
    "    'info@languageadventure.ca',\n",
    "    'info@libreriapandevida.com',\n",
    "    'info@stclairtaxandservices.com',\n",
    "    'info@studyclc.com',\n",
    "    'info@torontosalsapassion.com',\n",
    "    'jasonadriao@yahoo.ca',\n",
    "    'jvillalobos@bravomaniacargo.ca',\n",
    "    'mgt@delightfuldecorcrafts.ca',\n",
    "    'mrangel@torontoshipping.ca',\n",
    "    'sales@twsi.ca',\n",
    "    'tralixcustomconcrete@gmail.com',\n",
    "    'info@macondoartisans.com',\n",
    "    'info@thegiftbarbershop​.com',\n",
    "\n",
    "]"
   ]
  },
  {
   "cell_type": "code",
   "execution_count": 80,
   "id": "f0d6611a-de5e-4494-8d86-2a292318fb57",
   "metadata": {},
   "outputs": [],
   "source": [
    "defectuosos = []"
   ]
  },
  {
   "cell_type": "code",
   "execution_count": null,
   "id": "0676c7d9-697a-40c6-9a7a-bba082843abf",
   "metadata": {},
   "outputs": [
    {
     "data": {
      "text/plain": [
       "'jqbusiness@yahoo.com'"
      ]
     },
     "execution_count": 61,
     "metadata": {},
     "output_type": "execute_result"
    }
   ],
   "source": [
    "i.text"
   ]
  },
  {
   "cell_type": "code",
   "execution_count": null,
   "id": "fc68208c-1bd0-4579-85bc-1def3ae5b7ba",
   "metadata": {},
   "outputs": [
    {
     "data": {
      "text/plain": [
       "<selenium.webdriver.remote.webelement.WebElement (session=\"b186d845021138f259514c6475246df9\", element=\"f5fd1035-ce48-43ed-9cfa-d976fd4901a1\")>"
      ]
     },
     "execution_count": 67,
     "metadata": {},
     "output_type": "execute_result"
    }
   ],
   "source": []
  },
  {
   "cell_type": "code",
   "execution_count": null,
   "id": "52690cdd-60e7-448d-b143-259d24ed3a9b",
   "metadata": {},
   "outputs": [],
   "source": [
    "# 261 falta"
   ]
  },
  {
   "cell_type": "code",
   "execution_count": 109,
   "id": "a1007f06-0909-47ba-970b-34db501db5a5",
   "metadata": {
    "tags": []
   },
   "outputs": [
    {
     "data": {
      "text/plain": [
       "'iris.lopez@intrendmortgage.com'"
      ]
     },
     "execution_count": 109,
     "metadata": {},
     "output_type": "execute_result"
    }
   ],
   "source": [
    "box_a[519].text"
   ]
  },
  {
   "cell_type": "code",
   "execution_count": 2,
   "id": "4bb02d20-4ca1-40bd-b3ce-c4cec4d6a8bf",
   "metadata": {},
   "outputs": [
    {
     "data": {
      "text/plain": [
       "507"
      ]
     },
     "execution_count": 2,
     "metadata": {},
     "output_type": "execute_result"
    }
   ],
   "source": [
    "519-12"
   ]
  },
  {
   "cell_type": "code",
   "execution_count": 93,
   "id": "61b2fde7-21d6-486e-b084-d83b6deaf11b",
   "metadata": {},
   "outputs": [
    {
     "data": {
      "text/plain": [
       "519"
      ]
     },
     "execution_count": 93,
     "metadata": {},
     "output_type": "execute_result"
    }
   ],
   "source": [
    "270 + 262 - 1 - 12"
   ]
  },
  {
   "cell_type": "code",
   "execution_count": 4,
   "id": "7671a0a3-a42c-4cbc-a645-10918189ebdb",
   "metadata": {},
   "outputs": [
    {
     "data": {
      "text/plain": [
       "1019"
      ]
     },
     "execution_count": 4,
     "metadata": {},
     "output_type": "execute_result"
    }
   ],
   "source": [
    "270 + 749"
   ]
  },
  {
   "cell_type": "code",
   "execution_count": 39,
   "id": "62228489-ba6e-4c08-bd71-658b873fcaca",
   "metadata": {},
   "outputs": [
    {
     "data": {
      "text/plain": [
       "'directorioprinting@gmail.com'"
      ]
     },
     "execution_count": 39,
     "metadata": {},
     "output_type": "execute_result"
    }
   ],
   "source": [
    "box_a[1017].text"
   ]
  },
  {
   "cell_type": "code",
   "execution_count": 13,
   "id": "1ed80206-1b04-410b-ab94-5259f17fbe92",
   "metadata": {
    "collapsed": true,
    "jupyter": {
     "outputs_hidden": true
    },
    "tags": []
   },
   "outputs": [
    {
     "data": {
      "text/plain": [
       "['directorioprinting@gmail.com',\n",
       " 'info@vitalmobility.ca',\n",
       " 'viudanegramusic@gmail.com',\n",
       " 'info@voicetoword.ca',\n",
       " 'victoria@vrlaw.ca',\n",
       " 'info@vwat.org',\n",
       " 'info@waddellinsurance.com',\n",
       " 'lorena@wandertravel.com',\n",
       " 'weston@wardfh.com',\n",
       " 'info@waterloodentistoffice.ca',\n",
       " 'contact@webcreativedesigns.com',\n",
       " 'wellesleyanimalhospital@gmail.com',\n",
       " 'info@whitegoldfinancial.com',\n",
       " 'adriana.whiteside@gmail.com',\n",
       " 'operations@mortgagecentre.com',\n",
       " 'william@willystires.ca',\n",
       " 'william@willystires.ca',\n",
       " 'tacuruses1948@gmail.com',\n",
       " 'info@wintoninternational.com',\n",
       " 'info@woodbinebanquet.com',\n",
       " 'digitalphone@wlink.ca',\n",
       " 'info@workingbugdesigns.com',\n",
       " 'info@workvantage.ca',\n",
       " 'marketing@realtypoint.ca',\n",
       " 'info@wstudyhub.com',\n",
       " 'veronica@wynfordlegal.com',\n",
       " 'veronica@wynfordlegal.com',\n",
       " 'xtremebeautyto@gmail.com',\n",
       " 'info@midtownhonda.com',\n",
       " 'info@ymvisacanada.com',\n",
       " 'info@ywalc.ca',\n",
       " 'info@ywalc.ca',\n",
       " 'sales@yorkdaletoyota.com',\n",
       " 'love3dlashes@aol.com',\n",
       " 'admin@beautydel.com',\n",
       " 'info@yourmortgageconnection.ca',\n",
       " 'info@zarolialaw.com',\n",
       " 'info@zaylaw.com']"
      ]
     },
     "execution_count": 13,
     "metadata": {},
     "output_type": "execute_result"
    }
   ],
   "source": [
    "[i.text for i in box_a[1017:]]"
   ]
  },
  {
   "cell_type": "code",
   "execution_count": 29,
   "id": "6de81127-3391-4485-acf4-402fecaef520",
   "metadata": {},
   "outputs": [],
   "source": [
    "df = pd.read_excel('//mnt/c/Users/cesar/Downloads/Base data - Compra y Venta app.xlsx')"
   ]
  },
  {
   "cell_type": "code",
   "execution_count": 37,
   "id": "e39534ac-db58-410c-8158-0ab227620e48",
   "metadata": {},
   "outputs": [],
   "source": [
    "list_emails = list(df['Email '])"
   ]
  },
  {
   "cell_type": "code",
   "execution_count": null,
   "id": "eb87dee7-0065-4953-8ff5-dacbd7291034",
   "metadata": {},
   "outputs": [],
   "source": []
  },
  {
   "cell_type": "code",
   "execution_count": 41,
   "id": "65ddda12-4738-45d1-a9bb-28cc799766a7",
   "metadata": {
    "tags": []
   },
   "outputs": [
    {
     "name": "stdout",
     "output_type": "stream",
     "text": [
      "Scraping info@vitalmobility.ca ...\n",
      "1018/1055\n",
      "Scraping viudanegramusic@gmail.com ...\n",
      "1019/1055\n",
      "Scraping info@voicetoword.ca ...\n",
      "1020/1055\n",
      "Scraping victoria@vrlaw.ca ...\n",
      "1021/1055\n",
      "Scraping info@vwat.org ...\n",
      "1022/1055\n",
      "Scraping info@waddellinsurance.com ...\n",
      "1023/1055\n",
      "Scraping lorena@wandertravel.com ...\n",
      "1024/1055\n",
      "Scraping weston@wardfh.com ...\n",
      "1025/1055\n",
      "Scraping info@waterloodentistoffice.ca ...\n",
      "1026/1055\n",
      "Scraping contact@webcreativedesigns.com ...\n",
      "1027/1055\n",
      "Scraping wellesleyanimalhospital@gmail.com ...\n",
      "1028/1055\n",
      "Scraping info@whitegoldfinancial.com ...\n",
      "1029/1055\n",
      "Scraping adriana.whiteside@gmail.com ...\n",
      "1030/1055\n",
      "Scraping operations@mortgagecentre.com ...\n",
      "1031/1055\n",
      "Scraping william@willystires.ca ...\n",
      "1032/1055\n",
      "Scraping william@willystires.ca ...\n",
      "1033/1055\n",
      "Scraping tacuruses1948@gmail.com ...\n",
      "1034/1055\n",
      "Scraping info@wintoninternational.com ...\n",
      "1035/1055\n",
      "Scraping info@woodbinebanquet.com ...\n",
      "1036/1055\n",
      "Scraping digitalphone@wlink.ca ...\n",
      "1037/1055\n",
      "Scraping info@workingbugdesigns.com ...\n",
      "1038/1055\n",
      "Scraping info@workvantage.ca ...\n",
      "1039/1055\n",
      "Scraping marketing@realtypoint.ca ...\n",
      "1040/1055\n",
      "Scraping info@wstudyhub.com ...\n",
      "1041/1055\n",
      "Scraping veronica@wynfordlegal.com ...\n",
      "1042/1055\n",
      "Scraping veronica@wynfordlegal.com ...\n",
      "1043/1055\n",
      "Scraping xtremebeautyto@gmail.com ...\n",
      "1044/1055\n",
      "Scraping info@midtownhonda.com ...\n",
      "1045/1055\n",
      "Scraping info@ymvisacanada.com ...\n",
      "1046/1055\n",
      "Scraping info@ywalc.ca ...\n",
      "1047/1055\n",
      "Scraping info@ywalc.ca ...\n",
      "1048/1055\n",
      "Scraping sales@yorkdaletoyota.com ...\n",
      "1049/1055\n",
      "Scraping love3dlashes@aol.com ...\n",
      "1050/1055\n",
      "Scraping admin@beautydel.com ...\n",
      "1051/1055\n",
      "Scraping info@yourmortgageconnection.ca ...\n",
      "1052/1055\n",
      "Scraping info@zarolialaw.com ...\n",
      "1053/1055\n",
      "Scraping info@zaylaw.com ...\n",
      "1054/1055\n"
     ]
    }
   ],
   "source": [
    "for idx, i in enumerate(box_a[1018:]):\n",
    "    try:\n",
    "        #filter\n",
    "        email = i.text\n",
    "        print(f'Scraping {email} ...')\n",
    "        print(f'{idx+1018}/{len(box_a)}')\n",
    "        if email in list_emails:\n",
    "            continue\n",
    "\n",
    "        #click en el correo\n",
    "        i.click()\n",
    "        time.sleep(1)\n",
    "\n",
    "        #Click en template\n",
    "        try:\n",
    "            driver.find_element('xpath', '//span[@class=\"template\"]').click()\n",
    "            time.sleep(3)\n",
    "\n",
    "            #Click en el tipo de template\n",
    "            driver.find_element('xpath', '//a[@title=\"Second Email\"]').click()\n",
    "            time.sleep(3)\n",
    "\n",
    "            # Enviar\n",
    "            driver.find_element('xpath', '//a[@class=\"submit_button button btn_primary-small\"]').click()\n",
    "\n",
    "\n",
    "        except:\n",
    "            driver.find_element('xpath','//h3[@class=\"confirmation-header\"]')\n",
    "            driver.find_element('xpath','//a[@title=\"Ok\"]').click()\n",
    "            defectuosos.append(email)\n",
    "\n",
    "        time.sleep(5)\n",
    "    #     clear_output(wait=True)\n",
    "    except Exception as ex:\n",
    "        print(ex)\n",
    "        break\n",
    "\n",
    "    "
   ]
  }
 ],
 "metadata": {
  "kernelspec": {
   "display_name": "Python [conda env:ws]",
   "language": "python",
   "name": "conda-env-ws-py"
  },
  "language_info": {
   "codemirror_mode": {
    "name": "ipython",
    "version": 3
   },
   "file_extension": ".py",
   "mimetype": "text/x-python",
   "name": "python",
   "nbconvert_exporter": "python",
   "pygments_lexer": "ipython3",
   "version": "3.9.7"
  }
 },
 "nbformat": 4,
 "nbformat_minor": 5
}
