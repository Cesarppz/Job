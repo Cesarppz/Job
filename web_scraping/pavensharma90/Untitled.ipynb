{
 "cells": [
  {
   "cell_type": "code",
   "execution_count": 1,
   "id": "614dbfb8-0ac5-4fc5-9c73-dec14b8a6d58",
   "metadata": {},
   "outputs": [],
   "source": [
    "import pandas as pd\n",
    "import re\n",
    "from pdfminer.high_level import extract_text, extract_pages, extract_text_to_fp\n",
    "from pdfminer.layout import LAParams\n",
    "from io import StringIO\n",
    "\n",
    "from PyPDF2 import PdfReader"
   ]
  },
  {
   "cell_type": "code",
   "execution_count": 2,
   "id": "2dd4a77b-9faf-4e2f-8ac5-85830f616f2b",
   "metadata": {},
   "outputs": [],
   "source": [
    "filename = '//mnt/c/Users/cesar/Downloads/temp_file.pdf'"
   ]
  },
  {
   "cell_type": "code",
   "execution_count": 13,
   "id": "8b15549e-20e7-4f0f-b686-1c81ea070fb2",
   "metadata": {},
   "outputs": [],
   "source": [
    "output_string = StringIO()"
   ]
  },
  {
   "cell_type": "code",
   "execution_count": 7,
   "id": "1f4ad540-ddfe-4043-b003-4a56bf1802ea",
   "metadata": {},
   "outputs": [],
   "source": [
    "text = extract_text('//mnt/c/Users/cesar/Downloads/Decision Reference DRN-3495666 - DRN-3495666.pdf', password=' ', codec='uft-8')"
   ]
  },
  {
   "cell_type": "code",
   "execution_count": 17,
   "id": "d917f656-8357-4a51-b673-b09b246d9438",
   "metadata": {},
   "outputs": [],
   "source": [
    "with open('//mnt/c/Users/cesar/Downloads/Decision Reference DRN-3495666 - DRN-3495666.pdf', 'rb') as fin:\n",
    "    a = extract_text_to_fp(fin, output_string, laparams=LAParams(),output_type='html', codec=None)"
   ]
  },
  {
   "cell_type": "code",
   "execution_count": 22,
   "id": "cd80a518-ee15-412a-8d3c-e1486da74a20",
   "metadata": {},
   "outputs": [
    {
     "data": {
      "text/plain": [
       "<_io.StringIO at 0x7fcdd00fa820>"
      ]
     },
     "execution_count": 22,
     "metadata": {},
     "output_type": "execute_result"
    }
   ],
   "source": [
    "output_string"
   ]
  },
  {
   "cell_type": "code",
   "execution_count": null,
   "id": "55913a1e-b6be-4297-bed8-6c38904f4595",
   "metadata": {},
   "outputs": [],
   "source": []
  },
  {
   "cell_type": "code",
   "execution_count": 47,
   "id": "56d7c5ae-189e-4841-9c31-7d9237202e73",
   "metadata": {},
   "outputs": [],
   "source": [
    "reader = PdfReader(\"//mnt/c/Users/cesar/Downloads/Decision Reference DRN-3495666 - DRN-3495666.pdf\")"
   ]
  },
  {
   "cell_type": "code",
   "execution_count": 98,
   "id": "c963f5a0-3abc-4ffd-9f72-752cf621deaa",
   "metadata": {},
   "outputs": [],
   "source": [
    "pattern = re.compile(r'The complaint')\n",
    "pattern2 = re.compile(r'What happened')\n",
    "pattern3 = re.compile('What I’ve decided – and why')"
   ]
  },
  {
   "cell_type": "code",
   "execution_count": 82,
   "id": "9d369dcf-7b95-4fc5-9f4d-d29683a9e4e8",
   "metadata": {},
   "outputs": [],
   "source": [
    "box = []"
   ]
  },
  {
   "cell_type": "code",
   "execution_count": 108,
   "id": "8b0f5b9f-e233-4fe0-8e15-f76ef3e4d074",
   "metadata": {},
   "outputs": [],
   "source": [
    "page = reader.pages[3]\n",
    "box.append(page.extract_text())"
   ]
  },
  {
   "cell_type": "code",
   "execution_count": 109,
   "id": "e4338ce6-d046-42aa-b8fc-7b4d30bf5321",
   "metadata": {},
   "outputs": [],
   "source": [
    "a = ''.join(box)"
   ]
  },
  {
   "cell_type": "code",
   "execution_count": 110,
   "id": "7484cc1c-56af-46a1-a83d-ca19e126778f",
   "metadata": {
    "collapsed": true,
    "jupyter": {
     "outputs_hidden": true
    },
    "tags": []
   },
   "outputs": [
    {
     "data": {
      "text/plain": [
       "'DRN-3495666The complaintMs R complains that Bank of Scotland plc trading as Halifax hasn’t refunded her the moneyshe lost as the result of a scam.What happenedBoth parties are aware of the circumstances of the complaint, so I won’t repeat them in detailhere. But briefly, both parties accept that Ms R was the victim of a scam when she made aFaster Payment transfer for £3,250 in December 2020.She did so in the belief that her Halifax account was at risk, and that she was acting toprotect her money. This belief was based on a telephone call she’d received, purportedlyfrom Halifax.Ms R says this call was not wholly unexpected. She’d called the bank a few days earlier toreport that, having received an email that appeared to be from the DVLA, she’d input herdetails onto what she thought was a DVLA webpage. But she now had concerns that herpersonal details might have been compromised (in what’s known as a ‘phishing’ attack).When Ms R had called the bank to report her concerns she’d explained what happened,before being transferred to the fraud team. However, having been placed on hold for anhour, she’d been unable to hold on longer and had to end that call. She’d therefore beenexpecting the fraud team might call her back to follow up on this.Ms R explains that the call she later received happened at an inconvenient time - she wasjust getting ready to leave the house for the evening. But given the importance of protectingher funds she continued.She noted that the caller’s number matched Halifax’s number. The caller knew Ms R’saccount number and sort code and it sounded like she was speaking to her bank. Ms Rexplains this was all consistent with the call being genuinely from her bank and she didn’tdoubt this at the time.Unfortunately, the call was from a fraudster impersonating the bank, who had been able tomimic (or spoof) the bank’s phone number to make it appear that the call originated withHalifax.Ms R was talked through what she needed to do to protect her funds. She was told a newaccount had been set up in her name and was given the new sort code and account numberto use.Ms R set up the new payee details on her mobile banking app. It wasn’t possible for Halifaxto check the name against the receiving bank account – because the recipient bank didn’tsupport the confirmation of payee system. So, when Ms R had input her own name as thepayee name, this didn’t result in a warning saying the name didn’t match (in other words thatit wasn’t her account) – just that Halifax hadn’t been able to check the name.\\nHalifax says it displayed a scam warning before Ms R completed the payment. However,Ms R doesn’t recall seeing this.Money remained in Ms R’s account after this payment had been made. Ms R was told tomake a further payment (to the same destination) which would have mostly cleared thebalance. When she attempted to make this, Halifax says it identified this second paymentattempt might be fraudulent and blocked it from being made.When Ms R told the caller that the second payment hadn’t succeeded, the person she’dbeen speaking to ended the call. Ms R began to realise something wasn’t right. She calledHalifax and the scam was identified. Halifax attempted to retrieve the funds, but noneremained in the recipient account.Halifax is a signatory of the Lending Standards Board’s Contingent Reimbursement ModelCode (the CRM Code). The CRM Code requires firms to reimburse customers who havebeen the victims of APP scams (such as this) in all but a limited number of circumstances.Halifax says one or more of those exceptions applies here. It had given Ms R a scamwarning when she made the payment. And it said Ms R had made the payment withouthaving a reasonable basis for believing she was protecting her money. Halifax said it did notneed to refund Ms R.One of our Investigators looked into Ms R’s complaint and thought it should be upheld.The Investigator didn’t think Halifax had fairly assessed her claim under the CRM Code. Hedidn’t agree that Halifax had been able to establish Ms R made the payment without areasonable basis for believing what she did, or that she’d ignored an effective warning.Halifax maintained its position. In particular, it disagreed that the warning it had given wasn’tenough to alert Ms R to this being a scam. It thought she’d ignored an effective warning. Italso thought she could not have had a reasonable basis for believing this was the bankcalling, given the warning message had been displayed.It said it couldn’t now locate the call recording from when Ms R had first called about the‘phishing’ attack. But it thought that maybe the staff member she’d spoken to initially wasn’ttrained on fraud or scam risks. However, its call notes showed that the staff member hadsuggested contacting Action Fraud before trying to transfer Ms R to the fraud team – andwasn’t wrong to have done so. It said Ms R should have held on for longer than she did (itsnotes agree with her recollections that she waited on hold for over an hour).In light of this disagreement, I have been asked to reach a final decision.What I’ve decided – and whyI’ve considered all the available evidence and arguments to decide what’s fair andreasonable in the circumstances of this complaint.Having done so, I have reached the same outcome as the investigator and for broadly thesame reasons. I’ve carefully considered Halifax’s representations about the warning it gaveMs R and whether she had a reasonable basis for believing the transaction to be genuine.But the bank’s representations do not persuade me to reach a different view. I will explainwhy.Halifax seeks to rely on two possible exceptions to reimbursement under the CRM Code:\\ue002the customer ignoring an effective warning by not taking the appropriate steps inresponse; and/or,\\ue002the customer having made the payment without a reasonable basis for believing theywere paying the person they expected to pay.Firstly, in the circumstances of this case, I’m satisfied that the requirements of the effectivewarning exception have not been established.The CRM Code defines the requirements for a scam warning to be considered an EffectiveWarning. Part of the requirement to be sufficiently ‘impactful’ includes taking steps to ensurea customer is made aware of the consequences of proceeding with an irrevocable payment(such as this Faster Payment was). But neither Halifax’s warning, nor the earlier messageregarding Confirmation of Payee stated that the payment would be irrevocable or mentionedthe consequences of proceeding.While I appreciate the bank may believe this meaning was implicit, I’m not persuaded thewarning message met the CRM Code’s minimum requirements to be an Effective Warning.Further, the nature of this type of scam means that in general an on-screen warning wouldneed to have enough impact to stop someone from continuing to follow urgent instructionsthey believe originate with their bank. Otherwise a warning is unlikely to have a reasonableprospect of “positively affect[ing] Customer decision-making in a manner whereby thelikelihood of an APP scam succeeding is reduced” – as required by the CRM Code.And while I consider that in some circumstances the warning shown herecouldhave animpact, I don’t think it was sufficiently impactful to begenerallyeffective against this type ofsafe-account scam.Specifically, the initial text in the warning (and shown in a larger font size in a red colour)said ‘how well do you know this person?’. Typically, this type of scam operates at pace andunder pressure. The victim believes they are speaking to someone trusted, someone basedin the fraud team of their bank. A scammer will typically suggest the need for urgency. Thepotential impact of an in-app warning is thus reduced, and there is a greater chance that thevictim won’t read the message fully. Here the heading doesn’t immediately create a link (inthe moment) to the situation the victim is in. This is especially so given the pressure they aretypically under.With the above in mind, I don’t consider the warning Halifax gave here fully met therequirements for an Effective Warning under the CRM Code. It follows that Halifax cannotfairly apply the Effective Warning exception to Ms R’s case – it hasn’t demonstrated thatsuch a warning was provided to Ms R.I’ve gone on to consider whether Halifax has been able to establish that Ms R made thepayment without holding a reasonable basis for believing what she did at the time.The CRM Code specifies that all the circumstances at the time (to include the sophisticationof the scam) need to be taken into account. I also consider that any warning or othermessages provided are relevant circumstances - even where those warnings weren’tEffective Warnings (as I have found here).Firstly, I consider that the scam here was relatively sophisticated and persuasive. It involvedan initial phishing attack, likely used as a way to gather personal information that was laterused in the main scam call. That call used phone number ‘spoofing’ to mimic the bank’s realphone number. Based on what I’ve seen, I’m persuaded that in all the circumstances here,Ms R had a reasonable basis for believing she was speaking with her bank and following itsinstructions to transfer money to a safe account it had created in her name to protect herfunds.What’s more, Ms R has described how when she received the scam call on the evening inquestion, she was distracted and somewhat caught off guard. This was a Saturday eveninga week before Christmas and she was getting ready to go out. But because she wasexpecting she might hear back from her bank she took the call. I consider thesecircumstances are relevant here.Halifax argues that this may well have been the case, but that when it showed Ms R thewarning message this would have broken the scammer’s spell. I agree with Halifax that partsof the text of the warning message it showed Ms R were exactly relevant to the scam thatoccurred here.But in the circumstances here, Ms R was already under the spell of the scammer by the timethat message was displayed. She explains that she doesn’t recall seeing the warningmessage at the time. I don’t find that unreasonable given what she has said was happeningat the time. By the time it was displayed she was attempting to follow the instructions of thecaller to move her money supposedly to safety without delay. Ms R says she was feelingrushed and pressured.The transaction timings provided to me by Halifax suggest the payment was completedquickly and so the warning could only have been displayed for, at most, a brief period oftime.Unfortunately, it seems that here the urgent promptings of the caller (whom Ms R believedwas from Halifax’s fraud team) were more impactful in the moment than Halifax’s fraudwarning message. I consider this was likely the result of Ms R holding the strong belief bythis point that she was dealing with her bank’s fraud team.All things taken into account, I don’t find Ms R was at fault in those circumstances forproceeding past the warning without fully absorbing what it said.And overall, I am not persuaded that Halifax has established that Ms R made the paymentwithout a reasonable basis for believing she was following the legitimate instructions of herbank to secure her money.Under the terms of the CRM Code, the victim of an APP scam such as this shouldreimbursed unless the bank is able to establish that one (or more) of the exceptions toreimbursement can be applied. I’m not persuaded that Halifax has been able to establishthat any of the exceptions to reimbursement under the CRM Code can fairly be applied inMs R’s case. It follows that Halifax should have reimbursed Ms R under the terms of theCRM Code.Furthermore, I am also satisfied that had Halifax adequately alerted Ms R to the potentialscam risks when she’d initially called to report the phishing attack, this would likely havemade a difference. I think it was reasonable to expect Halifax to have taken such steps atthe time of that initial call - given its knowledge of common fraud risks. But it has notprovided evidence to show that it did so, and neither does Ms R recall it making her aware ofthose risks.The bank explains that had Ms R stayed on hold for longer, then it could have given herbetter advice. I appreciate Halifax has challenges in having sufficient specialist staff readilyavailable and that some delays are inevitable. But I don’t think it follows that Ms R is toblame for not having waited on hold for over an hour. More importantly, she’d alreadyreported the phishing incident to her bank – an initial incident that undoubtably meant shewould be a significantly higher risk of financial harm through fraud or scam in the followingdays.'"
      ]
     },
     "execution_count": 110,
     "metadata": {},
     "output_type": "execute_result"
    }
   ],
   "source": [
    "a"
   ]
  },
  {
   "cell_type": "code",
   "execution_count": 111,
   "id": "9bc751bd-32a5-40a1-a6d4-e41c3ddbb883",
   "metadata": {
    "tags": []
   },
   "outputs": [],
   "source": [
    "text = re.split(pattern, a)[1]"
   ]
  },
  {
   "cell_type": "code",
   "execution_count": 112,
   "id": "3c6e8b76-3c61-4ba0-9699-2286336b18db",
   "metadata": {},
   "outputs": [],
   "source": [
    "text2 = re.split(pattern2, text)[-1]"
   ]
  },
  {
   "cell_type": "code",
   "execution_count": 114,
   "id": "46f14786-a114-4afa-af62-c17edb1415e8",
   "metadata": {},
   "outputs": [
    {
     "data": {
      "text/plain": [
       "'Both parties are aware of the circumstances of the complaint, so I won’t repeat them in detailhere. But briefly, both parties accept that Ms R was the victim of a scam when she made aFaster Payment transfer for £3,250 in December 2020.She did so in the belief that her Halifax account was at risk, and that she was acting toprotect her money. This belief was based on a telephone call she’d received, purportedlyfrom Halifax.Ms R says this call was not wholly unexpected. She’d called the bank a few days earlier toreport that, having received an email that appeared to be from the DVLA, she’d input herdetails onto what she thought was a DVLA webpage. But she now had concerns that herpersonal details might have been compromised (in what’s known as a ‘phishing’ attack).When Ms R had called the bank to report her concerns she’d explained what happened,before being transferred to the fraud team. However, having been placed on hold for anhour, she’d been unable to hold on longer and had to end that call. She’d therefore beenexpecting the fraud team might call her back to follow up on this.Ms R explains that the call she later received happened at an inconvenient time - she wasjust getting ready to leave the house for the evening. But given the importance of protectingher funds she continued.She noted that the caller’s number matched Halifax’s number. The caller knew Ms R’saccount number and sort code and it sounded like she was speaking to her bank. Ms Rexplains this was all consistent with the call being genuinely from her bank and she didn’tdoubt this at the time.Unfortunately, the call was from a fraudster impersonating the bank, who had been able tomimic (or spoof) the bank’s phone number to make it appear that the call originated withHalifax.Ms R was talked through what she needed to do to protect her funds. She was told a newaccount had been set up in her name and was given the new sort code and account numberto use.Ms R set up the new payee details on her mobile banking app. It wasn’t possible for Halifaxto check the name against the receiving bank account – because the recipient bank didn’tsupport the confirmation of payee system. So, when Ms R had input her own name as thepayee name, this didn’t result in a warning saying the name didn’t match (in other words thatit wasn’t her account) – just that Halifax hadn’t been able to check the name.\\nHalifax says it displayed a scam warning before Ms R completed the payment. However,Ms R doesn’t recall seeing this.Money remained in Ms R’s account after this payment had been made. Ms R was told tomake a further payment (to the same destination) which would have mostly cleared thebalance. When she attempted to make this, Halifax says it identified this second paymentattempt might be fraudulent and blocked it from being made.When Ms R told the caller that the second payment hadn’t succeeded, the person she’dbeen speaking to ended the call. Ms R began to realise something wasn’t right. She calledHalifax and the scam was identified. Halifax attempted to retrieve the funds, but noneremained in the recipient account.Halifax is a signatory of the Lending Standards Board’s Contingent Reimbursement ModelCode (the CRM Code). The CRM Code requires firms to reimburse customers who havebeen the victims of APP scams (such as this) in all but a limited number of circumstances.Halifax says one or more of those exceptions applies here. It had given Ms R a scamwarning when she made the payment. And it said Ms R had made the payment withouthaving a reasonable basis for believing she was protecting her money. Halifax said it did notneed to refund Ms R.One of our Investigators looked into Ms R’s complaint and thought it should be upheld.The Investigator didn’t think Halifax had fairly assessed her claim under the CRM Code. Hedidn’t agree that Halifax had been able to establish Ms R made the payment without areasonable basis for believing what she did, or that she’d ignored an effective warning.Halifax maintained its position. In particular, it disagreed that the warning it had given wasn’tenough to alert Ms R to this being a scam. It thought she’d ignored an effective warning. Italso thought she could not have had a reasonable basis for believing this was the bankcalling, given the warning message had been displayed.It said it couldn’t now locate the call recording from when Ms R had first called about the‘phishing’ attack. But it thought that maybe the staff member she’d spoken to initially wasn’ttrained on fraud or scam risks. However, its call notes showed that the staff member hadsuggested contacting Action Fraud before trying to transfer Ms R to the fraud team – andwasn’t wrong to have done so. It said Ms R should have held on for longer than she did (itsnotes agree with her recollections that she waited on hold for over an hour).In light of this disagreement, I have been asked to reach a final decision.'"
      ]
     },
     "execution_count": 114,
     "metadata": {},
     "output_type": "execute_result"
    }
   ],
   "source": [
    "re.split(pattern3, text2)[0]"
   ]
  },
  {
   "cell_type": "code",
   "execution_count": null,
   "id": "8e6dc3d3-a0cb-4347-8f95-813b6a2d364d",
   "metadata": {},
   "outputs": [],
   "source": []
  },
  {
   "cell_type": "code",
   "execution_count": 52,
   "id": "2731e4ed-3979-4f2a-a212-1d0a9c9e3721",
   "metadata": {},
   "outputs": [],
   "source": [
    "import sys, fitz"
   ]
  },
  {
   "cell_type": "code",
   "execution_count": 53,
   "id": "07377243-6607-4970-905b-2a0fa462eda6",
   "metadata": {},
   "outputs": [],
   "source": [
    "doc = fitz.open(filename)\n"
   ]
  },
  {
   "cell_type": "code",
   "execution_count": 57,
   "id": "129f7f1a-851f-4263-9cbf-a350e2884003",
   "metadata": {},
   "outputs": [],
   "source": [
    "box = []"
   ]
  },
  {
   "cell_type": "code",
   "execution_count": 65,
   "id": "5380006f-a8c3-43e1-a183-df7acaa9ea99",
   "metadata": {},
   "outputs": [],
   "source": [
    "for page in doc:\n",
    "    box.append(page.get_text())"
   ]
  },
  {
   "cell_type": "code",
   "execution_count": 66,
   "id": "023eef07-2b44-4e4e-a5fc-f478adc77758",
   "metadata": {},
   "outputs": [
    {
     "ename": "TypeError",
     "evalue": "sequence item 0: expected str instance, bytes found",
     "output_type": "error",
     "traceback": [
      "\u001b[0;31m---------------------------------------------------------------------------\u001b[0m",
      "\u001b[0;31mTypeError\u001b[0m                                 Traceback (most recent call last)",
      "\u001b[0;32m/tmp/ipykernel_8674/2051517130.py\u001b[0m in \u001b[0;36m<module>\u001b[0;34m\u001b[0m\n\u001b[0;32m----> 1\u001b[0;31m \u001b[0;34m''\u001b[0m\u001b[0;34m.\u001b[0m\u001b[0mjoin\u001b[0m\u001b[0;34m(\u001b[0m\u001b[0mbox\u001b[0m\u001b[0;34m)\u001b[0m\u001b[0;34m\u001b[0m\u001b[0;34m\u001b[0m\u001b[0m\n\u001b[0m",
      "\u001b[0;31mTypeError\u001b[0m: sequence item 0: expected str instance, bytes found"
     ]
    }
   ],
   "source": [
    "''.join(box)"
   ]
  },
  {
   "cell_type": "code",
   "execution_count": null,
   "id": "b06a9afa-03f4-4fdf-97d8-f90726200ba3",
   "metadata": {},
   "outputs": [],
   "source": []
  },
  {
   "cell_type": "code",
   "execution_count": null,
   "id": "9925d6d6-5450-4e8f-bf97-9fc1629ce404",
   "metadata": {},
   "outputs": [],
   "source": []
  },
  {
   "cell_type": "code",
   "execution_count": null,
   "id": "3f82ebcb-e46f-4e44-9381-f4c55502849a",
   "metadata": {},
   "outputs": [],
   "source": []
  },
  {
   "cell_type": "code",
   "execution_count": null,
   "id": "f8e942f5-db8f-46fc-b5ab-b5dac6be600b",
   "metadata": {},
   "outputs": [],
   "source": []
  },
  {
   "cell_type": "code",
   "execution_count": 17,
   "id": "84a48537-055f-4bc4-bc07-00829949da59",
   "metadata": {
    "tags": []
   },
   "outputs": [],
   "source": [
    "blocks = doc[0].get_text(\"dict\")[\"blocks\"]"
   ]
  },
  {
   "cell_type": "code",
   "execution_count": 32,
   "id": "7a476dfe-0420-44e2-b449-a3bb3e0bbf9d",
   "metadata": {},
   "outputs": [],
   "source": [
    "granularity = True"
   ]
  },
  {
   "cell_type": "code",
   "execution_count": 35,
   "id": "60f57e5e-3a4c-4b8f-be28-c8d50e3e5258",
   "metadata": {},
   "outputs": [],
   "source": [
    "styles = {}\n",
    "font_counts = {}\n",
    "\n",
    "for page in doc:\n",
    "    blocks = doc[0].get_text(\"dict\")[\"blocks\"]\n",
    "    for b in blocks:  # iterate through the text blocks\n",
    "                if b['type'] == 0:  # block contains text\n",
    "                    for l in b[\"lines\"]:  # iterate through the text lines\n",
    "                        for s in l[\"spans\"]:  # iterate through the text spans\n",
    "                            if granularity:\n",
    "                                identifier = \"{0}_{1}_{2}_{3}\".format(s['size'], s['flags'], s['font'], s['color'])\n",
    "                                styles[identifier] = {'size': s['size'], 'flags': s['flags'], 'font': s['font'],\n",
    "                                                      'color': s['color']}\n",
    "                            else:\n",
    "                                identifier = \"{0}\".format(s['size'])\n",
    "                                styles[identifier] = {'size': s['size'], 'font': s['font']}\n",
    "\n",
    "                            font_counts[identifier] = font_counts.get(identifier, 0) + 1  # count the fonts us"
   ]
  },
  {
   "cell_type": "code",
   "execution_count": 42,
   "id": "ab63eeb6-1831-45bc-9f30-668b925ffede",
   "metadata": {},
   "outputs": [
    {
     "data": {
      "text/plain": [
       "{'10.347803115844727_4_ArialMT_0': 210,\n",
       " '10.347803115844727_20_Arial-BoldMT_0': 12}"
      ]
     },
     "execution_count": 42,
     "metadata": {},
     "output_type": "execute_result"
    }
   ],
   "source": [
    "font_counts"
   ]
  },
  {
   "cell_type": "code",
   "execution_count": 36,
   "id": "531011aa-4b47-4c52-8a66-ede4a8d19a2a",
   "metadata": {},
   "outputs": [
    {
     "data": {
      "text/plain": [
       "{'10.347803115844727_4_ArialMT_0': {'size': 10.347803115844727,\n",
       "  'flags': 4,\n",
       "  'font': 'ArialMT',\n",
       "  'color': 0},\n",
       " '10.347803115844727_20_Arial-BoldMT_0': {'size': 10.347803115844727,\n",
       "  'flags': 20,\n",
       "  'font': 'Arial-BoldMT',\n",
       "  'color': 0}}"
      ]
     },
     "execution_count": 36,
     "metadata": {},
     "output_type": "execute_result"
    }
   ],
   "source": [
    "styles"
   ]
  },
  {
   "cell_type": "code",
   "execution_count": 37,
   "id": "25c26367-2c3d-453a-b369-e37e7c724bd4",
   "metadata": {},
   "outputs": [
    {
     "data": {
      "text/plain": [
       "{'10.347803115844727_4_ArialMT_0': 210,\n",
       " '10.347803115844727_20_Arial-BoldMT_0': 12}"
      ]
     },
     "execution_count": 37,
     "metadata": {},
     "output_type": "execute_result"
    }
   ],
   "source": [
    "font_counts"
   ]
  },
  {
   "cell_type": "code",
   "execution_count": 43,
   "id": "61f22773-0199-40e2-ae87-c446bc64322f",
   "metadata": {},
   "outputs": [
    {
     "data": {
      "text/plain": [
       "'DRN-3495666\\nThe complaint\\nMs R complains that Bank of Scotland plc trading as Halifax hasn’t refunded her the money\\nshe lost as the result of a scam.\\nWhat happened\\nBoth parties are aware of the circumstances of the complaint, so I won’t repeat them in detail\\nhere. But briefly, both parties accept that Ms R was the victim of a scam when she made a\\nFaster Payment transfer for £3,250 in December 2020.\\nShe did so in the belief that her Halifax account was at risk, and that she was acting to\\nprotect her money. This belief was based on a telephone call she’d received, purportedly\\nfrom Halifax.\\nMs R says this call was not wholly unexpected. She’d called the bank a few days earlier to\\nreport that, having received an email that appeared to be from the DVLA, she’d input her\\ndetails onto what she thought was a DVLA webpage. But she now had concerns that her\\npersonal details might have been compromised (in what’s known as a ‘phishing’ attack).\\nWhen Ms R had called the bank to report her concerns she’d explained what happened,\\nbefore being transferred to the fraud team. However, having been placed on hold for an\\nhour, she’d been unable to hold on longer and had to end that call. She’d therefore been\\nexpecting the fraud team might call her back to follow up on this.\\nMs R explains that the call she later received happened at an inconvenient time - she was\\njust getting ready to leave the house for the evening. But given the importance of protecting\\nher funds she continued.\\nShe noted that the caller’s number matched Halifax’s number. The caller knew Ms R’s\\naccount number and sort code and it sounded like she was speaking to her bank. Ms R\\nexplains this was all consistent with the call being genuinely from her bank and she didn’t\\ndoubt this at the time.\\nUnfortunately, the call was from a fraudster impersonating the bank, who had been able to\\nmimic (or spoof) the bank’s phone number to make it appear that the call originated with\\nHalifax.\\nMs R was talked through what she needed to do to protect her funds. She was told a new\\naccount had been set up in her name and was given the new sort code and account number\\nto use.\\nMs R set up the new payee details on her mobile banking app. It wasn’t possible for Halifax\\nto check the name against the receiving bank account – because the recipient bank didn’t\\nsupport the confirmation of payee system. So, when Ms R had input her own name as the\\npayee name, this didn’t result in a warning saying the name didn’t match (in other words that\\nit wasn’t her account) – just that Halifax hadn’t been able to check the name.\\n'"
      ]
     },
     "execution_count": 43,
     "metadata": {},
     "output_type": "execute_result"
    }
   ],
   "source": [
    "doc[0].get_text(fonts_size='')"
   ]
  }
 ],
 "metadata": {
  "kernelspec": {
   "display_name": "Python [conda env:ws]",
   "language": "python",
   "name": "conda-env-ws-py"
  },
  "language_info": {
   "codemirror_mode": {
    "name": "ipython",
    "version": 3
   },
   "file_extension": ".py",
   "mimetype": "text/x-python",
   "name": "python",
   "nbconvert_exporter": "python",
   "pygments_lexer": "ipython3",
   "version": "3.9.7"
  }
 },
 "nbformat": 4,
 "nbformat_minor": 5
}
