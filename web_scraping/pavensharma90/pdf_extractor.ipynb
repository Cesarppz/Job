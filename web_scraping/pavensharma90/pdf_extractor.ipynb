{
 "cells": [
  {
   "cell_type": "code",
   "execution_count": 4,
   "id": "947729d4-e36e-4913-b40d-c1760cc9a831",
   "metadata": {},
   "outputs": [],
   "source": [
    "# importing required modules \n",
    "import pandas as pd\n",
    "import re\n",
    "\n",
    "from PyPDF2 import PdfReader"
   ]
  },
  {
   "cell_type": "code",
   "execution_count": 25,
   "id": "1ff42a97-82f5-4710-b17f-626e467d44ce",
   "metadata": {},
   "outputs": [],
   "source": [
    "# Patterns to extract the different parts of the document\n",
    "pattern = re.compile(r'The complaint')\n",
    "pattern2 = re.compile(r'What happened')\n",
    "pattern3 = re.compile('What I’ve decided – and why')"
   ]
  },
  {
   "cell_type": "markdown",
   "id": "3df74973-3ddd-497d-a86d-6fd47d8c9aec",
   "metadata": {},
   "source": [
    "## Functions"
   ]
  },
  {
   "cell_type": "code",
   "execution_count": 21,
   "id": "a5f11aa1-7cad-495a-9470-fae2ffa9f836",
   "metadata": {},
   "outputs": [],
   "source": [
    "def read_pdf(reader) -> list:\n",
    "    #Extract all pdf pages\n",
    "    info = []\n",
    "    for page_number in range(reader.numPages):\n",
    "        info.append(reader.getPage(page_number).extract_text())\n",
    "    return info"
   ]
  },
  {
   "cell_type": "code",
   "execution_count": 48,
   "id": "5143536c-9689-4591-89b8-02c9809d9e9d",
   "metadata": {},
   "outputs": [],
   "source": [
    "# Split the document into different parts, and extract the two parts that we want\n",
    "def extract_parts(plain_text:str) -> pd.DataFrame:\n",
    "    text = re.split(pattern, plain_text)[1]\n",
    "    # Extract first part\n",
    "    first_part = re.split(pattern2, text)[0]\n",
    "    # Extract second part\n",
    "    second_text = re.split(pattern2, text)[-1]\n",
    "    second_part = re.split(pattern3, second_text)[0]\n",
    "    # Extract DRN\n",
    "    drn = re.split(pattern, plain_text)[0]\n",
    "    (first_part, second_part, drn)\n",
    "    return pd.DataFrame([{\n",
    "        'The complaint': first_part,\n",
    "        'What happened': second_part,\n",
    "        'DRN': drn}])"
   ]
  },
  {
   "cell_type": "markdown",
   "id": "d0caa031-33bc-4591-828a-f0b3d12016e4",
   "metadata": {},
   "source": [
    "## Execution "
   ]
  },
  {
   "cell_type": "code",
   "execution_count": 5,
   "id": "cac97878-fd69-40e0-90cd-44944ce11a95",
   "metadata": {},
   "outputs": [],
   "source": [
    "file_path = \"//mnt/c/Users/cesar/Downloads/Decision Reference DRN-3495666 - DRN-3495666.pdf\""
   ]
  },
  {
   "cell_type": "code",
   "execution_count": 6,
   "id": "7594224e-8623-405a-99b3-b2fe949d970d",
   "metadata": {},
   "outputs": [],
   "source": [
    "reader = PdfReader(file_path)"
   ]
  },
  {
   "cell_type": "code",
   "execution_count": 24,
   "id": "a102bc1d-ffb7-48d3-89f6-b425902c40b2",
   "metadata": {
    "tags": []
   },
   "outputs": [],
   "source": [
    "pdf_text = read_pdf(reader)\n",
    "# Joining the different parts into one \n",
    "plain_text = ' '.join(pdf_text)"
   ]
  },
  {
   "cell_type": "code",
   "execution_count": 47,
   "id": "282ea746-c3dd-4b76-8743-e3047ce0230d",
   "metadata": {
    "tags": []
   },
   "outputs": [],
   "source": [
    "df = extract_parts(plain_text)"
   ]
  },
  {
   "cell_type": "code",
   "execution_count": null,
   "id": "e9fa7063-ac7e-4420-9e64-e820f8adcf2e",
   "metadata": {},
   "outputs": [],
   "source": [
    "# Save data in an Excel file \n",
    "df.to_excel('your_file_name.xlsx', index=False)"
   ]
  }
 ],
 "metadata": {
  "kernelspec": {
   "display_name": "Python [conda env:ws]",
   "language": "python",
   "name": "conda-env-ws-py"
  },
  "language_info": {
   "codemirror_mode": {
    "name": "ipython",
    "version": 3
   },
   "file_extension": ".py",
   "mimetype": "text/x-python",
   "name": "python",
   "nbconvert_exporter": "python",
   "pygments_lexer": "ipython3",
   "version": "3.9.7"
  }
 },
 "nbformat": 4,
 "nbformat_minor": 5
}
