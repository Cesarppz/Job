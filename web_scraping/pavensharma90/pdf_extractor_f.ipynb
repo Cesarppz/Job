{
 "cells": [
  {
   "cell_type": "code",
   "execution_count": 1,
   "id": "947729d4-e36e-4913-b40d-c1760cc9a831",
   "metadata": {},
   "outputs": [],
   "source": [
    "# importing required modules \n",
    "import pandas as pd\n",
    "import re\n",
    "\n",
    "from PyPDF2 import PdfReader"
   ]
  },
  {
   "cell_type": "code",
   "execution_count": 2,
   "id": "1ff42a97-82f5-4710-b17f-626e467d44ce",
   "metadata": {},
   "outputs": [],
   "source": [
    "# Patterns to extract the different parts of the document\n",
    "pattern = [re.compile('[The\\s]?complaint\\n?')]\n",
    "pattern2 =[ re.compile(r'What happened'), re.compile(r'our initial conclusions')]\n",
    "pattern3 = [re.compile('What I’ve decided – and why'), re.compile('my final decision')]"
   ]
  },
  {
   "cell_type": "markdown",
   "id": "3df74973-3ddd-497d-a86d-6fd47d8c9aec",
   "metadata": {},
   "source": [
    "## Functions"
   ]
  },
  {
   "cell_type": "code",
   "execution_count": 3,
   "id": "a5f11aa1-7cad-495a-9470-fae2ffa9f836",
   "metadata": {},
   "outputs": [],
   "source": [
    "def read_pdf(reader) -> list:\n",
    "    #Extract all pdf pages\n",
    "    info = []\n",
    "    for page_number in range(reader.numPages):\n",
    "        info.append(reader.getPage(page_number).extract_text())\n",
    "    return info"
   ]
  },
  {
   "cell_type": "code",
   "execution_count": 4,
   "id": "75b7352a-e1b0-4ce1-9c30-05b2afe942c6",
   "metadata": {},
   "outputs": [],
   "source": [
    "def defective_pattern(text:str, pattern:re.Pattern) -> bool:\n",
    "    if len(text) < 2:\n",
    "        print(f'The pattern \"{pattern}\" is not working properly')\n",
    "        return True\n",
    "    return False"
   ]
  },
  {
   "cell_type": "code",
   "execution_count": 5,
   "id": "0088f669-e982-4f63-bb7d-fbc63d4930d3",
   "metadata": {},
   "outputs": [],
   "source": [
    "def get_part(pattern:list, plain_text:str, index:int):\n",
    "    for idx, p in enumerate(pattern):\n",
    "        text = re.split(pattern[idx], plain_text, maxsplit=1)\n",
    "        if len(text) >= 2:\n",
    "            break\n",
    "    if defective_pattern(text, pattern[idx]):\n",
    "        return None\n",
    "    text = text[index]\n",
    "    return text"
   ]
  },
  {
   "cell_type": "code",
   "execution_count": 6,
   "id": "5143536c-9689-4591-89b8-02c9809d9e9d",
   "metadata": {},
   "outputs": [],
   "source": [
    "# Split the document into different parts, and extract the two parts that we want\n",
    "def extract_parts(plain_text:str) -> pd.DataFrame:\n",
    "    text = get_part(pattern, plain_text, 1)\n",
    "    \n",
    "    # Extract first part\n",
    "    first_part = get_part(pattern2, text, 0)\n",
    "\n",
    "    # Extract second part\n",
    "    second_text = get_part(pattern2, text, -1)\n",
    "    second_part = get_part(pattern3, second_text, 0)\n",
    "    \n",
    "    # Extract DRN\n",
    "    drn = re.findall(r'DRN-?\\d+',plain_text)[0]\n",
    "    \n",
    "    \n",
    "    (first_part, second_part, drn)\n",
    "    return pd.DataFrame([{\n",
    "        'The complaint': first_part,\n",
    "        'What happened': second_part,\n",
    "        'DRN': drn}])"
   ]
  },
  {
   "cell_type": "markdown",
   "id": "d0caa031-33bc-4591-828a-f0b3d12016e4",
   "metadata": {},
   "source": [
    "## Execution "
   ]
  },
  {
   "cell_type": "code",
   "execution_count": 35,
   "id": "cac97878-fd69-40e0-90cd-44944ce11a95",
   "metadata": {},
   "outputs": [],
   "source": [
    "# file_path = \"//mnt/c/Users/cesar/Downloads/Decision Reference DRN-3495666 - DRN-3495666.pdf\"\n",
    "file_path = \"//mnt/c/Users/cesar/Downloads/temp_file.pdf\""
   ]
  },
  {
   "cell_type": "code",
   "execution_count": 41,
   "id": "a102bc1d-ffb7-48d3-89f6-b425902c40b2",
   "metadata": {
    "tags": []
   },
   "outputs": [],
   "source": [
    "reader = PdfReader(file_path)\n",
    "pdf_text = read_pdf(reader)\n",
    "# Joining the different parts into one \n",
    "plain_text = ' '.join(pdf_text)"
   ]
  },
  {
   "cell_type": "code",
   "execution_count": 42,
   "id": "282ea746-c3dd-4b76-8743-e3047ce0230d",
   "metadata": {
    "tags": []
   },
   "outputs": [],
   "source": [
    "df = extract_parts(plain_text)"
   ]
  },
  {
   "cell_type": "code",
   "execution_count": null,
   "id": "e9fa7063-ac7e-4420-9e64-e820f8adcf2e",
   "metadata": {},
   "outputs": [],
   "source": [
    "# Save data in an Excel file \n",
    "df.to_excel('your_file_name.xlsx', index=False)"
   ]
  }
 ],
 "metadata": {
  "kernelspec": {
   "display_name": "Python [conda env:ws]",
   "language": "python",
   "name": "conda-env-ws-py"
  },
  "language_info": {
   "codemirror_mode": {
    "name": "ipython",
    "version": 3
   },
   "file_extension": ".py",
   "mimetype": "text/x-python",
   "name": "python",
   "nbconvert_exporter": "python",
   "pygments_lexer": "ipython3",
   "version": "3.9.7"
  }
 },
 "nbformat": 4,
 "nbformat_minor": 5
}
