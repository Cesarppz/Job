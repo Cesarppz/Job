{
 "cells": [
  {
   "cell_type": "code",
   "execution_count": 1,
   "id": "369d7d69-2d25-4378-a571-692f775ccdc4",
   "metadata": {},
   "outputs": [],
   "source": [
    "import pandas as pd\n",
    "import re"
   ]
  },
  {
   "cell_type": "code",
   "execution_count": 2,
   "id": "fc5bfcf4-806f-4fc9-b7c0-2a67af86d020",
   "metadata": {},
   "outputs": [],
   "source": [
    "a = 'hdjsafdj.pdf'"
   ]
  },
  {
   "cell_type": "code",
   "execution_count": 3,
   "id": "0d36bd14-ebb4-4b01-981f-bae20288ed02",
   "metadata": {},
   "outputs": [
    {
     "data": {
      "text/plain": [
       "'hdjsafdj'"
      ]
     },
     "execution_count": 3,
     "metadata": {},
     "output_type": "execute_result"
    }
   ],
   "source": [
    "a.split('.pdf')[0]"
   ]
  },
  {
   "cell_type": "code",
   "execution_count": 4,
   "id": "d919cc00-6834-4f8e-b1dd-22833127f904",
   "metadata": {},
   "outputs": [],
   "source": [
    "columns = ['Quartal', '2002/1']"
   ]
  },
  {
   "cell_type": "code",
   "execution_count": null,
   "id": "cebd6391-3ec0-4ac5-95a9-df4b09614ea6",
   "metadata": {},
   "outputs": [],
   "source": []
  },
  {
   "cell_type": "code",
   "execution_count": 25,
   "id": "42f7191f-7a69-4731-ba70-3ba9edbe2cc2",
   "metadata": {},
   "outputs": [],
   "source": [
    "box = []\n",
    "for i in range(5):\n",
    "    if i == 3:\n",
    "        continue\n",
    "    path = f'//mnt/c/Users/cesar/Documents/jobs/test_results_{i}.xlsx'\n",
    "    df = pd.read_excel(path, names = columns)\n",
    "    box.append(df)"
   ]
  },
  {
   "cell_type": "code",
   "execution_count": 107,
   "id": "b535eb86-d8f5-459b-8eef-d56223495ac7",
   "metadata": {},
   "outputs": [],
   "source": [
    "path = f'//mnt/c/Users/cesar/Documents/jobs/results.xlsx'\n",
    "df = pd.read_excel(path)"
   ]
  },
  {
   "cell_type": "code",
   "execution_count": 108,
   "id": "4cb962b1-bec2-4dee-bc27-4339558db686",
   "metadata": {},
   "outputs": [
    {
     "data": {
      "text/plain": [
       "Quartal                   object\n",
       "files/sample_2021_I        int64\n",
       "files/sample_2021_II       int64\n",
       "files/sample_2021_III      int64\n",
       "files/sample_2021_IIII     int64\n",
       "dtype: object"
      ]
     },
     "execution_count": 108,
     "metadata": {},
     "output_type": "execute_result"
    }
   ],
   "source": [
    "df.dtypes"
   ]
  },
  {
   "cell_type": "code",
   "execution_count": 51,
   "id": "7601c092-f4ce-4adf-b68c-b9e42b43555a",
   "metadata": {},
   "outputs": [],
   "source": [
    "path = f'//mnt/c/Users/cesar/Documents/jobs/model/results_3.xlsx'\n",
    "df = pd.read_excel(path, header=1)"
   ]
  },
  {
   "cell_type": "code",
   "execution_count": 52,
   "id": "cccf3d21-a6f6-4273-a95c-cb8175d4fa8e",
   "metadata": {},
   "outputs": [
    {
     "data": {
      "text/html": [
       "<div>\n",
       "<style scoped>\n",
       "    .dataframe tbody tr th:only-of-type {\n",
       "        vertical-align: middle;\n",
       "    }\n",
       "\n",
       "    .dataframe tbody tr th {\n",
       "        vertical-align: top;\n",
       "    }\n",
       "\n",
       "    .dataframe thead th {\n",
       "        text-align: right;\n",
       "    }\n",
       "</style>\n",
       "<table border=\"1\" class=\"dataframe\">\n",
       "  <thead>\n",
       "    <tr style=\"text-align: right;\">\n",
       "      <th></th>\n",
       "      <th>Unnamed: 0</th>\n",
       "      <th>Total VPR</th>\n",
       "      <th>Total CVSS3.\\n0 without VPR</th>\n",
       "      <th>Total CVSS2.0 without\\nCVSS3.0 &amp; VPR</th>\n",
       "      <th>Total without CVSS2.\\n0, CVSS3.0 &amp; VPR</th>\n",
       "    </tr>\n",
       "  </thead>\n",
       "  <tbody>\n",
       "    <tr>\n",
       "      <th>1</th>\n",
       "      <td>Total vulnerabilities\\nCVSS or VPR: 4.0 - 6.9</td>\n",
       "      <td>40150</td>\n",
       "      <td>17029</td>\n",
       "      <td>5579</td>\n",
       "      <td>88</td>\n",
       "    </tr>\n",
       "    <tr>\n",
       "      <th>2</th>\n",
       "      <td>Total vulnerabilities\\nCVSS or VPR: 7.0 - 8.9</td>\n",
       "      <td>16359</td>\n",
       "      <td>307</td>\n",
       "      <td>49</td>\n",
       "      <td>693</td>\n",
       "    </tr>\n",
       "    <tr>\n",
       "      <th>3</th>\n",
       "      <td>Total vulnerabilities\\nCVSS or VPR: 9.0 - 10.0</td>\n",
       "      <td>6263</td>\n",
       "      <td>3683</td>\n",
       "      <td>52</td>\n",
       "      <td>0</td>\n",
       "    </tr>\n",
       "  </tbody>\n",
       "</table>\n",
       "</div>"
      ],
      "text/plain": [
       "                                       Unnamed: 0  Total VPR  \\\n",
       "1   Total vulnerabilities\\nCVSS or VPR: 4.0 - 6.9      40150   \n",
       "2   Total vulnerabilities\\nCVSS or VPR: 7.0 - 8.9      16359   \n",
       "3  Total vulnerabilities\\nCVSS or VPR: 9.0 - 10.0       6263   \n",
       "\n",
       "   Total CVSS3.\\n0 without VPR  Total CVSS2.0 without\\nCVSS3.0 & VPR  \\\n",
       "1                        17029                                  5579   \n",
       "2                          307                                    49   \n",
       "3                         3683                                    52   \n",
       "\n",
       "   Total without CVSS2.\\n0, CVSS3.0 & VPR  \n",
       "1                                      88  \n",
       "2                                     693  \n",
       "3                                       0  "
      ]
     },
     "execution_count": 52,
     "metadata": {},
     "output_type": "execute_result"
    }
   ],
   "source": [
    "df.iloc[1:,:]"
   ]
  },
  {
   "cell_type": "code",
   "execution_count": 242,
   "id": "6c9a435a-1401-4a9f-979e-8addf219aa7c",
   "metadata": {},
   "outputs": [],
   "source": [
    "column_names = list(df.iloc[0,:].values)"
   ]
  },
  {
   "cell_type": "code",
   "execution_count": 243,
   "id": "f9c79960-4367-4bba-a726-cf09b757fd98",
   "metadata": {},
   "outputs": [
    {
     "data": {
      "text/plain": [
       "nan"
      ]
     },
     "execution_count": 243,
     "metadata": {},
     "output_type": "execute_result"
    }
   ],
   "source": [
    "column_names.pop(0)"
   ]
  },
  {
   "cell_type": "code",
   "execution_count": 239,
   "id": "d8965a6f-827d-44d6-9c08-3869bae5c297",
   "metadata": {},
   "outputs": [
    {
     "data": {
      "text/plain": [
       "['Hola',\n",
       " nan,\n",
       " 'Total VPR',\n",
       " 'Total CVSS3.\\n0 without VPR',\n",
       " 'Total CVSS2.0 without\\nCVSS3.0 & VPR',\n",
       " 'Total without CVSS2.\\n0, CVSS3.0 & VPR']"
      ]
     },
     "execution_count": 239,
     "metadata": {},
     "output_type": "execute_result"
    }
   ],
   "source": [
    "column_names"
   ]
  },
  {
   "cell_type": "code",
   "execution_count": 232,
   "id": "8b429cbb-a634-4f4c-9f78-8bca787c1a01",
   "metadata": {},
   "outputs": [
    {
     "data": {
      "text/plain": [
       "'1'"
      ]
     },
     "execution_count": 232,
     "metadata": {},
     "output_type": "execute_result"
    }
   ],
   "source": [
    "str(df.columns[1])"
   ]
  },
  {
   "cell_type": "code",
   "execution_count": 233,
   "id": "dd69c465-8b5c-4ea5-aac9-92577a9529b3",
   "metadata": {},
   "outputs": [
    {
     "data": {
      "text/html": [
       "<div>\n",
       "<style scoped>\n",
       "    .dataframe tbody tr th:only-of-type {\n",
       "        vertical-align: middle;\n",
       "    }\n",
       "\n",
       "    .dataframe tbody tr th {\n",
       "        vertical-align: top;\n",
       "    }\n",
       "\n",
       "    .dataframe thead th {\n",
       "        text-align: right;\n",
       "    }\n",
       "</style>\n",
       "<table border=\"1\" class=\"dataframe\">\n",
       "  <thead>\n",
       "    <tr style=\"text-align: right;\">\n",
       "      <th></th>\n",
       "      <th>0</th>\n",
       "      <th>Total VPR</th>\n",
       "      <th>2</th>\n",
       "      <th>3</th>\n",
       "      <th>4</th>\n",
       "    </tr>\n",
       "  </thead>\n",
       "  <tbody>\n",
       "    <tr>\n",
       "      <th>0</th>\n",
       "      <td>NaN</td>\n",
       "      <td>Total VPR</td>\n",
       "      <td>Total CVSS3.\\n0 without VPR</td>\n",
       "      <td>Total CVSS2.0 without\\nCVSS3.0 &amp; VPR</td>\n",
       "      <td>Total without CVSS2.\\n0, CVSS3.0 &amp; VPR</td>\n",
       "    </tr>\n",
       "    <tr>\n",
       "      <th>1</th>\n",
       "      <td>Total vulnerabilities\\nCVSS or VPR: 0.1 - 3.9</td>\n",
       "      <td>23718</td>\n",
       "      <td>8044</td>\n",
       "      <td>1570</td>\n",
       "      <td>723</td>\n",
       "    </tr>\n",
       "    <tr>\n",
       "      <th>2</th>\n",
       "      <td>Total vulnerabilities\\nCVSS or VPR: 4.0 - 6.9</td>\n",
       "      <td>40150</td>\n",
       "      <td>17029</td>\n",
       "      <td>5579</td>\n",
       "      <td>88</td>\n",
       "    </tr>\n",
       "    <tr>\n",
       "      <th>3</th>\n",
       "      <td>Total vulnerabilities\\nCVSS or VPR: 7.0 - 8.9</td>\n",
       "      <td>16359</td>\n",
       "      <td>307</td>\n",
       "      <td>49</td>\n",
       "      <td>693</td>\n",
       "    </tr>\n",
       "    <tr>\n",
       "      <th>4</th>\n",
       "      <td>Total vulnerabilities\\nCVSS or VPR: 9.0 - 10.0</td>\n",
       "      <td>6263</td>\n",
       "      <td>3683</td>\n",
       "      <td>52</td>\n",
       "      <td>0</td>\n",
       "    </tr>\n",
       "  </tbody>\n",
       "</table>\n",
       "</div>"
      ],
      "text/plain": [
       "                                                0  Total VPR  \\\n",
       "0                                             NaN  Total VPR   \n",
       "1   Total vulnerabilities\\nCVSS or VPR: 0.1 - 3.9      23718   \n",
       "2   Total vulnerabilities\\nCVSS or VPR: 4.0 - 6.9      40150   \n",
       "3   Total vulnerabilities\\nCVSS or VPR: 7.0 - 8.9      16359   \n",
       "4  Total vulnerabilities\\nCVSS or VPR: 9.0 - 10.0       6263   \n",
       "\n",
       "                             2                                     3  \\\n",
       "0  Total CVSS3.\\n0 without VPR  Total CVSS2.0 without\\nCVSS3.0 & VPR   \n",
       "1                         8044                                  1570   \n",
       "2                        17029                                  5579   \n",
       "3                          307                                    49   \n",
       "4                         3683                                    52   \n",
       "\n",
       "                                        4  \n",
       "0  Total without CVSS2.\\n0, CVSS3.0 & VPR  \n",
       "1                                     723  \n",
       "2                                      88  \n",
       "3                                     693  \n",
       "4                                       0  "
      ]
     },
     "execution_count": 233,
     "metadata": {},
     "output_type": "execute_result"
    }
   ],
   "source": [
    "df.rename(columns={df.columns[1]:column_names[1]})"
   ]
  },
  {
   "cell_type": "code",
   "execution_count": 234,
   "id": "59b56afc-db71-48fb-aafe-144e76ca49fb",
   "metadata": {},
   "outputs": [
    {
     "data": {
      "text/html": [
       "<div>\n",
       "<style scoped>\n",
       "    .dataframe tbody tr th:only-of-type {\n",
       "        vertical-align: middle;\n",
       "    }\n",
       "\n",
       "    .dataframe tbody tr th {\n",
       "        vertical-align: top;\n",
       "    }\n",
       "\n",
       "    .dataframe thead th {\n",
       "        text-align: right;\n",
       "    }\n",
       "</style>\n",
       "<table border=\"1\" class=\"dataframe\">\n",
       "  <thead>\n",
       "    <tr style=\"text-align: right;\">\n",
       "      <th></th>\n",
       "      <th>NaN</th>\n",
       "      <th>Total VPR</th>\n",
       "      <th>Total CVSS3.\\n0 without VPR</th>\n",
       "      <th>Total CVSS2.0 without\\nCVSS3.0 &amp; VPR</th>\n",
       "      <th>Total without CVSS2.\\n0, CVSS3.0 &amp; VPR</th>\n",
       "    </tr>\n",
       "  </thead>\n",
       "  <tbody>\n",
       "    <tr>\n",
       "      <th>0</th>\n",
       "      <td>NaN</td>\n",
       "      <td>Total VPR</td>\n",
       "      <td>Total CVSS3.\\n0 without VPR</td>\n",
       "      <td>Total CVSS2.0 without\\nCVSS3.0 &amp; VPR</td>\n",
       "      <td>Total without CVSS2.\\n0, CVSS3.0 &amp; VPR</td>\n",
       "    </tr>\n",
       "    <tr>\n",
       "      <th>1</th>\n",
       "      <td>Total vulnerabilities\\nCVSS or VPR: 0.1 - 3.9</td>\n",
       "      <td>23718</td>\n",
       "      <td>8044</td>\n",
       "      <td>1570</td>\n",
       "      <td>723</td>\n",
       "    </tr>\n",
       "    <tr>\n",
       "      <th>2</th>\n",
       "      <td>Total vulnerabilities\\nCVSS or VPR: 4.0 - 6.9</td>\n",
       "      <td>40150</td>\n",
       "      <td>17029</td>\n",
       "      <td>5579</td>\n",
       "      <td>88</td>\n",
       "    </tr>\n",
       "    <tr>\n",
       "      <th>3</th>\n",
       "      <td>Total vulnerabilities\\nCVSS or VPR: 7.0 - 8.9</td>\n",
       "      <td>16359</td>\n",
       "      <td>307</td>\n",
       "      <td>49</td>\n",
       "      <td>693</td>\n",
       "    </tr>\n",
       "    <tr>\n",
       "      <th>4</th>\n",
       "      <td>Total vulnerabilities\\nCVSS or VPR: 9.0 - 10.0</td>\n",
       "      <td>6263</td>\n",
       "      <td>3683</td>\n",
       "      <td>52</td>\n",
       "      <td>0</td>\n",
       "    </tr>\n",
       "  </tbody>\n",
       "</table>\n",
       "</div>"
      ],
      "text/plain": [
       "                                              NaN  Total VPR  \\\n",
       "0                                             NaN  Total VPR   \n",
       "1   Total vulnerabilities\\nCVSS or VPR: 0.1 - 3.9      23718   \n",
       "2   Total vulnerabilities\\nCVSS or VPR: 4.0 - 6.9      40150   \n",
       "3   Total vulnerabilities\\nCVSS or VPR: 7.0 - 8.9      16359   \n",
       "4  Total vulnerabilities\\nCVSS or VPR: 9.0 - 10.0       6263   \n",
       "\n",
       "   Total CVSS3.\\n0 without VPR  Total CVSS2.0 without\\nCVSS3.0 & VPR  \\\n",
       "0  Total CVSS3.\\n0 without VPR  Total CVSS2.0 without\\nCVSS3.0 & VPR   \n",
       "1                         8044                                  1570   \n",
       "2                        17029                                  5579   \n",
       "3                          307                                    49   \n",
       "4                         3683                                    52   \n",
       "\n",
       "   Total without CVSS2.\\n0, CVSS3.0 & VPR  \n",
       "0  Total without CVSS2.\\n0, CVSS3.0 & VPR  \n",
       "1                                     723  \n",
       "2                                      88  \n",
       "3                                     693  \n",
       "4                                       0  "
      ]
     },
     "execution_count": 234,
     "metadata": {},
     "output_type": "execute_result"
    }
   ],
   "source": [
    "df.rename(columns={df.columns[0]:column_names[0], df.columns[1]:column_names[1], df.columns[2]:column_names[2], df.columns[3]:column_names[3],\n",
    "                  df.columns[4]:column_names[4]})"
   ]
  },
  {
   "cell_type": "code",
   "execution_count": 58,
   "id": "633aaa5c-83df-48a4-a72b-b5b31a865eed",
   "metadata": {},
   "outputs": [],
   "source": [
    "list_columns = list(df.columns)\n",
    "list_columns.remove('Unnamed: 0')"
   ]
  },
  {
   "cell_type": "code",
   "execution_count": 59,
   "id": "a11048f6-a0fe-4045-bd06-e347f88be1cf",
   "metadata": {},
   "outputs": [
    {
     "data": {
      "text/plain": [
       "['Total VPR',\n",
       " 'Total CVSS3.\\n0 without VPR',\n",
       " 'Total CVSS2.0 without\\nCVSS3.0 & VPR',\n",
       " 'Total without CVSS2.\\n0, CVSS3.0 & VPR']"
      ]
     },
     "execution_count": 59,
     "metadata": {},
     "output_type": "execute_result"
    }
   ],
   "source": [
    "list_columns"
   ]
  },
  {
   "cell_type": "code",
   "execution_count": 67,
   "id": "35eeaadb-e17b-47de-a54e-c100f36a4306",
   "metadata": {},
   "outputs": [
    {
     "data": {
      "text/html": [
       "<div>\n",
       "<style scoped>\n",
       "    .dataframe tbody tr th:only-of-type {\n",
       "        vertical-align: middle;\n",
       "    }\n",
       "\n",
       "    .dataframe tbody tr th {\n",
       "        vertical-align: top;\n",
       "    }\n",
       "\n",
       "    .dataframe thead th {\n",
       "        text-align: right;\n",
       "    }\n",
       "</style>\n",
       "<table border=\"1\" class=\"dataframe\">\n",
       "  <thead>\n",
       "    <tr style=\"text-align: right;\">\n",
       "      <th></th>\n",
       "      <th>0</th>\n",
       "      <th>1</th>\n",
       "      <th>2</th>\n",
       "      <th>3</th>\n",
       "    </tr>\n",
       "  </thead>\n",
       "  <tbody>\n",
       "    <tr>\n",
       "      <th>Unnamed: 0</th>\n",
       "      <td>Total vulnerabilities\\nCVSS or VPR: 0.1 - 3.9</td>\n",
       "      <td>Total vulnerabilities\\nCVSS or VPR: 4.0 - 6.9</td>\n",
       "      <td>Total vulnerabilities\\nCVSS or VPR: 7.0 - 8.9</td>\n",
       "      <td>Total vulnerabilities\\nCVSS or VPR: 9.0 - 10.0</td>\n",
       "    </tr>\n",
       "    <tr>\n",
       "      <th>Total VPR</th>\n",
       "      <td>23718</td>\n",
       "      <td>40150</td>\n",
       "      <td>16359</td>\n",
       "      <td>6263</td>\n",
       "    </tr>\n",
       "    <tr>\n",
       "      <th>Total CVSS3.\\n0 without VPR</th>\n",
       "      <td>8044</td>\n",
       "      <td>17029</td>\n",
       "      <td>307</td>\n",
       "      <td>3683</td>\n",
       "    </tr>\n",
       "    <tr>\n",
       "      <th>Total CVSS2.0 without\\nCVSS3.0 &amp; VPR</th>\n",
       "      <td>1570</td>\n",
       "      <td>5579</td>\n",
       "      <td>49</td>\n",
       "      <td>52</td>\n",
       "    </tr>\n",
       "    <tr>\n",
       "      <th>Total without CVSS2.\\n0, CVSS3.0 &amp; VPR</th>\n",
       "      <td>723</td>\n",
       "      <td>88</td>\n",
       "      <td>693</td>\n",
       "      <td>0</td>\n",
       "    </tr>\n",
       "  </tbody>\n",
       "</table>\n",
       "</div>"
      ],
      "text/plain": [
       "                                                                                    0  \\\n",
       "Unnamed: 0                              Total vulnerabilities\\nCVSS or VPR: 0.1 - 3.9   \n",
       "Total VPR                                                                       23718   \n",
       "Total CVSS3.\\n0 without VPR                                                      8044   \n",
       "Total CVSS2.0 without\\nCVSS3.0 & VPR                                             1570   \n",
       "Total without CVSS2.\\n0, CVSS3.0 & VPR                                            723   \n",
       "\n",
       "                                                                                    1  \\\n",
       "Unnamed: 0                              Total vulnerabilities\\nCVSS or VPR: 4.0 - 6.9   \n",
       "Total VPR                                                                       40150   \n",
       "Total CVSS3.\\n0 without VPR                                                     17029   \n",
       "Total CVSS2.0 without\\nCVSS3.0 & VPR                                             5579   \n",
       "Total without CVSS2.\\n0, CVSS3.0 & VPR                                             88   \n",
       "\n",
       "                                                                                    2  \\\n",
       "Unnamed: 0                              Total vulnerabilities\\nCVSS or VPR: 7.0 - 8.9   \n",
       "Total VPR                                                                       16359   \n",
       "Total CVSS3.\\n0 without VPR                                                       307   \n",
       "Total CVSS2.0 without\\nCVSS3.0 & VPR                                               49   \n",
       "Total without CVSS2.\\n0, CVSS3.0 & VPR                                            693   \n",
       "\n",
       "                                                                                     3  \n",
       "Unnamed: 0                              Total vulnerabilities\\nCVSS or VPR: 9.0 - 10.0  \n",
       "Total VPR                                                                         6263  \n",
       "Total CVSS3.\\n0 without VPR                                                       3683  \n",
       "Total CVSS2.0 without\\nCVSS3.0 & VPR                                                52  \n",
       "Total without CVSS2.\\n0, CVSS3.0 & VPR                                               0  "
      ]
     },
     "execution_count": 67,
     "metadata": {},
     "output_type": "execute_result"
    }
   ],
   "source": [
    "df.T"
   ]
  },
  {
   "cell_type": "code",
   "execution_count": 94,
   "id": "f922496f-2511-4dca-b963-5c4e62c6434e",
   "metadata": {},
   "outputs": [
    {
     "data": {
      "text/html": [
       "<div>\n",
       "<style scoped>\n",
       "    .dataframe tbody tr th:only-of-type {\n",
       "        vertical-align: middle;\n",
       "    }\n",
       "\n",
       "    .dataframe tbody tr th {\n",
       "        vertical-align: top;\n",
       "    }\n",
       "\n",
       "    .dataframe thead th {\n",
       "        text-align: right;\n",
       "    }\n",
       "</style>\n",
       "<table border=\"1\" class=\"dataframe\">\n",
       "  <thead>\n",
       "    <tr style=\"text-align: right;\">\n",
       "      <th>Unnamed: 0</th>\n",
       "      <th>Total vulnerabilities\\nCVSS or VPR: 0.1 - 3.9</th>\n",
       "    </tr>\n",
       "  </thead>\n",
       "  <tbody>\n",
       "    <tr>\n",
       "      <th>Total VPR</th>\n",
       "      <td>23718</td>\n",
       "    </tr>\n",
       "    <tr>\n",
       "      <th>Total CVSS3.\\n0 without VPR</th>\n",
       "      <td>8044</td>\n",
       "    </tr>\n",
       "    <tr>\n",
       "      <th>Total CVSS2.0 without\\nCVSS3.0 &amp; VPR</th>\n",
       "      <td>1570</td>\n",
       "    </tr>\n",
       "    <tr>\n",
       "      <th>Total without CVSS2.\\n0, CVSS3.0 &amp; VPR</th>\n",
       "      <td>723</td>\n",
       "    </tr>\n",
       "  </tbody>\n",
       "</table>\n",
       "</div>"
      ],
      "text/plain": [
       "Unnamed: 0                              Total vulnerabilities\\nCVSS or VPR: 0.1 - 3.9\n",
       "Total VPR                                                                       23718\n",
       "Total CVSS3.\\n0 without VPR                                                      8044\n",
       "Total CVSS2.0 without\\nCVSS3.0 & VPR                                             1570\n",
       "Total without CVSS2.\\n0, CVSS3.0 & VPR                                            723"
      ]
     },
     "execution_count": 94,
     "metadata": {},
     "output_type": "execute_result"
    }
   ],
   "source": [
    "a = df_c.pivot_table(values=list_columns, columns='Unnamed: 0').sort_values(by=[a.columns[0]], ascending=False)\n",
    "a"
   ]
  },
  {
   "cell_type": "code",
   "execution_count": 106,
   "id": "f7cc60d4-e369-4d91-818d-cbadca568be1",
   "metadata": {},
   "outputs": [
    {
     "data": {
      "text/plain": [
       "Unnamed: 0                                object\n",
       "Total VPR                                  int64\n",
       "Total CVSS3.\\n0 without VPR                int64\n",
       "Total CVSS2.0 without\\nCVSS3.0 & VPR       int64\n",
       "Total without CVSS2.\\n0, CVSS3.0 & VPR     int64\n",
       "dtype: object"
      ]
     },
     "execution_count": 106,
     "metadata": {},
     "output_type": "execute_result"
    }
   ],
   "source": [
    "df.dtypes"
   ]
  },
  {
   "cell_type": "code",
   "execution_count": 89,
   "id": "59fc150c-129b-42b9-bf10-d21c71e0b81e",
   "metadata": {},
   "outputs": [
    {
     "data": {
      "text/plain": [
       "'Total vulnerabilities\\nCVSS or VPR: 0.1 - 3.9'"
      ]
     },
     "execution_count": 89,
     "metadata": {},
     "output_type": "execute_result"
    }
   ],
   "source": [
    "a.columns[0]"
   ]
  },
  {
   "cell_type": "code",
   "execution_count": 81,
   "id": "8cd30d93-90aa-452e-b38b-baac203ef857",
   "metadata": {},
   "outputs": [],
   "source": [
    "a['index'] = a['index'].apply(lambda x : 'Total vulnerabilities\\nCVSS or VPR: 0.1 - 3.9: '+x)"
   ]
  },
  {
   "cell_type": "code",
   "execution_count": 85,
   "id": "587f0d03-3f9f-4c44-afb3-f01cee0720a8",
   "metadata": {},
   "outputs": [
    {
     "data": {
      "text/html": [
       "<div>\n",
       "<style scoped>\n",
       "    .dataframe tbody tr th:only-of-type {\n",
       "        vertical-align: middle;\n",
       "    }\n",
       "\n",
       "    .dataframe tbody tr th {\n",
       "        vertical-align: top;\n",
       "    }\n",
       "\n",
       "    .dataframe thead th {\n",
       "        text-align: right;\n",
       "    }\n",
       "</style>\n",
       "<table border=\"1\" class=\"dataframe\">\n",
       "  <thead>\n",
       "    <tr style=\"text-align: right;\">\n",
       "      <th>Unnamed: 0</th>\n",
       "      <th>index</th>\n",
       "      <th>Total vulnerabilities\\nCVSS or VPR: 0.1 - 3.9</th>\n",
       "    </tr>\n",
       "  </thead>\n",
       "  <tbody>\n",
       "    <tr>\n",
       "      <th>0</th>\n",
       "      <td>Total vulnerabilities\\nCVSS or VPR: 0.1 - 3.9:...</td>\n",
       "      <td>1570</td>\n",
       "    </tr>\n",
       "    <tr>\n",
       "      <th>1</th>\n",
       "      <td>Total vulnerabilities\\nCVSS or VPR: 0.1 - 3.9:...</td>\n",
       "      <td>8044</td>\n",
       "    </tr>\n",
       "    <tr>\n",
       "      <th>2</th>\n",
       "      <td>Total vulnerabilities\\nCVSS or VPR: 0.1 - 3.9:...</td>\n",
       "      <td>23718</td>\n",
       "    </tr>\n",
       "    <tr>\n",
       "      <th>3</th>\n",
       "      <td>Total vulnerabilities\\nCVSS or VPR: 0.1 - 3.9:...</td>\n",
       "      <td>723</td>\n",
       "    </tr>\n",
       "  </tbody>\n",
       "</table>\n",
       "</div>"
      ],
      "text/plain": [
       "Unnamed: 0                                              index  \\\n",
       "0           Total vulnerabilities\\nCVSS or VPR: 0.1 - 3.9:...   \n",
       "1           Total vulnerabilities\\nCVSS or VPR: 0.1 - 3.9:...   \n",
       "2           Total vulnerabilities\\nCVSS or VPR: 0.1 - 3.9:...   \n",
       "3           Total vulnerabilities\\nCVSS or VPR: 0.1 - 3.9:...   \n",
       "\n",
       "Unnamed: 0  Total vulnerabilities\\nCVSS or VPR: 0.1 - 3.9  \n",
       "0                                                    1570  \n",
       "1                                                    8044  \n",
       "2                                                   23718  \n",
       "3                                                     723  "
      ]
     },
     "execution_count": 85,
     "metadata": {},
     "output_type": "execute_result"
    }
   ],
   "source": [
    "a"
   ]
  },
  {
   "cell_type": "code",
   "execution_count": 84,
   "id": "ce4576cf-9790-4e46-9b5c-e084641ff4d7",
   "metadata": {},
   "outputs": [
    {
     "ename": "TypeError",
     "evalue": "set_index() missing 1 required positional argument: 'keys'",
     "output_type": "error",
     "traceback": [
      "\u001b[0;31m---------------------------------------------------------------------------\u001b[0m",
      "\u001b[0;31mTypeError\u001b[0m                                 Traceback (most recent call last)",
      "\u001b[0;32m/tmp/ipykernel_1682/1634586595.py\u001b[0m in \u001b[0;36m<module>\u001b[0;34m\u001b[0m\n\u001b[0;32m----> 1\u001b[0;31m \u001b[0ma\u001b[0m\u001b[0;34m.\u001b[0m\u001b[0mset_index\u001b[0m\u001b[0;34m(\u001b[0m\u001b[0;34m)\u001b[0m\u001b[0;34m\u001b[0m\u001b[0;34m\u001b[0m\u001b[0m\n\u001b[0m",
      "\u001b[0;32m~/anaconda3/envs/ws/lib/python3.9/site-packages/pandas/util/_decorators.py\u001b[0m in \u001b[0;36mwrapper\u001b[0;34m(*args, **kwargs)\u001b[0m\n\u001b[1;32m    309\u001b[0m                     \u001b[0mstacklevel\u001b[0m\u001b[0;34m=\u001b[0m\u001b[0mstacklevel\u001b[0m\u001b[0;34m,\u001b[0m\u001b[0;34m\u001b[0m\u001b[0;34m\u001b[0m\u001b[0m\n\u001b[1;32m    310\u001b[0m                 )\n\u001b[0;32m--> 311\u001b[0;31m             \u001b[0;32mreturn\u001b[0m \u001b[0mfunc\u001b[0m\u001b[0;34m(\u001b[0m\u001b[0;34m*\u001b[0m\u001b[0margs\u001b[0m\u001b[0;34m,\u001b[0m \u001b[0;34m**\u001b[0m\u001b[0mkwargs\u001b[0m\u001b[0;34m)\u001b[0m\u001b[0;34m\u001b[0m\u001b[0;34m\u001b[0m\u001b[0m\n\u001b[0m\u001b[1;32m    312\u001b[0m \u001b[0;34m\u001b[0m\u001b[0m\n\u001b[1;32m    313\u001b[0m         \u001b[0;32mreturn\u001b[0m \u001b[0mwrapper\u001b[0m\u001b[0;34m\u001b[0m\u001b[0;34m\u001b[0m\u001b[0m\n",
      "\u001b[0;31mTypeError\u001b[0m: set_index() missing 1 required positional argument: 'keys'"
     ]
    }
   ],
   "source": [
    "a.set_index('')"
   ]
  },
  {
   "cell_type": "code",
   "execution_count": null,
   "id": "13618851-0097-434a-aaa3-f516a74e03ef",
   "metadata": {},
   "outputs": [],
   "source": []
  },
  {
   "cell_type": "code",
   "execution_count": 152,
   "id": "ae46341d-d2dc-4204-bdfa-34aa59fa14dc",
   "metadata": {},
   "outputs": [],
   "source": [
    "box_df = []\n",
    "for i in range(df.shape[0]):\n",
    "    df_c = df.iloc[i:i+1,:]\n",
    "    df_c = df_c.pivot_table(values=list_columns, columns='Unnamed: 0', )\n",
    "    \n",
    "    df_c = df_c.reset_index()\n",
    "    columns_names = list(df_c.columns)\n",
    "    df_c = df_c.rename(columns={list(df_c.columns)[0]:'Quartal', list(df_c.columns)[1]:'2002/1'})\n",
    "    box_df.append(df_c)"
   ]
  },
  {
   "cell_type": "code",
   "execution_count": 256,
   "id": "75447c1c-f32b-46e6-a1f1-f307a88d8abc",
   "metadata": {},
   "outputs": [],
   "source": [
    "df_c = df.iloc[i:i+1,:]\n",
    "df_c = df_c.pivot_table(values=list_columns, columns='Unnamed: 0' )"
   ]
  },
  {
   "cell_type": "code",
   "execution_count": 257,
   "id": "2f41fe54-efbe-4df4-b6fb-69ac86dbdb83",
   "metadata": {},
   "outputs": [],
   "source": [
    "df_c = df_c.reset_index()"
   ]
  },
  {
   "cell_type": "code",
   "execution_count": 258,
   "id": "151005f5-f7b7-4220-8f9e-34551a03b9b4",
   "metadata": {},
   "outputs": [],
   "source": [
    "columns_names = list(df_c.columns)"
   ]
  },
  {
   "cell_type": "code",
   "execution_count": 259,
   "id": "07b30957-f5c4-4acd-98dd-f434359f12cd",
   "metadata": {},
   "outputs": [
    {
     "data": {
      "text/plain": [
       "['Total VPR',\n",
       " 'Total CVSS3.\\n0 without VPR',\n",
       " 'Total CVSS2.0 without\\nCVSS3.0 & VPR',\n",
       " 'Total without CVSS2.\\n0, CVSS3.0 & VPR']"
      ]
     },
     "execution_count": 259,
     "metadata": {},
     "output_type": "execute_result"
    }
   ],
   "source": [
    "column_names"
   ]
  },
  {
   "cell_type": "code",
   "execution_count": null,
   "id": "730218df-b904-4007-8e9c-51ac3c36546b",
   "metadata": {},
   "outputs": [],
   "source": []
  },
  {
   "cell_type": "code",
   "execution_count": null,
   "id": "67c99298-de6d-4e62-862d-b698bc819388",
   "metadata": {},
   "outputs": [],
   "source": []
  },
  {
   "cell_type": "code",
   "execution_count": null,
   "id": "6abc5f0b-d322-41af-8109-ffefd58b6a86",
   "metadata": {},
   "outputs": [],
   "source": []
  },
  {
   "cell_type": "code",
   "execution_count": 156,
   "id": "6f8a3dae-5e00-4dd6-b081-69d1f95cd929",
   "metadata": {
    "tags": []
   },
   "outputs": [],
   "source": [
    "n_df = pd.concat(box_df, axis = 0)"
   ]
  },
  {
   "cell_type": "code",
   "execution_count": 158,
   "id": "b37a5f0c-4215-4280-be1a-aa8b74b2572f",
   "metadata": {},
   "outputs": [],
   "source": [
    "box.append(n_df)"
   ]
  },
  {
   "cell_type": "code",
   "execution_count": 160,
   "id": "c1bd875c-e686-4af2-ac4a-903d8f14b9f8",
   "metadata": {},
   "outputs": [],
   "source": [
    "final_df = pd.concat(box)"
   ]
  },
  {
   "cell_type": "code",
   "execution_count": 172,
   "id": "2f4cc819-bdc5-4ab1-885f-69806caf8f4a",
   "metadata": {},
   "outputs": [],
   "source": [
    "final_df = final_df.reset_index().drop('index', axis='columns')"
   ]
  },
  {
   "cell_type": "code",
   "execution_count": 174,
   "id": "7325e102-67e3-4146-8d75-ffba85894e69",
   "metadata": {
    "collapsed": true,
    "jupyter": {
     "outputs_hidden": true
    },
    "tags": []
   },
   "outputs": [
    {
     "data": {
      "text/html": [
       "<div>\n",
       "<style scoped>\n",
       "    .dataframe tbody tr th:only-of-type {\n",
       "        vertical-align: middle;\n",
       "    }\n",
       "\n",
       "    .dataframe tbody tr th {\n",
       "        vertical-align: top;\n",
       "    }\n",
       "\n",
       "    .dataframe thead th {\n",
       "        text-align: right;\n",
       "    }\n",
       "</style>\n",
       "<table border=\"1\" class=\"dataframe\">\n",
       "  <thead>\n",
       "    <tr style=\"text-align: right;\">\n",
       "      <th></th>\n",
       "      <th>Quartal</th>\n",
       "      <th>2002/1</th>\n",
       "    </tr>\n",
       "  </thead>\n",
       "  <tbody>\n",
       "    <tr>\n",
       "      <th>1</th>\n",
       "      <td>Total IPs</td>\n",
       "      <td>52019</td>\n",
       "    </tr>\n",
       "    <tr>\n",
       "      <th>2</th>\n",
       "      <td>Total Vulnerabilities</td>\n",
       "      <td>124307</td>\n",
       "    </tr>\n",
       "    <tr>\n",
       "      <th>3</th>\n",
       "      <td>Total Vulnerabilities (Patch available)</td>\n",
       "      <td>73723</td>\n",
       "    </tr>\n",
       "    <tr>\n",
       "      <th>4</th>\n",
       "      <td>Total vulnerabilties (Exploit and Patch availa...</td>\n",
       "      <td>5650</td>\n",
       "    </tr>\n",
       "    <tr>\n",
       "      <th>5</th>\n",
       "      <td>Total vulnerabilities (Critical, Exploit and P...</td>\n",
       "      <td>1499</td>\n",
       "    </tr>\n",
       "    <tr>\n",
       "      <th>7</th>\n",
       "      <td>Credential Scanned IPs</td>\n",
       "      <td>11440</td>\n",
       "    </tr>\n",
       "    <tr>\n",
       "      <th>8</th>\n",
       "      <td>Non-Credential Scanned IPs</td>\n",
       "      <td>36013</td>\n",
       "    </tr>\n",
       "    <tr>\n",
       "      <th>10</th>\n",
       "      <td>Vuln Discovered within 1 Month</td>\n",
       "      <td>46351</td>\n",
       "    </tr>\n",
       "    <tr>\n",
       "      <th>11</th>\n",
       "      <td>Vuln Discovered within 3 Months</td>\n",
       "      <td>28118</td>\n",
       "    </tr>\n",
       "    <tr>\n",
       "      <th>12</th>\n",
       "      <td>Vuln Discovered within 6 Months</td>\n",
       "      <td>11891</td>\n",
       "    </tr>\n",
       "    <tr>\n",
       "      <th>13</th>\n",
       "      <td>Vuln Discovered within 9 Months</td>\n",
       "      <td>11717</td>\n",
       "    </tr>\n",
       "    <tr>\n",
       "      <th>14</th>\n",
       "      <td>Vuln Discovered within 1 Year</td>\n",
       "      <td>12355</td>\n",
       "    </tr>\n",
       "    <tr>\n",
       "      <th>15</th>\n",
       "      <td>Vuln Discovered more than 1 Year</td>\n",
       "      <td>13875</td>\n",
       "    </tr>\n",
       "    <tr>\n",
       "      <th>17</th>\n",
       "      <td>Total IPs with compliance checks</td>\n",
       "      <td>8469</td>\n",
       "    </tr>\n",
       "    <tr>\n",
       "      <th>18</th>\n",
       "      <td>Passed checks</td>\n",
       "      <td>1541545</td>\n",
       "    </tr>\n",
       "    <tr>\n",
       "      <th>19</th>\n",
       "      <td>Error on check</td>\n",
       "      <td>37701</td>\n",
       "    </tr>\n",
       "    <tr>\n",
       "      <th>20</th>\n",
       "      <td>Failed check</td>\n",
       "      <td>532117</td>\n",
       "    </tr>\n",
       "    <tr>\n",
       "      <th>21</th>\n",
       "      <td>Total CVSS2.0 without\\nCVSS3.0 &amp; VPR</td>\n",
       "      <td>1570</td>\n",
       "    </tr>\n",
       "    <tr>\n",
       "      <th>22</th>\n",
       "      <td>Total CVSS3.\\n0 without VPR</td>\n",
       "      <td>8044</td>\n",
       "    </tr>\n",
       "    <tr>\n",
       "      <th>23</th>\n",
       "      <td>Total VPR</td>\n",
       "      <td>23718</td>\n",
       "    </tr>\n",
       "    <tr>\n",
       "      <th>24</th>\n",
       "      <td>Total without CVSS2.\\n0, CVSS3.0 &amp; VPR</td>\n",
       "      <td>723</td>\n",
       "    </tr>\n",
       "    <tr>\n",
       "      <th>25</th>\n",
       "      <td>Total CVSS2.0 without\\nCVSS3.0 &amp; VPR</td>\n",
       "      <td>5579</td>\n",
       "    </tr>\n",
       "    <tr>\n",
       "      <th>26</th>\n",
       "      <td>Total CVSS3.\\n0 without VPR</td>\n",
       "      <td>17029</td>\n",
       "    </tr>\n",
       "    <tr>\n",
       "      <th>27</th>\n",
       "      <td>Total VPR</td>\n",
       "      <td>40150</td>\n",
       "    </tr>\n",
       "    <tr>\n",
       "      <th>28</th>\n",
       "      <td>Total without CVSS2.\\n0, CVSS3.0 &amp; VPR</td>\n",
       "      <td>88</td>\n",
       "    </tr>\n",
       "    <tr>\n",
       "      <th>29</th>\n",
       "      <td>Total CVSS2.0 without\\nCVSS3.0 &amp; VPR</td>\n",
       "      <td>49</td>\n",
       "    </tr>\n",
       "    <tr>\n",
       "      <th>30</th>\n",
       "      <td>Total CVSS3.\\n0 without VPR</td>\n",
       "      <td>307</td>\n",
       "    </tr>\n",
       "    <tr>\n",
       "      <th>31</th>\n",
       "      <td>Total VPR</td>\n",
       "      <td>16359</td>\n",
       "    </tr>\n",
       "    <tr>\n",
       "      <th>32</th>\n",
       "      <td>Total without CVSS2.\\n0, CVSS3.0 &amp; VPR</td>\n",
       "      <td>693</td>\n",
       "    </tr>\n",
       "    <tr>\n",
       "      <th>33</th>\n",
       "      <td>Total CVSS2.0 without\\nCVSS3.0 &amp; VPR</td>\n",
       "      <td>52</td>\n",
       "    </tr>\n",
       "    <tr>\n",
       "      <th>34</th>\n",
       "      <td>Total CVSS3.\\n0 without VPR</td>\n",
       "      <td>3683</td>\n",
       "    </tr>\n",
       "    <tr>\n",
       "      <th>35</th>\n",
       "      <td>Total VPR</td>\n",
       "      <td>6263</td>\n",
       "    </tr>\n",
       "    <tr>\n",
       "      <th>36</th>\n",
       "      <td>Total without CVSS2.\\n0, CVSS3.0 &amp; VPR</td>\n",
       "      <td>0</td>\n",
       "    </tr>\n",
       "  </tbody>\n",
       "</table>\n",
       "</div>"
      ],
      "text/plain": [
       "                                              Quartal   2002/1\n",
       "1                                           Total IPs    52019\n",
       "2                               Total Vulnerabilities   124307\n",
       "3             Total Vulnerabilities (Patch available)    73723\n",
       "4   Total vulnerabilties (Exploit and Patch availa...     5650\n",
       "5   Total vulnerabilities (Critical, Exploit and P...     1499\n",
       "7                              Credential Scanned IPs    11440\n",
       "8                          Non-Credential Scanned IPs    36013\n",
       "10                     Vuln Discovered within 1 Month    46351\n",
       "11                    Vuln Discovered within 3 Months    28118\n",
       "12                    Vuln Discovered within 6 Months    11891\n",
       "13                    Vuln Discovered within 9 Months    11717\n",
       "14                      Vuln Discovered within 1 Year    12355\n",
       "15                   Vuln Discovered more than 1 Year    13875\n",
       "17                   Total IPs with compliance checks     8469\n",
       "18                                      Passed checks  1541545\n",
       "19                                     Error on check    37701\n",
       "20                                       Failed check   532117\n",
       "21               Total CVSS2.0 without\\nCVSS3.0 & VPR     1570\n",
       "22                        Total CVSS3.\\n0 without VPR     8044\n",
       "23                                          Total VPR    23718\n",
       "24             Total without CVSS2.\\n0, CVSS3.0 & VPR      723\n",
       "25               Total CVSS2.0 without\\nCVSS3.0 & VPR     5579\n",
       "26                        Total CVSS3.\\n0 without VPR    17029\n",
       "27                                          Total VPR    40150\n",
       "28             Total without CVSS2.\\n0, CVSS3.0 & VPR       88\n",
       "29               Total CVSS2.0 without\\nCVSS3.0 & VPR       49\n",
       "30                        Total CVSS3.\\n0 without VPR      307\n",
       "31                                          Total VPR    16359\n",
       "32             Total without CVSS2.\\n0, CVSS3.0 & VPR      693\n",
       "33               Total CVSS2.0 without\\nCVSS3.0 & VPR       52\n",
       "34                        Total CVSS3.\\n0 without VPR     3683\n",
       "35                                          Total VPR     6263\n",
       "36             Total without CVSS2.\\n0, CVSS3.0 & VPR        0"
      ]
     },
     "execution_count": 174,
     "metadata": {},
     "output_type": "execute_result"
    }
   ],
   "source": [
    "final_df.dropna()"
   ]
  },
  {
   "cell_type": "code",
   "execution_count": 175,
   "id": "454f55ed-a35e-4e7d-b09e-257c86b0db29",
   "metadata": {},
   "outputs": [],
   "source": [
    "a = 'sample_2021_I.pdf'"
   ]
  },
  {
   "cell_type": "code",
   "execution_count": 187,
   "id": "9afbaf4f-71b2-47db-b301-2894d332f9f2",
   "metadata": {},
   "outputs": [],
   "source": [
    "pattern_name = re.compile(r'.*_(.{3,})\\.pdf')"
   ]
  },
  {
   "cell_type": "code",
   "execution_count": 188,
   "id": "9f669fa8-3002-431b-ba62-e2a980d58d37",
   "metadata": {},
   "outputs": [
    {
     "data": {
      "text/plain": [
       "'2021_I'"
      ]
     },
     "execution_count": 188,
     "metadata": {},
     "output_type": "execute_result"
    }
   ],
   "source": [
    "re.match(pattern_name, a).group(1)"
   ]
  },
  {
   "cell_type": "code",
   "execution_count": 190,
   "id": "980db823-10ba-4ffd-87c7-a69b8288f70b",
   "metadata": {},
   "outputs": [
    {
     "data": {
      "text/plain": [
       "'Unnamed: 0'"
      ]
     },
     "execution_count": 190,
     "metadata": {},
     "output_type": "execute_result"
    }
   ],
   "source": [
    "df.columns[0]"
   ]
  }
 ],
 "metadata": {
  "kernelspec": {
   "display_name": "Python [conda env:ws]",
   "language": "python",
   "name": "conda-env-ws-py"
  },
  "language_info": {
   "codemirror_mode": {
    "name": "ipython",
    "version": 3
   },
   "file_extension": ".py",
   "mimetype": "text/x-python",
   "name": "python",
   "nbconvert_exporter": "python",
   "pygments_lexer": "ipython3",
   "version": "3.9.7"
  }
 },
 "nbformat": 4,
 "nbformat_minor": 5
}
