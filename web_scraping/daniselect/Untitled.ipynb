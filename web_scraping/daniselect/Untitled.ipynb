{
 "cells": [
  {
   "cell_type": "code",
   "execution_count": 1,
   "id": "2616b1c9-b6e1-4cb6-9518-9da53ebc89e8",
   "metadata": {},
   "outputs": [],
   "source": [
    "import time\n",
    "\n",
    "from selenium import webdriver\n",
    "from selenium.webdriver.chrome.service import Service\n",
    "from webdriver_manager.chrome import ChromeDriverManager\n",
    "from selenium.common.exceptions import NoSuchElementException, ElementClickInterceptedException\n",
    "\n",
    "options = webdriver.ChromeOptions()\n",
    "driver = webdriver.Chrome(service=Service(ChromeDriverManager().install()))\n",
    "driver.get(\"https://www.google.com\")"
   ]
  },
  {
   "cell_type": "code",
   "execution_count": 2,
   "id": "d72ad23a-7d9f-4a3f-b0d8-3ad2cb8d2fd5",
   "metadata": {},
   "outputs": [],
   "source": [
    "options = webdriver.ChromeOptions()\n",
    "driver = webdriver.Chrome(service=Service(ChromeDriverManager().install()))\n",
    "driver.get(\"https://www.google.com\")"
   ]
  },
  {
   "cell_type": "markdown",
   "id": "02e586d0-9229-467c-8af1-4ffcc689707f",
   "metadata": {},
   "source": [
    "# Test1"
   ]
  },
  {
   "cell_type": "code",
   "execution_count": 10,
   "id": "8ed0cb91-ff31-4725-aff6-9c4bb31d1401",
   "metadata": {},
   "outputs": [],
   "source": [
    "driver.get('https://www.mdig.com.br/index.php?itemid=44220')"
   ]
  },
  {
   "cell_type": "code",
   "execution_count": 7,
   "id": "ed27e3df-c3ac-4858-8126-a4a45d121c00",
   "metadata": {},
   "outputs": [
    {
     "data": {
      "text/plain": [
       "['https://www.mdig.com.br/index.php?itemid=45834',\n",
       " 'https://www.mdig.com.br/index.php?itemid=129',\n",
       " 'https://www.mdig.com.br/index.php?itemid=44413',\n",
       " 'https://www.mdig.com.br/index.php?itemid=26161',\n",
       " 'https://www.mdig.com.br/index.php?itemid=55166',\n",
       " 'https://www.mdig.com.br/index.php?itemid=1691',\n",
       " 'https://www.mdig.com.br/index.php?itemid=2633',\n",
       " 'https://www.mdig.com.br/index.php?itemid=44220',\n",
       " 'https://www.mdig.com.br/index.php?itemid=23896',\n",
       " 'https://www.mdig.com.br/index.php?itemid=34314',\n",
       " 'https://www.mdig.com.br/index.php?query=outra&startpos=4520#']"
      ]
     },
     "execution_count": 7,
     "metadata": {},
     "output_type": "execute_result"
    }
   ],
   "source": [
    "[i.get_attribute('href') for i in driver.find_elements('xpath', '//h2/a')]"
   ]
  },
  {
   "cell_type": "code",
   "execution_count": 9,
   "id": "14531761-73b0-4db5-adbc-ec1221daf4e8",
   "metadata": {},
   "outputs": [
    {
     "data": {
      "text/plain": [
       "'https://www.mdig.com.br/index.php?query=outra&startpos=4510'"
      ]
     },
     "execution_count": 9,
     "metadata": {},
     "output_type": "execute_result"
    }
   ],
   "source": [
    "driver.find_element('xpath', '//div[@class=\"pageswitch\"]//a').get_attribute('href')"
   ]
  },
  {
   "cell_type": "code",
   "execution_count": 19,
   "id": "2a891da7-a159-47f2-8cf0-2d99608bff56",
   "metadata": {},
   "outputs": [
    {
     "data": {
      "text/plain": [
       "'https://imagens.mdig.com.br/thbs/44220mn.jpg'"
      ]
     },
     "execution_count": 19,
     "metadata": {},
     "output_type": "execute_result"
    }
   ],
   "source": [
    "driver.find_element('xpath', '//img[@class=\"thbn\"]').get_attribute('src')"
   ]
  },
  {
   "cell_type": "code",
   "execution_count": 17,
   "id": "0a12f3f2-3b0f-45f1-9272-8c026afea0d0",
   "metadata": {},
   "outputs": [
    {
     "data": {
      "text/plain": [
       "'O que acontece quando uma das mentes mais brilhantes de nosso tempo desaparece sem deixar rastro e sem motivo algum? Que se organize uma das buscas mais épicas e espantosas das tantas que já existiram, lógico. Um resgate lendário, que buscava James Nicholas Gray, o homem que ajudou como poucos a resolver problemas, o cientista que recebeu o Prêmio Turing em 1998 por suas contribuições ao banco de dados e processamento de transações e a sua liderança na implementação de sistemas.'"
      ]
     },
     "execution_count": 17,
     "metadata": {},
     "output_type": "execute_result"
    }
   ],
   "source": [
    "driver.find_element('xpath', '//table[@class=\"thbody\"]').text"
   ]
  },
  {
   "cell_type": "code",
   "execution_count": 13,
   "id": "534f485d-ea23-40fb-97fc-c80cc366b7f4",
   "metadata": {},
   "outputs": [],
   "source": [
    "title = '/html/body/div[3]/div/div[2]/div[1]/div[1]/div[2]/div[1]/div[2]/h1'"
   ]
  },
  {
   "cell_type": "code",
   "execution_count": 14,
   "id": "81a52d1e-5a7b-495c-9028-937e3bb5b43c",
   "metadata": {},
   "outputs": [
    {
     "data": {
      "text/plain": [
       "'A inexplicável história de como uma das mentes mais brilhantes de nosso tempo desapareceu da face da Terra'"
      ]
     },
     "execution_count": 14,
     "metadata": {},
     "output_type": "execute_result"
    }
   ],
   "source": [
    "driver.find_element('xpath', title).text"
   ]
  },
  {
   "cell_type": "markdown",
   "id": "8b5d3298-08c6-478d-883b-15d3308a093b",
   "metadata": {},
   "source": [
    "## Extract main links"
   ]
  },
  {
   "cell_type": "code",
   "execution_count": 43,
   "id": "63dd3a83-665f-44ad-be48-a9f2ff107c7e",
   "metadata": {},
   "outputs": [
    {
     "data": {
      "text/plain": [
       "['https://www.reuters.com/video/2022/04/01/people-run-from-mariupol-shelling-in-eye?videoId=745678866',\n",
       " 'https://www.reuters.com/video/2022/04/13/video-shows-puppy-pulled-from-rubble-in?videoId=746105692',\n",
       " 'https://www.reuters.com/video/2022/04/20/video-shows-buses-waiting-to-leave-for-m?videoId=746318703',\n",
       " 'https://www.reuters.com/video/2022/05/10/donetsk-police-video-shows-injured-woman?videoId=747053884',\n",
       " 'https://www.reuters.com/video/2021/09/01/jordanian-sisters-create-edutaining-vide?videoId=734902249',\n",
       " 'https://www.reuters.com/video/2022/08/29/stars-dazzle-at-mtvs-video-music-awards?videoId=751195382',\n",
       " 'https://www.reuters.com/video/2022/03/10/video-shows-tank-destruction-near-brovar?videoId=744682318',\n",
       " 'https://www.reuters.com/video/2022/03/15/video-shows-people-running-for-cover-in?videoId=744935731',\n",
       " 'https://www.reuters.com/video/2022/05/17/russia-claims-video-shows-soldiers-leavi?videoId=747317267',\n",
       " 'https://www.reuters.com/video/2022/07/13/video-of-uvalde-rampage-shows-long-polic?videoId=749516388']"
      ]
     },
     "execution_count": 43,
     "metadata": {},
     "output_type": "execute_result"
    }
   ],
   "source": [
    "[i.get_attribute('href') for i in  driver.find_elements('xpath', '//h3[@class=\"title\"]'+'/a')]"
   ]
  },
  {
   "cell_type": "code",
   "execution_count": 32,
   "id": "d0994706-4f30-4980-a79a-385b03ca17b9",
   "metadata": {
    "tags": []
   },
   "outputs": [
    {
     "data": {
      "text/plain": [
       "'blob:https://www.reuters.com/63c22c47-bd3b-4ac7-9140-8f11f29ec115'"
      ]
     },
     "execution_count": 32,
     "metadata": {},
     "output_type": "execute_result"
    }
   ],
   "source": [
    "driver.find_element('xpath', '//video').get_attribute('src')"
   ]
  },
  {
   "cell_type": "markdown",
   "id": "00b62bbd-f4a7-4590-a8ba-2882aabdde80",
   "metadata": {},
   "source": [
    "## Page Load"
   ]
  },
  {
   "cell_type": "code",
   "execution_count": 57,
   "id": "3667f64e-8895-41d6-ba21-67f413a16244",
   "metadata": {},
   "outputs": [],
   "source": [
    "xpath_expresion_pagination = '//div[@class=\"search-result-more-txt\"]'"
   ]
  },
  {
   "cell_type": "code",
   "execution_count": null,
   "id": "17e25945-ccfb-47ab-9376-285d2a509e31",
   "metadata": {},
   "outputs": [],
   "source": []
  },
  {
   "cell_type": "code",
   "execution_count": 71,
   "id": "f1b578a5-82e2-42ee-8071-76072f4c8c46",
   "metadata": {},
   "outputs": [
    {
     "name": "stdout",
     "output_type": "stream",
     "text": [
      "No hay más Data\n"
     ]
    }
   ],
   "source": [
    "box_links = []\n",
    "previous_heigth = driver.execute_script('return document.body.scrollHeight')\n",
    "while True:\n",
    "    driver.execute_script('window.scrollTo(0,document.body.scrollHeight);')\n",
    "    time.sleep(2)\n",
    "    new_heigth = driver.execute_script('return document.body.scrollHeight')\n",
    "    \n",
    "    try:\n",
    "        driver.find_element('xpath', xpath_expresion_pagination).click()\n",
    "    except NoSuchElementException:\n",
    "        print('No hay más Data')\n",
    "        break\n",
    "    \n",
    "    if new_heigth == previous_heigth:\n",
    "        break\n",
    "    previous_heigth = new_heigth"
   ]
  },
  {
   "cell_type": "code",
   "execution_count": 138,
   "id": "e74b58db-9f3b-4167-98c5-f5e0e556e900",
   "metadata": {},
   "outputs": [],
   "source": [
    "next_page_xpath = '//div[@class=\"search-result-more-txt\"]'                         #input('Ingrese la ruta Xpath al elemento que lleva a la siguiente página: ')\n",
    "links_page_xpath =  '//h3[@class=\"title\"]/a'\n",
    "xpath_main_images = '//div[@class=\"thumb\"]//img'\n",
    "xpath_imagen = '//picture/img'\n",
    "xpath_title = '//h1'\n",
    "xpath_description = '//p[@class=\"TextLabel__text-label___3oCVw TextLabel__white___32MyF TextLabel__regular___2X0ym CurrentVideoDetails-current-video-description-1VoK7\"]'"
   ]
  },
  {
   "cell_type": "code",
   "execution_count": null,
   "id": "e3789b17-1724-4984-aff8-16f0788da645",
   "metadata": {},
   "outputs": [],
   "source": []
  },
  {
   "cell_type": "code",
   "execution_count": 205,
   "id": "542fcc77-76c4-436e-a652-8360966f2a1f",
   "metadata": {
    "tags": []
   },
   "outputs": [
    {
     "name": "stdout",
     "output_type": "stream",
     "text": [
      "No hay más Data\n",
      "ok\n",
      "No se encuentra el elemento imagenes\n",
      "No se encuentra el elemento imagenes\n",
      "No se encuentra el elemento imagenes\n",
      "No se encuentra el elemento imagenes\n",
      "No se encuentra el elemento imagenes\n",
      "No se encuentra el elemento imagenes\n",
      "No se encuentra el elemento imagenes\n",
      "No se encuentra el elemento imagenes\n",
      "No se encuentra el elemento imagenes\n",
      "No se encuentra el elemento imagenes\n",
      "No se encuentra el elemento imagenes\n",
      "No se encuentra el elemento imagenes\n",
      "No se encuentra el elemento imagenes\n",
      "No se encuentra el elemento imagenes\n",
      "No se encuentra el elemento imagenes\n",
      "No se encuentra el elemento imagenes\n",
      "No se encuentra el elemento imagenes\n",
      "No se encuentra el elemento imagenes\n",
      "No se encuentra el elemento imagenes\n",
      "No se encuentra el elemento imagenes\n",
      "No se encuentra el elemento imagenes\n",
      "No se encuentra el elemento imagenes\n",
      "No se encuentra el elemento imagenes\n",
      "No se encuentra el elemento imagenes\n",
      "No se encuentra el elemento imagenes\n",
      "No se encuentra el elemento imagenes\n",
      "No se encuentra el elemento imagenes\n",
      "No se encuentra el elemento imagenes\n",
      "No se encuentra el elemento imagenes\n"
     ]
    }
   ],
   "source": [
    "box = []\n",
    "\n",
    "urls = load_next_page(next_page_xpath, links_page_xpath, driver)\n",
    "for url in urls:\n",
    "  driver.get(url)\n",
    "  box.append(extract_data(xpath_imagen, xpath_title, xpath_description, driver))\n",
    "    "
   ]
  },
  {
   "cell_type": "code",
   "execution_count": 207,
   "id": "26aac6b2-4943-4d12-a03b-56a4bfa75f16",
   "metadata": {},
   "outputs": [],
   "source": [
    "df = pd.concat(box)"
   ]
  },
  {
   "cell_type": "code",
   "execution_count": 192,
   "id": "a3fe7006-c14c-4c0f-87ed-b033e737a574",
   "metadata": {},
   "outputs": [],
   "source": [
    "urls = list(set(urls))"
   ]
  },
  {
   "cell_type": "code",
   "execution_count": 213,
   "id": "b947e47f-3807-49df-9008-890576b6cc8d",
   "metadata": {},
   "outputs": [],
   "source": [
    "df['Main_images'] = images"
   ]
  },
  {
   "cell_type": "code",
   "execution_count": 214,
   "id": "0d226400-8487-4627-b7da-7c0ac1005c7d",
   "metadata": {},
   "outputs": [
    {
     "data": {
      "text/html": [
       "<div>\n",
       "<style scoped>\n",
       "    .dataframe tbody tr th:only-of-type {\n",
       "        vertical-align: middle;\n",
       "    }\n",
       "\n",
       "    .dataframe tbody tr th {\n",
       "        vertical-align: top;\n",
       "    }\n",
       "\n",
       "    .dataframe thead th {\n",
       "        text-align: right;\n",
       "    }\n",
       "</style>\n",
       "<table border=\"1\" class=\"dataframe\">\n",
       "  <thead>\n",
       "    <tr style=\"text-align: right;\">\n",
       "      <th></th>\n",
       "      <th>Imagen</th>\n",
       "      <th>Title</th>\n",
       "      <th>Description</th>\n",
       "      <th>Main_images</th>\n",
       "    </tr>\n",
       "  </thead>\n",
       "  <tbody>\n",
       "    <tr>\n",
       "      <th>0</th>\n",
       "      <td>None</td>\n",
       "      <td>Donetsk police video shows injured woman rescued</td>\n",
       "      <td>An injured woman was rescued from a basement a...</td>\n",
       "      <td>https://s1.reutersmedia.net/resources/r/?d=202...</td>\n",
       "    </tr>\n",
       "    <tr>\n",
       "      <th>0</th>\n",
       "      <td>None</td>\n",
       "      <td>Video shows puppy pulled from rubble in Ukraine</td>\n",
       "      <td>Video said to show Ukrainian rescuers pulling ...</td>\n",
       "      <td>https://s1.reutersmedia.net/resources/r/?d=202...</td>\n",
       "    </tr>\n",
       "    <tr>\n",
       "      <th>0</th>\n",
       "      <td>None</td>\n",
       "      <td>Video shows buses waiting to leave for Mariupol</td>\n",
       "      <td>Mariupol's city council on Wednesday released ...</td>\n",
       "      <td>https://s1.reutersmedia.net/resources/r/?d=202...</td>\n",
       "    </tr>\n",
       "    <tr>\n",
       "      <th>0</th>\n",
       "      <td>None</td>\n",
       "      <td>People run from Mariupol shelling in eyewitnes...</td>\n",
       "      <td>Eyewitness video from Tuesday (March 29) showe...</td>\n",
       "      <td>https://s1.reutersmedia.net/resources/r/?d=202...</td>\n",
       "    </tr>\n",
       "    <tr>\n",
       "      <th>0</th>\n",
       "      <td>None</td>\n",
       "      <td>Video shows tank destruction near Brovary, Ukr...</td>\n",
       "      <td>Video uploaded on Thursday (March 10) showed t...</td>\n",
       "      <td>https://s1.reutersmedia.net/resources/r/?d=202...</td>\n",
       "    </tr>\n",
       "    <tr>\n",
       "      <th>0</th>\n",
       "      <td>None</td>\n",
       "      <td>Jordanian sisters create ‘edutaining’ video games</td>\n",
       "      <td>15 and 19-year-old Jana and Sham Albdour creat...</td>\n",
       "      <td>https://s3.reutersmedia.net/resources/r/?d=202...</td>\n",
       "    </tr>\n",
       "    <tr>\n",
       "      <th>0</th>\n",
       "      <td>None</td>\n",
       "      <td>Stars dazzle at MTV's Video Music Awards</td>\n",
       "      <td>Music veterans and newcomers collided on the r...</td>\n",
       "      <td>https://s1.reutersmedia.net/resources/r/?d=202...</td>\n",
       "    </tr>\n",
       "    <tr>\n",
       "      <th>0</th>\n",
       "      <td>None</td>\n",
       "      <td>Video shows people running for cover in Kharkiv</td>\n",
       "      <td>Video from the eastern Ukrainian city of Khark...</td>\n",
       "      <td>https://s1.reutersmedia.net/resources/r/?d=202...</td>\n",
       "    </tr>\n",
       "    <tr>\n",
       "      <th>0</th>\n",
       "      <td>None</td>\n",
       "      <td>Video of Uvalde rampage shows long police delay</td>\n",
       "      <td>A Texas newspaper on Tuesday posted video of p...</td>\n",
       "      <td>https://s1.reutersmedia.net/resources/r/?d=202...</td>\n",
       "    </tr>\n",
       "    <tr>\n",
       "      <th>0</th>\n",
       "      <td>None</td>\n",
       "      <td>Video said to show Ukraine troops in Kherson area</td>\n",
       "      <td>A social media video is said to show a Ukraini...</td>\n",
       "      <td>https://s1.reutersmedia.net/resources/r/?d=202...</td>\n",
       "    </tr>\n",
       "    <tr>\n",
       "      <th>0</th>\n",
       "      <td>None</td>\n",
       "      <td>Ukraine releases video of firefighters at mall...</td>\n",
       "      <td>Firefighters battled a large blaze at a destro...</td>\n",
       "      <td>https://s1.reutersmedia.net/resources/r/?d=202...</td>\n",
       "    </tr>\n",
       "    <tr>\n",
       "      <th>0</th>\n",
       "      <td>None</td>\n",
       "      <td>Russia claims video shows soldiers leaving Azo...</td>\n",
       "      <td>Russia's defence ministry released a video on ...</td>\n",
       "      <td>https://s1.reutersmedia.net/resources/r/?d=202...</td>\n",
       "    </tr>\n",
       "    <tr>\n",
       "      <th>0</th>\n",
       "      <td>None</td>\n",
       "      <td>Ukraine releases video of soldiers ‘near Russi...</td>\n",
       "      <td>The Ukrainian Ministry of Defence on Sunday (M...</td>\n",
       "      <td>https://s1.reutersmedia.net/resources/r/?d=202...</td>\n",
       "    </tr>\n",
       "    <tr>\n",
       "      <th>0</th>\n",
       "      <td>None</td>\n",
       "      <td>Eyewitness video shows flooding in downtown Mo...</td>\n",
       "      <td>Streets flooded in downtown Moab on Saturday (...</td>\n",
       "      <td>https://s1.reutersmedia.net/resources/r/?d=202...</td>\n",
       "    </tr>\n",
       "    <tr>\n",
       "      <th>0</th>\n",
       "      <td>None</td>\n",
       "      <td>Bodycam video: Deputies evacuate Colorado pets...</td>\n",
       "      <td>Bodycam video shows the dramatic and dangerous...</td>\n",
       "      <td>https://s2.reutersmedia.net/resources/r/?d=202...</td>\n",
       "    </tr>\n",
       "    <tr>\n",
       "      <th>0</th>\n",
       "      <td>None</td>\n",
       "      <td>Video shows bodies at Kramatorsk railway station</td>\n",
       "      <td>Graphic video shared by the Ukrainian Ministry...</td>\n",
       "      <td>https://s1.reutersmedia.net/resources/r/?d=202...</td>\n",
       "    </tr>\n",
       "    <tr>\n",
       "      <th>0</th>\n",
       "      <td>None</td>\n",
       "      <td>Ukraine's Zelenskiy appeals for help in Grammy...</td>\n",
       "      <td>Ukrainian President Volodymyr Zelenskiy on Sun...</td>\n",
       "      <td>https://s1.reutersmedia.net/resources/r/?d=202...</td>\n",
       "    </tr>\n",
       "    <tr>\n",
       "      <th>0</th>\n",
       "      <td>None</td>\n",
       "      <td>Police video shows arrest of Alabama inmate an...</td>\n",
       "      <td>This video contains graphic content. Police in...</td>\n",
       "      <td>https://s1.reutersmedia.net/resources/r/?d=202...</td>\n",
       "    </tr>\n",
       "    <tr>\n",
       "      <th>0</th>\n",
       "      <td>None</td>\n",
       "      <td>Michigan police release Patrick Lyoya shooting...</td>\n",
       "      <td>Police in Grand Rapids, Michigan on Wednesday ...</td>\n",
       "      <td>https://s1.reutersmedia.net/resources/r/?d=202...</td>\n",
       "    </tr>\n",
       "    <tr>\n",
       "      <th>0</th>\n",
       "      <td>None</td>\n",
       "      <td>Video said to show bombed Mariupol theater</td>\n",
       "      <td>Video said to show Marupol's bombed theater, w...</td>\n",
       "      <td>https://s1.reutersmedia.net/resources/r/?d=202...</td>\n",
       "    </tr>\n",
       "    <tr>\n",
       "      <th>0</th>\n",
       "      <td>None</td>\n",
       "      <td>Eyewitness video shows large bushfire in Calif...</td>\n",
       "      <td>A bushfire burning close to the city of Novato...</td>\n",
       "      <td>https://s1.reutersmedia.net/resources/r/?d=202...</td>\n",
       "    </tr>\n",
       "    <tr>\n",
       "      <th>0</th>\n",
       "      <td>None</td>\n",
       "      <td>Russia releases video of demining teams in Don...</td>\n",
       "      <td>The Russian Emergencies Ministry released a vi...</td>\n",
       "      <td>https://s1.reutersmedia.net/resources/r/?d=202...</td>\n",
       "    </tr>\n",
       "    <tr>\n",
       "      <th>0</th>\n",
       "      <td>None</td>\n",
       "      <td>Russia says video shows troops demining in Mar...</td>\n",
       "      <td>Russia's Defence Ministry released footage on ...</td>\n",
       "      <td>https://s1.reutersmedia.net/resources/r/?d=202...</td>\n",
       "    </tr>\n",
       "    <tr>\n",
       "      <th>0</th>\n",
       "      <td>None</td>\n",
       "      <td>Nigerian soccer joins video game big league</td>\n",
       "      <td>After three years of tinkering and writing hun...</td>\n",
       "      <td>https://s1.reutersmedia.net/resources/r/?d=202...</td>\n",
       "    </tr>\n",
       "    <tr>\n",
       "      <th>0</th>\n",
       "      <td>None</td>\n",
       "      <td>Nigerian soccer joins video game big league</td>\n",
       "      <td>After three years of tinkering and writing hun...</td>\n",
       "      <td>https://s1.reutersmedia.net/resources/r/?d=202...</td>\n",
       "    </tr>\n",
       "    <tr>\n",
       "      <th>0</th>\n",
       "      <td>None</td>\n",
       "      <td>Taiwan releases video in response to China drills</td>\n",
       "      <td>Taiwan’s Defense Ministry on Wednesday (August...</td>\n",
       "      <td>https://s1.reutersmedia.net/resources/r/?d=202...</td>\n",
       "    </tr>\n",
       "    <tr>\n",
       "      <th>0</th>\n",
       "      <td>None</td>\n",
       "      <td>Finnish premier slams leaked video of her dancing</td>\n",
       "      <td>Finland's Prime Minister Sanna Marin said on T...</td>\n",
       "      <td>https://s1.reutersmedia.net/resources/r/?d=202...</td>\n",
       "    </tr>\n",
       "    <tr>\n",
       "      <th>0</th>\n",
       "      <td>None</td>\n",
       "      <td>'Reprehensible': Arkansas governor on video of...</td>\n",
       "      <td>Arkansas Governor Asa Hutchinson on Monday sai...</td>\n",
       "      <td>https://s1.reutersmedia.net/resources/r/?d=202...</td>\n",
       "    </tr>\n",
       "    <tr>\n",
       "      <th>0</th>\n",
       "      <td>None</td>\n",
       "      <td>SES Ukraine video shows bombs removed in Chern...</td>\n",
       "      <td>Ukrainian State Emergency Services released a ...</td>\n",
       "      <td>https://s1.reutersmedia.net/resources/r/?d=202...</td>\n",
       "    </tr>\n",
       "  </tbody>\n",
       "</table>\n",
       "</div>"
      ],
      "text/plain": [
       "  Imagen                                              Title  \\\n",
       "0   None   Donetsk police video shows injured woman rescued   \n",
       "0   None    Video shows puppy pulled from rubble in Ukraine   \n",
       "0   None    Video shows buses waiting to leave for Mariupol   \n",
       "0   None  People run from Mariupol shelling in eyewitnes...   \n",
       "0   None  Video shows tank destruction near Brovary, Ukr...   \n",
       "0   None  Jordanian sisters create ‘edutaining’ video games   \n",
       "0   None           Stars dazzle at MTV's Video Music Awards   \n",
       "0   None    Video shows people running for cover in Kharkiv   \n",
       "0   None    Video of Uvalde rampage shows long police delay   \n",
       "0   None  Video said to show Ukraine troops in Kherson area   \n",
       "0   None  Ukraine releases video of firefighters at mall...   \n",
       "0   None  Russia claims video shows soldiers leaving Azo...   \n",
       "0   None  Ukraine releases video of soldiers ‘near Russi...   \n",
       "0   None  Eyewitness video shows flooding in downtown Mo...   \n",
       "0   None  Bodycam video: Deputies evacuate Colorado pets...   \n",
       "0   None   Video shows bodies at Kramatorsk railway station   \n",
       "0   None  Ukraine's Zelenskiy appeals for help in Grammy...   \n",
       "0   None  Police video shows arrest of Alabama inmate an...   \n",
       "0   None  Michigan police release Patrick Lyoya shooting...   \n",
       "0   None         Video said to show bombed Mariupol theater   \n",
       "0   None  Eyewitness video shows large bushfire in Calif...   \n",
       "0   None  Russia releases video of demining teams in Don...   \n",
       "0   None  Russia says video shows troops demining in Mar...   \n",
       "0   None        Nigerian soccer joins video game big league   \n",
       "0   None        Nigerian soccer joins video game big league   \n",
       "0   None  Taiwan releases video in response to China drills   \n",
       "0   None  Finnish premier slams leaked video of her dancing   \n",
       "0   None  'Reprehensible': Arkansas governor on video of...   \n",
       "0   None  SES Ukraine video shows bombs removed in Chern...   \n",
       "\n",
       "                                         Description  \\\n",
       "0  An injured woman was rescued from a basement a...   \n",
       "0  Video said to show Ukrainian rescuers pulling ...   \n",
       "0  Mariupol's city council on Wednesday released ...   \n",
       "0  Eyewitness video from Tuesday (March 29) showe...   \n",
       "0  Video uploaded on Thursday (March 10) showed t...   \n",
       "0  15 and 19-year-old Jana and Sham Albdour creat...   \n",
       "0  Music veterans and newcomers collided on the r...   \n",
       "0  Video from the eastern Ukrainian city of Khark...   \n",
       "0  A Texas newspaper on Tuesday posted video of p...   \n",
       "0  A social media video is said to show a Ukraini...   \n",
       "0  Firefighters battled a large blaze at a destro...   \n",
       "0  Russia's defence ministry released a video on ...   \n",
       "0  The Ukrainian Ministry of Defence on Sunday (M...   \n",
       "0  Streets flooded in downtown Moab on Saturday (...   \n",
       "0  Bodycam video shows the dramatic and dangerous...   \n",
       "0  Graphic video shared by the Ukrainian Ministry...   \n",
       "0  Ukrainian President Volodymyr Zelenskiy on Sun...   \n",
       "0  This video contains graphic content. Police in...   \n",
       "0  Police in Grand Rapids, Michigan on Wednesday ...   \n",
       "0  Video said to show Marupol's bombed theater, w...   \n",
       "0  A bushfire burning close to the city of Novato...   \n",
       "0  The Russian Emergencies Ministry released a vi...   \n",
       "0  Russia's Defence Ministry released footage on ...   \n",
       "0  After three years of tinkering and writing hun...   \n",
       "0  After three years of tinkering and writing hun...   \n",
       "0  Taiwan’s Defense Ministry on Wednesday (August...   \n",
       "0  Finland's Prime Minister Sanna Marin said on T...   \n",
       "0  Arkansas Governor Asa Hutchinson on Monday sai...   \n",
       "0  Ukrainian State Emergency Services released a ...   \n",
       "\n",
       "                                         Main_images  \n",
       "0  https://s1.reutersmedia.net/resources/r/?d=202...  \n",
       "0  https://s1.reutersmedia.net/resources/r/?d=202...  \n",
       "0  https://s1.reutersmedia.net/resources/r/?d=202...  \n",
       "0  https://s1.reutersmedia.net/resources/r/?d=202...  \n",
       "0  https://s1.reutersmedia.net/resources/r/?d=202...  \n",
       "0  https://s3.reutersmedia.net/resources/r/?d=202...  \n",
       "0  https://s1.reutersmedia.net/resources/r/?d=202...  \n",
       "0  https://s1.reutersmedia.net/resources/r/?d=202...  \n",
       "0  https://s1.reutersmedia.net/resources/r/?d=202...  \n",
       "0  https://s1.reutersmedia.net/resources/r/?d=202...  \n",
       "0  https://s1.reutersmedia.net/resources/r/?d=202...  \n",
       "0  https://s1.reutersmedia.net/resources/r/?d=202...  \n",
       "0  https://s1.reutersmedia.net/resources/r/?d=202...  \n",
       "0  https://s1.reutersmedia.net/resources/r/?d=202...  \n",
       "0  https://s2.reutersmedia.net/resources/r/?d=202...  \n",
       "0  https://s1.reutersmedia.net/resources/r/?d=202...  \n",
       "0  https://s1.reutersmedia.net/resources/r/?d=202...  \n",
       "0  https://s1.reutersmedia.net/resources/r/?d=202...  \n",
       "0  https://s1.reutersmedia.net/resources/r/?d=202...  \n",
       "0  https://s1.reutersmedia.net/resources/r/?d=202...  \n",
       "0  https://s1.reutersmedia.net/resources/r/?d=202...  \n",
       "0  https://s1.reutersmedia.net/resources/r/?d=202...  \n",
       "0  https://s1.reutersmedia.net/resources/r/?d=202...  \n",
       "0  https://s1.reutersmedia.net/resources/r/?d=202...  \n",
       "0  https://s1.reutersmedia.net/resources/r/?d=202...  \n",
       "0  https://s1.reutersmedia.net/resources/r/?d=202...  \n",
       "0  https://s1.reutersmedia.net/resources/r/?d=202...  \n",
       "0  https://s1.reutersmedia.net/resources/r/?d=202...  \n",
       "0  https://s1.reutersmedia.net/resources/r/?d=202...  "
      ]
     },
     "execution_count": 214,
     "metadata": {},
     "output_type": "execute_result"
    }
   ],
   "source": [
    "df"
   ]
  },
  {
   "cell_type": "code",
   "execution_count": 198,
   "id": "39fee30e-1c6c-43e7-ae6c-ca967b78f81b",
   "metadata": {},
   "outputs": [
    {
     "data": {
      "text/plain": [
       "29"
      ]
     },
     "execution_count": 198,
     "metadata": {},
     "output_type": "execute_result"
    }
   ],
   "source": [
    "len(urls)"
   ]
  },
  {
   "cell_type": "code",
   "execution_count": 193,
   "id": "ffee354c-5e10-4c17-b4ce-cae8eeb2b907",
   "metadata": {},
   "outputs": [
    {
     "data": {
      "text/plain": [
       "False"
      ]
     },
     "execution_count": 193,
     "metadata": {},
     "output_type": "execute_result"
    }
   ],
   "source": [
    "'https://www.reuters.com/video/watch/ses-ukraine-video-shows-bombs-removed-in-id746391653' in urls"
   ]
  },
  {
   "cell_type": "code",
   "execution_count": 202,
   "id": "79e8b470-072c-46e5-94c9-95aa02df9ad2",
   "metadata": {},
   "outputs": [],
   "source": [
    "images = [i.get_attribute('src') for i in driver.find_elements('xpath', xpath_main_images)]"
   ]
  },
  {
   "cell_type": "code",
   "execution_count": 203,
   "id": "14a495b2-9fb4-4421-8ba0-444c574e4b8d",
   "metadata": {},
   "outputs": [
    {
     "data": {
      "text/plain": [
       "['https://s1.reutersmedia.net/resources/r/?d=20220510&i=OV701810052022RP1&w=300&r=OV701810052022RP1&t=2',\n",
       " 'https://s1.reutersmedia.net/resources/r/?d=20220413&i=OV156913042022RP1&w=300&r=OV156913042022RP1&t=2',\n",
       " 'https://s1.reutersmedia.net/resources/r/?d=20220420&i=OV292020042022RP1&w=300&r=OV292020042022RP1&t=2',\n",
       " 'https://s1.reutersmedia.net/resources/r/?d=20220401&i=OV887301042022RP1&w=300&r=OV887301042022RP1&t=2',\n",
       " 'https://s1.reutersmedia.net/resources/r/?d=20220310&i=OV368010032022RP1&w=300&r=OV368010032022RP1&t=2',\n",
       " 'https://s3.reutersmedia.net/resources/r/?d=20210901&i=OVESW97C7&w=300&r=OVESW97C7&t=2',\n",
       " 'https://s1.reutersmedia.net/resources/r/?d=20220829&i=OV132129082022RP1&w=300&r=OV132129082022RP1&t=2',\n",
       " 'https://s1.reutersmedia.net/resources/r/?d=20220315&i=OV490915032022RP1&w=300&r=OV490915032022RP1&t=2',\n",
       " 'https://s1.reutersmedia.net/resources/r/?d=20220713&i=RW159013072022RP1&w=300&r=RW159013072022RP1&t=2',\n",
       " 'https://s1.reutersmedia.net/resources/r/?d=20220906&i=OV318806092022RP1&w=300&r=OV318806092022RP1&t=2',\n",
       " 'https://s1.reutersmedia.net/resources/r/?d=20220510&i=OV694910052022RP1&w=300&r=OV694910052022RP1&t=2',\n",
       " 'https://s1.reutersmedia.net/resources/r/?d=20220517&i=OV856817052022RP1&w=300&r=OV856817052022RP1&t=2',\n",
       " 'https://s1.reutersmedia.net/resources/r/?d=20220516&i=OV827216052022RP1&w=300&r=OV827216052022RP1&t=2',\n",
       " 'https://s1.reutersmedia.net/resources/r/?d=20220821&i=OV977821082022RP1&w=300&r=OV977821082022RP1&t=2',\n",
       " 'https://s2.reutersmedia.net/resources/r/?d=20220114&i=OVFU7POTB&w=300&r=OVFU7POTB&t=2',\n",
       " 'https://s1.reutersmedia.net/resources/r/?d=20220408&i=OV052608042022RP1&w=300&r=OV052608042022RP1&t=2',\n",
       " 'https://s1.reutersmedia.net/resources/r/?d=20220404&i=OV933604042022RP1&w=300&r=OV933604042022RP1&t=2',\n",
       " 'https://s1.reutersmedia.net/resources/r/?d=20220511&i=OV716811052022RP1&w=300&r=OV716811052022RP1&t=2',\n",
       " 'https://s1.reutersmedia.net/resources/r/?d=20220414&i=OV181814042022RP1&w=300&r=OV181814042022RP1&t=2',\n",
       " 'https://s1.reutersmedia.net/resources/r/?d=20220318&i=OV572818032022RP1&w=300&r=OV572818032022RP1&t=2',\n",
       " 'https://s1.reutersmedia.net/resources/r/?d=20220629&i=OV822529062022RP1&w=300&r=OV822529062022RP1&t=2',\n",
       " 'https://s1.reutersmedia.net/resources/r/?d=20220607&i=OV322107062022RP1&w=300&r=OV322107062022RP1&t=2',\n",
       " 'https://s1.reutersmedia.net/resources/r/?d=20220524&i=OV026424052022RP1&w=300&r=OV026424052022RP1&t=2',\n",
       " 'https://s1.reutersmedia.net/resources/r/?d=20220708&i=OV061508072022RP1&w=300&r=OV061508072022RP1&t=2',\n",
       " 'https://s1.reutersmedia.net/resources/r/?d=20220708&i=OV059008072022RP1&w=300&r=OV059008072022RP1&t=2',\n",
       " 'https://s1.reutersmedia.net/resources/r/?d=20220810&i=OV773110082022RP1&w=300&r=OV773110082022RP1&t=2',\n",
       " 'https://s1.reutersmedia.net/resources/r/?d=20220819&i=OV951419082022RP1&w=300&r=OV951419082022RP1&t=2',\n",
       " 'https://s1.reutersmedia.net/resources/r/?d=20220822&i=OV996822082022RP1&w=300&r=OV996822082022RP1&t=2',\n",
       " 'https://s1.reutersmedia.net/resources/r/?d=20220422&i=OV333522042022RP1&w=300&r=OV333522042022RP1&t=2']"
      ]
     },
     "execution_count": 203,
     "metadata": {},
     "output_type": "execute_result"
    }
   ],
   "source": [
    "images "
   ]
  },
  {
   "cell_type": "code",
   "execution_count": 195,
   "id": "db393a95-32e5-4987-a3c2-4bcb45c26e5d",
   "metadata": {},
   "outputs": [],
   "source": [
    "a = [i.get_attribute('href') for i in driver.find_elements('xpath', links_page_xpath)]"
   ]
  },
  {
   "cell_type": "code",
   "execution_count": 196,
   "id": "41f86b63-fb02-4711-a11d-71ddb3a67b8d",
   "metadata": {},
   "outputs": [
    {
     "data": {
      "text/plain": [
       "False"
      ]
     },
     "execution_count": 196,
     "metadata": {},
     "output_type": "execute_result"
    }
   ],
   "source": [
    "'https://www.reuters.com/video/watch/ses-ukraine-video-shows-bombs-removed-in-id746391653' in a"
   ]
  },
  {
   "cell_type": "code",
   "execution_count": 204,
   "id": "16653efc-dfab-4627-9252-dfeb9577857c",
   "metadata": {},
   "outputs": [],
   "source": [
    "def extract_data(xpath_imagen, xpath_title, xpath_description, driver):\n",
    "  try:\n",
    "    imagen = driver.find_element('xpath', xpath_imagen).get_attribute('src')\n",
    "    if not imagen:\n",
    "      imagen = driver.find_element('xpath', xpath_imagen).get_attribute('srcset')\n",
    "  except NoSuchElementException:\n",
    "    print('No se encuentra el elemento imagenes')\n",
    "    imagen = None\n",
    "  try:\n",
    "    title  = driver.find_element('xpath', xpath_title).text\n",
    "  except NoSuchElementException:\n",
    "    print('No se encuentra el elementto title')\n",
    "    title = None\n",
    "  try:\n",
    "    description = driver.find_element('xpath', xpath_description).text\n",
    "  except NoSuchElementException:\n",
    "    print('No se encuentra el elemento description')\n",
    "    description = None\n",
    "  df = pd.DataFrame([{\n",
    "      'Imagen':imagen,\n",
    "      'Title': title,\n",
    "      'Description': description \n",
    "                 }])\n",
    "  return df"
   ]
  },
  {
   "cell_type": "code",
   "execution_count": 179,
   "id": "2f69e178-96fe-4704-b271-699b9e51e02d",
   "metadata": {},
   "outputs": [],
   "source": [
    "def load_next_page(next_page_xpath, links_page_xpath, driver):\n",
    "  boton_ventana_emergente = None\n",
    "  box_links = []\n",
    "  \n",
    "  try:\n",
    "    previous_heigth = driver.execute_script('return document.body.scrollHeight')\n",
    "    while True:\n",
    "      driver.execute_script('window.scrollTo(0,document.body.scrollHeight);')\n",
    "      time.sleep(2)\n",
    "      new_heigth = driver.execute_script('return document.body.scrollHeight')\n",
    "        \n",
    "      try:\n",
    "        driver.find_element('xpath', next_page_xpath).click()\n",
    "        links = [i.get_attribute('href') for i in driver.find_elements('xpath', links_page_xpath)]\n",
    "        box_links.extend(links)\n",
    "\n",
    "      except NoSuchElementException:\n",
    "          print('No hay más Data')\n",
    "          break\n",
    "        \n",
    "#       if new_heigth == previous_heigth:\n",
    "#           break\n",
    "      previous_heigth = new_heigth\n",
    "    \n",
    "    try:\n",
    "        time.sleep(7)\n",
    "        links = [i.get_attribute('href') for i in driver.find_elements('xpath', links_page_xpath)]\n",
    "        box_links.extend(links)\n",
    "        print('ok')\n",
    "    except NoSuchElementException:\n",
    "        print('No hay mas')\n",
    "    return box_links\n",
    "  except ElementClickInterceptedException as ex:\n",
    "      if not boton_ventana_emergente:\n",
    "          print(f'Hay un objeto bloqueando el boton, vea el error y coloque la direccion del boton que bloquea la pagina en la variable \"boton_ventana_emergente\". \\n-* Error: {ex.msg} -*')\n",
    "          boton_ventana_emergente = input('Ingrese la ruta Xpath al elemento de la ventana emergente: ') + '[last()]'\n",
    "      else:\n",
    "          try:\n",
    "              driver.find_element('xpath',boton_ventana_emergente).click()\n",
    "          except Exception:\n",
    "              print('Error al seleccionar el elemento')"
   ]
  },
  {
   "cell_type": "markdown",
   "id": "5d3b5cde-83c1-4c65-928e-2373c98499b2",
   "metadata": {},
   "source": [
    "## Pagination"
   ]
  },
  {
   "cell_type": "code",
   "execution_count": 123,
   "id": "d346843f-8241-4964-890e-a1580550e935",
   "metadata": {},
   "outputs": [],
   "source": [
    "driver.get('https://www.autoblog.it/categoria/video/page/161')"
   ]
  },
  {
   "cell_type": "code",
   "execution_count": 117,
   "id": "c21f0fae-cb90-4f61-a26e-cfa712b2912d",
   "metadata": {},
   "outputs": [],
   "source": [
    "driver.get('https://www.autoblog.it/categoria/video')"
   ]
  },
  {
   "cell_type": "code",
   "execution_count": 125,
   "id": "460c1d6d-391c-407d-8494-1d3c5ccbf203",
   "metadata": {
    "tags": []
   },
   "outputs": [],
   "source": [
    "try:\n",
    "    driver.find_element('xpath', '//a[@class=\"next page-numbers\"]').get_attribute('href')\n",
    "except NoSuchElementException:\n",
    "    pass"
   ]
  },
  {
   "cell_type": "code",
   "execution_count": 126,
   "id": "8a016942-c57a-4642-bd59-a2ec6c475ca3",
   "metadata": {},
   "outputs": [
    {
     "data": {
      "text/plain": [
       "'https://www.autoblog.it/categoria/video/page/161'"
      ]
     },
     "execution_count": 126,
     "metadata": {},
     "output_type": "execute_result"
    }
   ],
   "source": [
    "driver.current_url"
   ]
  },
  {
   "cell_type": "markdown",
   "id": "7b780f4c-f3f6-46b7-9089-8941d9e86065",
   "metadata": {},
   "source": [
    "## Ventanas emetgentes"
   ]
  },
  {
   "cell_type": "code",
   "execution_count": 91,
   "id": "68ed864f-6c5b-450e-b762-ec8ae17bce05",
   "metadata": {},
   "outputs": [],
   "source": [
    "boton_ventana_emergente = None"
   ]
  },
  {
   "cell_type": "code",
   "execution_count": 101,
   "id": "03316598-a721-42ff-992c-d06c32815d39",
   "metadata": {},
   "outputs": [],
   "source": [
    "boton_ventana_emergente = '//button[@mode=\"secondary\"][last()]'"
   ]
  },
  {
   "cell_type": "code",
   "execution_count": 114,
   "id": "01e57934-1e91-4433-84ec-b1fd6977f7ca",
   "metadata": {
    "tags": []
   },
   "outputs": [],
   "source": [
    "try:\n",
    "    driver.find_element('xpath', '//a[@class=\"next page-numbers\"]').click()\n",
    "except ElementClickInterceptedException as ex:\n",
    "    if not boton_ventana_emergente:\n",
    "        print(f'Hay un objeto bloqueando el boton, vea el error y coloque la direccion del boton que bloquea la pagina en la variable \"boton_ventana_emergente\". \\n-* Error: {ex.msg} -*')\n",
    "    else:\n",
    "        try:\n",
    "            driver.find_element('xpath',boton_ventana_emergente).click()\n",
    "        except Exception:\n",
    "            print('Error al seleccionar el elemento')"
   ]
  },
  {
   "cell_type": "code",
   "execution_count": 103,
   "id": "f74092ad-ba1f-491d-96c3-c8df4cfaf388",
   "metadata": {},
   "outputs": [],
   "source": [
    "driver.find_element('xpath', boton_ventana_emergente).click()"
   ]
  },
  {
   "cell_type": "markdown",
   "id": "0604b4a1-29f9-4c24-bb14-4e77b5ed7a4a",
   "metadata": {},
   "source": [
    "## Content"
   ]
  },
  {
   "cell_type": "code",
   "execution_count": 122,
   "id": "bdacadf9-c3ac-418b-9aff-d418e95cfb22",
   "metadata": {
    "collapsed": true,
    "jupyter": {
     "outputs_hidden": true
    },
    "tags": []
   },
   "outputs": [
    {
     "ename": "NameError",
     "evalue": "name 'dirver' is not defined",
     "output_type": "error",
     "traceback": [
      "\u001b[0;31m---------------------------------------------------------------------------\u001b[0m",
      "\u001b[0;31mNameError\u001b[0m                                 Traceback (most recent call last)",
      "\u001b[0;32m/tmp/ipykernel_664/3240115748.py\u001b[0m in \u001b[0;36m<module>\u001b[0;34m\u001b[0m\n\u001b[0;32m----> 1\u001b[0;31m \u001b[0mimagen\u001b[0m \u001b[0;34m=\u001b[0m \u001b[0mdirver\u001b[0m\u001b[0;34m.\u001b[0m\u001b[0mfind\u001b[0m\u001b[0;34m(\u001b[0m\u001b[0;34m'xpath'\u001b[0m\u001b[0;34m,\u001b[0m \u001b[0mxpath_imagen\u001b[0m\u001b[0;34m)\u001b[0m\u001b[0;34m.\u001b[0m\u001b[0mget_attribute\u001b[0m\u001b[0;34m(\u001b[0m\u001b[0;34m'src'\u001b[0m\u001b[0;34m)\u001b[0m\u001b[0;34m\u001b[0m\u001b[0;34m\u001b[0m\u001b[0m\n\u001b[0m",
      "\u001b[0;31mNameError\u001b[0m: name 'dirver' is not defined"
     ]
    }
   ],
   "source": [
    "imagen = driver.find('xpath', xpath_imagen).get_attribute('src')"
   ]
  },
  {
   "cell_type": "code",
   "execution_count": 127,
   "id": "3f406459-38d8-439e-9e8b-fc2a52235b83",
   "metadata": {},
   "outputs": [],
   "source": [
    "import pandas as pd"
   ]
  },
  {
   "cell_type": "code",
   "execution_count": 128,
   "id": "d9d8125c-a165-4a64-a25e-087e89099c9d",
   "metadata": {},
   "outputs": [],
   "source": [
    "xpath_imagen = '//picture/img'\n"
   ]
  },
  {
   "cell_type": "code",
   "execution_count": 131,
   "id": "6e44b1f4-bbde-43c9-b1e8-b3dad1960605",
   "metadata": {},
   "outputs": [],
   "source": [
    "i = driver.find_element('xpath', xpath_imagen).get_attribute('src')"
   ]
  },
  {
   "cell_type": "code",
   "execution_count": 132,
   "id": "7b67e55e-61fe-4e50-a703-a96f6fc605c5",
   "metadata": {},
   "outputs": [
    {
     "name": "stdout",
     "output_type": "stream",
     "text": [
      "4\n"
     ]
    }
   ],
   "source": [
    "if not i:\n",
    "    print('4')"
   ]
  },
  {
   "cell_type": "code",
   "execution_count": 135,
   "id": "b4b11f58-c6f5-45d2-8258-d1e7aeced94f",
   "metadata": {},
   "outputs": [],
   "source": [
    "imagen = driver.find_element('xpath', xpath_imagen).get_attribute('src')\n",
    "if not imagen:\n",
    "    imagen = driver.find_element('xpath', xpath_imagen).get_attribute('srcset')"
   ]
  },
  {
   "cell_type": "code",
   "execution_count": 136,
   "id": "d82aeec9-a37c-4530-97ac-812adf8c9997",
   "metadata": {},
   "outputs": [
    {
     "data": {
      "text/plain": [
       "'https://cdn.autoblog.it/xWZ5mEEnwOqTJJEEvxy468BhV1Y=/1035x580/smart/https://www.autoblog.it/app/uploads/2005/10/bmw-e92-coupe-2006.jpg, https://cdn.autoblog.it/Ff5B2fB71EprTn3yMI4D1Baavm0=/2300x1294/smart/https://www.autoblog.it/app/uploads/2005/10/bmw-e92-coupe-2006.jpg 2x'"
      ]
     },
     "execution_count": 136,
     "metadata": {},
     "output_type": "execute_result"
    }
   ],
   "source": [
    "imagen"
   ]
  },
  {
   "cell_type": "code",
   "execution_count": null,
   "id": "2aadf04d-5b90-46e5-99ff-e145119bc37d",
   "metadata": {},
   "outputs": [],
   "source": [
    "pd.DataFrame"
   ]
  },
  {
   "cell_type": "code",
   "execution_count": null,
   "id": "324df671-66fd-47c6-a8c9-4e4f0d7cad2a",
   "metadata": {},
   "outputs": [],
   "source": []
  },
  {
   "cell_type": "code",
   "execution_count": 3,
   "id": "b9e6c20b-49f2-447e-86c0-cc74756d99ec",
   "metadata": {},
   "outputs": [],
   "source": [
    "driver.get('https://www.autoblog.it/post/2885/enzo-crash-malibu')"
   ]
  },
  {
   "cell_type": "code",
   "execution_count": 10,
   "id": "eaadbf85-cfc3-43f2-af8f-e8a6be6bbea1",
   "metadata": {},
   "outputs": [
    {
     "data": {
      "text/plain": [
       "['https://cdn.autoblog.it/GOvf7yGvdxx6QnmGwR8vAi5yZkY=/1035x580/smart/https://www.autoblog.it/app/uploads/2006/02/ferrari-enzo-malibu.jpg']"
      ]
     },
     "execution_count": 10,
     "metadata": {},
     "output_type": "execute_result"
    }
   ],
   "source": [
    "driver.find_element('xpath', '//img[@class=\"lazyloaded\"]').get_attribute('srcset').split(',')[0].split(',')"
   ]
  },
  {
   "cell_type": "code",
   "execution_count": null,
   "id": "6d66a8a7-6837-4929-8d1a-09f9cf33d77c",
   "metadata": {},
   "outputs": [],
   "source": []
  },
  {
   "cell_type": "code",
   "execution_count": null,
   "id": "0756af0f-1c83-480d-b8f9-8fc850dbbc0b",
   "metadata": {},
   "outputs": [],
   "source": []
  },
  {
   "cell_type": "code",
   "execution_count": null,
   "id": "c48b2057-c326-4d26-ae89-646cdb462274",
   "metadata": {},
   "outputs": [],
   "source": []
  },
  {
   "cell_type": "code",
   "execution_count": 20,
   "id": "580a9438-2a76-47ba-b9f7-6b9379d5e26f",
   "metadata": {},
   "outputs": [],
   "source": [
    "driver.get('https://mapainmueble.com/apartamentos-venta-zona-11/')"
   ]
  },
  {
   "cell_type": "code",
   "execution_count": 26,
   "id": "fc5d261d-55b0-4a2e-8aa7-9f94b1914f59",
   "metadata": {},
   "outputs": [],
   "source": [
    "driver.find_element('xpath', '//ul[@id=\"menu-megam2\"]//li[@id=\"menu-item-715836\"]//a[contains(.,\"ALQUILER\")]').click()"
   ]
  },
  {
   "cell_type": "code",
   "execution_count": 36,
   "id": "7cada174-a158-4ef4-9d13-957883ff672f",
   "metadata": {},
   "outputs": [
    {
     "data": {
      "text/plain": [
       "['https://mapainmueble.com/casas-en-venta-carretera-a-el-salvador/',\n",
       " 'https://mapainmueble.com/casas-en-venta-san-cristobal/',\n",
       " 'https://mapainmueble.com/casas-en-venta-en-zona-16/',\n",
       " 'https://mapainmueble.com/casas-en-venta-muxbal/',\n",
       " 'https://mapainmueble.com/casas-venta-antigua-guatemala/',\n",
       " 'https://mapainmueble.com/casas-en-venta-zona-15/',\n",
       " 'https://mapainmueble.com/casas-en-venta-zona-14/',\n",
       " 'https://mapainmueble.com/casas-venta-zona-13/',\n",
       " 'https://mapainmueble.com/casas-en-venta-zona-10/']"
      ]
     },
     "execution_count": 36,
     "metadata": {},
     "output_type": "execute_result"
    }
   ],
   "source": [
    "[i.get_attribute('href') for i in driver.find_elements('xpath', '//li[@id=\"menu-item-1347384\"]/ul[@class=\"sub-menu wpestate_megamenu_class wpestate_megamenu_col_4\"]//a')]"
   ]
  },
  {
   "cell_type": "code",
   "execution_count": 38,
   "id": "0597f889-abd9-4db5-aaf4-876f74fba81a",
   "metadata": {},
   "outputs": [],
   "source": [
    "import pandas as pd"
   ]
  },
  {
   "cell_type": "code",
   "execution_count": 49,
   "id": "627efe56-a621-484b-9c49-826aa294e4f2",
   "metadata": {},
   "outputs": [],
   "source": [
    "df = pd.read_excel('//mnt/c/Users/cesar/Desktop/results_13_9.xlsx')"
   ]
  },
  {
   "cell_type": "code",
   "execution_count": 50,
   "id": "516ad4e2-5a45-4b58-80e5-a68bea138646",
   "metadata": {},
   "outputs": [
    {
     "data": {
      "text/plain": [
       "(9864, 11)"
      ]
     },
     "execution_count": 50,
     "metadata": {},
     "output_type": "execute_result"
    }
   ],
   "source": [
    "df.shape"
   ]
  },
  {
   "cell_type": "code",
   "execution_count": 60,
   "id": "d7ca8aa6-e582-4437-85ca-bd573514b98d",
   "metadata": {},
   "outputs": [],
   "source": [
    "df.drop(columns=['Parqueos and ID de la propiedad'], inplace=True)"
   ]
  },
  {
   "cell_type": "code",
   "execution_count": null,
   "id": "c0981b0a-dfd8-462c-b3d8-aca5bf974145",
   "metadata": {},
   "outputs": [],
   "source": []
  },
  {
   "cell_type": "code",
   "execution_count": null,
   "id": "3c88e1be-2835-444c-b4d7-ef20de6a229b",
   "metadata": {},
   "outputs": [],
   "source": []
  },
  {
   "cell_type": "code",
   "execution_count": 45,
   "id": "b0150b50-f635-49a7-a6bf-f5ff86760558",
   "metadata": {},
   "outputs": [],
   "source": [
    "df.drop_duplicates(inplace=True)"
   ]
  },
  {
   "cell_type": "code",
   "execution_count": 61,
   "id": "59e44525-1b95-4798-a852-795d007733d1",
   "metadata": {},
   "outputs": [],
   "source": [
    "df.to_excel('//mnt/c/Users/cesar/Desktop/results_f_13_9.xlsx', index=False)"
   ]
  }
 ],
 "metadata": {
  "kernelspec": {
   "display_name": "Python [conda env:ws]",
   "language": "python",
   "name": "conda-env-ws-py"
  },
  "language_info": {
   "codemirror_mode": {
    "name": "ipython",
    "version": 3
   },
   "file_extension": ".py",
   "mimetype": "text/x-python",
   "name": "python",
   "nbconvert_exporter": "python",
   "pygments_lexer": "ipython3",
   "version": "3.9.7"
  }
 },
 "nbformat": 4,
 "nbformat_minor": 5
}
