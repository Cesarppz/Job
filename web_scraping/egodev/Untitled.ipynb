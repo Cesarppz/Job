{
 "cells": [
  {
   "cell_type": "code",
   "execution_count": 163,
   "id": "0cc43599-7d78-401c-ae35-dd929b23abb5",
   "metadata": {},
   "outputs": [],
   "source": [
    "import pandas as pd\n",
    "import time\n",
    "\n",
    "from selenium.webdriver.common.by import By\n",
    "from selenium.webdriver.support.ui import WebDriverWait\n",
    "from selenium.webdriver.support import expected_conditions as EC\n",
    "from selenium import webdriver\n",
    "from agenda_tools.get_schedule import remove_blank_spaces\n",
    "from selenium.webdriver.chrome.service import Service\n",
    "from selenium.webdriver.common.keys import Keys\n",
    "\n",
    "from selenium.common.exceptions import TimeoutException, NoSuchElementException\n",
    "from concurrent.futures import ThreadPoolExecutor"
   ]
  },
  {
   "cell_type": "code",
   "execution_count": 170,
   "id": "146d168e-b23c-4c9e-8843-aa687eee3f7d",
   "metadata": {},
   "outputs": [],
   "source": [
    "from selenium import webdriver\n",
    "from selenium.webdriver.chrome.service import Service\n",
    "from webdriver_manager.chrome import ChromeDriverManager\n",
    "\n",
    "options = webdriver.ChromeOptions()\n",
    "driver = webdriver.Chrome(service=Service(ChromeDriverManager().install()))\n",
    "driver.get(\"https://www.google.com\")"
   ]
  },
  {
   "cell_type": "code",
   "execution_count": 137,
   "id": "dda9611a-2f0c-44d4-879e-a5e4e89b6484",
   "metadata": {},
   "outputs": [],
   "source": [
    "url = 'https://tracker.gg/valorant/leaderboards/ranked/all/default?page=7'"
   ]
  },
  {
   "cell_type": "code",
   "execution_count": 138,
   "id": "c40cf054-8a44-4af1-ac8f-65c79302dcc5",
   "metadata": {},
   "outputs": [],
   "source": [
    "driver.get(url)"
   ]
  },
  {
   "cell_type": "code",
   "execution_count": 54,
   "id": "c6c87d8e-b995-4925-88ee-316de0f457bc",
   "metadata": {
    "tags": []
   },
   "outputs": [],
   "source": [
    "rank = [i.text for i in driver.find_elements('xpath','//td[@class=\"rank\"]')]"
   ]
  },
  {
   "cell_type": "code",
   "execution_count": 141,
   "id": "b376337b-9365-4d69-96e6-6a26fc6015ce",
   "metadata": {
    "tags": []
   },
   "outputs": [],
   "source": [
    "username = [i.text for i in driver.find_elements('xpath','//td[@class=\"username\"]//span[@class=\"trn-ign__username\"]')]"
   ]
  },
  {
   "cell_type": "code",
   "execution_count": 152,
   "id": "84113b10-0231-4099-ba68-254ae8cea10e",
   "metadata": {},
   "outputs": [],
   "source": [
    "# id_username = [i.text  for i in driver.find_elements('xpath','//td[@class=\"username\"]//span[@class=\"trn-ign__discriminator\"]')  ]\n",
    "id_username = [i for i in driver.find_elements('xpath', '//tr[@data-v-754518f9=\"\"]//td[@class=\"username\"]')  ]"
   ]
  },
  {
   "cell_type": "code",
   "execution_count": 161,
   "id": "964dff99-4c4a-4f5a-9b36-5e1301042d36",
   "metadata": {
    "collapsed": true,
    "jupyter": {
     "outputs_hidden": true
    },
    "tags": []
   },
   "outputs": [
    {
     "ename": "NoSuchElementException",
     "evalue": "Message: no such element: Unable to locate element: {\"method\":\"xpath\",\"selector\":\"//tr[position()=66]//span[@class=\"trn-ign__discriminator\"]\"}\n  (Session info: chrome=105.0.5195.52)\nStacktrace:\n#0 0x556b79765693 <unknown>\n#1 0x556b7955eb0a <unknown>\n#2 0x556b795975f7 <unknown>\n#3 0x556b795977c1 <unknown>\n#4 0x556b7958be17 <unknown>\n#5 0x556b795b494d <unknown>\n#6 0x556b7958bd53 <unknown>\n#7 0x556b795b4a8e <unknown>\n#8 0x556b795c84b0 <unknown>\n#9 0x556b795b4743 <unknown>\n#10 0x556b7958a533 <unknown>\n#11 0x556b7958b715 <unknown>\n#12 0x556b797b57bd <unknown>\n#13 0x556b797b8bf9 <unknown>\n#14 0x556b7979af2e <unknown>\n#15 0x556b797b99b3 <unknown>\n#16 0x556b7978ee4f <unknown>\n#17 0x556b797d8ea8 <unknown>\n#18 0x556b797d9052 <unknown>\n#19 0x556b797f371f <unknown>\n#20 0x7fa697c69609 <unknown>\n",
     "output_type": "error",
     "traceback": [
      "\u001b[0;31m---------------------------------------------------------------------------\u001b[0m",
      "\u001b[0;31mNoSuchElementException\u001b[0m                    Traceback (most recent call last)",
      "\u001b[0;32m/tmp/ipykernel_9663/1331577668.py\u001b[0m in \u001b[0;36m<module>\u001b[0;34m\u001b[0m\n\u001b[0;32m----> 1\u001b[0;31m \u001b[0mid_username\u001b[0m\u001b[0;34m[\u001b[0m\u001b[0;36m95\u001b[0m\u001b[0;34m]\u001b[0m\u001b[0;34m.\u001b[0m\u001b[0mfind_element\u001b[0m\u001b[0;34m(\u001b[0m\u001b[0;34m'xpath'\u001b[0m\u001b[0;34m,\u001b[0m \u001b[0;34m'//tr[position()=66]//span[@class=\"trn-ign__discriminator\"]'\u001b[0m\u001b[0;34m)\u001b[0m\u001b[0;34m.\u001b[0m\u001b[0mtext\u001b[0m\u001b[0;34m\u001b[0m\u001b[0;34m\u001b[0m\u001b[0m\n\u001b[0m",
      "\u001b[0;32m~/anaconda3/envs/ws/lib/python3.9/site-packages/selenium/webdriver/remote/webelement.py\u001b[0m in \u001b[0;36mfind_element\u001b[0;34m(self, by, value)\u001b[0m\n\u001b[1;32m    417\u001b[0m             \u001b[0mvalue\u001b[0m \u001b[0;34m=\u001b[0m \u001b[0;34m'[name=\"%s\"]'\u001b[0m \u001b[0;34m%\u001b[0m \u001b[0mvalue\u001b[0m\u001b[0;34m\u001b[0m\u001b[0;34m\u001b[0m\u001b[0m\n\u001b[1;32m    418\u001b[0m \u001b[0;34m\u001b[0m\u001b[0m\n\u001b[0;32m--> 419\u001b[0;31m         return self._execute(Command.FIND_CHILD_ELEMENT,\n\u001b[0m\u001b[1;32m    420\u001b[0m                              {\"using\": by, \"value\": value})['value']\n\u001b[1;32m    421\u001b[0m \u001b[0;34m\u001b[0m\u001b[0m\n",
      "\u001b[0;32m~/anaconda3/envs/ws/lib/python3.9/site-packages/selenium/webdriver/remote/webelement.py\u001b[0m in \u001b[0;36m_execute\u001b[0;34m(self, command, params)\u001b[0m\n\u001b[1;32m    394\u001b[0m             \u001b[0mparams\u001b[0m \u001b[0;34m=\u001b[0m \u001b[0;34m{\u001b[0m\u001b[0;34m}\u001b[0m\u001b[0;34m\u001b[0m\u001b[0;34m\u001b[0m\u001b[0m\n\u001b[1;32m    395\u001b[0m         \u001b[0mparams\u001b[0m\u001b[0;34m[\u001b[0m\u001b[0;34m'id'\u001b[0m\u001b[0;34m]\u001b[0m \u001b[0;34m=\u001b[0m \u001b[0mself\u001b[0m\u001b[0;34m.\u001b[0m\u001b[0m_id\u001b[0m\u001b[0;34m\u001b[0m\u001b[0;34m\u001b[0m\u001b[0m\n\u001b[0;32m--> 396\u001b[0;31m         \u001b[0;32mreturn\u001b[0m \u001b[0mself\u001b[0m\u001b[0;34m.\u001b[0m\u001b[0m_parent\u001b[0m\u001b[0;34m.\u001b[0m\u001b[0mexecute\u001b[0m\u001b[0;34m(\u001b[0m\u001b[0mcommand\u001b[0m\u001b[0;34m,\u001b[0m \u001b[0mparams\u001b[0m\u001b[0;34m)\u001b[0m\u001b[0;34m\u001b[0m\u001b[0;34m\u001b[0m\u001b[0m\n\u001b[0m\u001b[1;32m    397\u001b[0m \u001b[0;34m\u001b[0m\u001b[0m\n\u001b[1;32m    398\u001b[0m     \u001b[0;32mdef\u001b[0m \u001b[0mfind_element\u001b[0m\u001b[0;34m(\u001b[0m\u001b[0mself\u001b[0m\u001b[0;34m,\u001b[0m \u001b[0mby\u001b[0m\u001b[0;34m=\u001b[0m\u001b[0mBy\u001b[0m\u001b[0;34m.\u001b[0m\u001b[0mID\u001b[0m\u001b[0;34m,\u001b[0m \u001b[0mvalue\u001b[0m\u001b[0;34m=\u001b[0m\u001b[0;32mNone\u001b[0m\u001b[0;34m)\u001b[0m \u001b[0;34m->\u001b[0m \u001b[0mWebElement\u001b[0m\u001b[0;34m:\u001b[0m\u001b[0;34m\u001b[0m\u001b[0;34m\u001b[0m\u001b[0m\n",
      "\u001b[0;32m~/anaconda3/envs/ws/lib/python3.9/site-packages/selenium/webdriver/remote/webdriver.py\u001b[0m in \u001b[0;36mexecute\u001b[0;34m(self, driver_command, params)\u001b[0m\n\u001b[1;32m    426\u001b[0m         \u001b[0mresponse\u001b[0m \u001b[0;34m=\u001b[0m \u001b[0mself\u001b[0m\u001b[0;34m.\u001b[0m\u001b[0mcommand_executor\u001b[0m\u001b[0;34m.\u001b[0m\u001b[0mexecute\u001b[0m\u001b[0;34m(\u001b[0m\u001b[0mdriver_command\u001b[0m\u001b[0;34m,\u001b[0m \u001b[0mparams\u001b[0m\u001b[0;34m)\u001b[0m\u001b[0;34m\u001b[0m\u001b[0;34m\u001b[0m\u001b[0m\n\u001b[1;32m    427\u001b[0m         \u001b[0;32mif\u001b[0m \u001b[0mresponse\u001b[0m\u001b[0;34m:\u001b[0m\u001b[0;34m\u001b[0m\u001b[0;34m\u001b[0m\u001b[0m\n\u001b[0;32m--> 428\u001b[0;31m             \u001b[0mself\u001b[0m\u001b[0;34m.\u001b[0m\u001b[0merror_handler\u001b[0m\u001b[0;34m.\u001b[0m\u001b[0mcheck_response\u001b[0m\u001b[0;34m(\u001b[0m\u001b[0mresponse\u001b[0m\u001b[0;34m)\u001b[0m\u001b[0;34m\u001b[0m\u001b[0;34m\u001b[0m\u001b[0m\n\u001b[0m\u001b[1;32m    429\u001b[0m             response['value'] = self._unwrap_value(\n\u001b[1;32m    430\u001b[0m                 response.get('value', None))\n",
      "\u001b[0;32m~/anaconda3/envs/ws/lib/python3.9/site-packages/selenium/webdriver/remote/errorhandler.py\u001b[0m in \u001b[0;36mcheck_response\u001b[0;34m(self, response)\u001b[0m\n\u001b[1;32m    241\u001b[0m                 \u001b[0malert_text\u001b[0m \u001b[0;34m=\u001b[0m \u001b[0mvalue\u001b[0m\u001b[0;34m[\u001b[0m\u001b[0;34m'alert'\u001b[0m\u001b[0;34m]\u001b[0m\u001b[0;34m.\u001b[0m\u001b[0mget\u001b[0m\u001b[0;34m(\u001b[0m\u001b[0;34m'text'\u001b[0m\u001b[0;34m)\u001b[0m\u001b[0;34m\u001b[0m\u001b[0;34m\u001b[0m\u001b[0m\n\u001b[1;32m    242\u001b[0m             \u001b[0;32mraise\u001b[0m \u001b[0mexception_class\u001b[0m\u001b[0;34m(\u001b[0m\u001b[0mmessage\u001b[0m\u001b[0;34m,\u001b[0m \u001b[0mscreen\u001b[0m\u001b[0;34m,\u001b[0m \u001b[0mstacktrace\u001b[0m\u001b[0;34m,\u001b[0m \u001b[0malert_text\u001b[0m\u001b[0;34m)\u001b[0m  \u001b[0;31m# type: ignore[call-arg]  # mypy is not smart enough here\u001b[0m\u001b[0;34m\u001b[0m\u001b[0;34m\u001b[0m\u001b[0m\n\u001b[0;32m--> 243\u001b[0;31m         \u001b[0;32mraise\u001b[0m \u001b[0mexception_class\u001b[0m\u001b[0;34m(\u001b[0m\u001b[0mmessage\u001b[0m\u001b[0;34m,\u001b[0m \u001b[0mscreen\u001b[0m\u001b[0;34m,\u001b[0m \u001b[0mstacktrace\u001b[0m\u001b[0;34m)\u001b[0m\u001b[0;34m\u001b[0m\u001b[0;34m\u001b[0m\u001b[0m\n\u001b[0m",
      "\u001b[0;31mNoSuchElementException\u001b[0m: Message: no such element: Unable to locate element: {\"method\":\"xpath\",\"selector\":\"//tr[position()=66]//span[@class=\"trn-ign__discriminator\"]\"}\n  (Session info: chrome=105.0.5195.52)\nStacktrace:\n#0 0x556b79765693 <unknown>\n#1 0x556b7955eb0a <unknown>\n#2 0x556b795975f7 <unknown>\n#3 0x556b795977c1 <unknown>\n#4 0x556b7958be17 <unknown>\n#5 0x556b795b494d <unknown>\n#6 0x556b7958bd53 <unknown>\n#7 0x556b795b4a8e <unknown>\n#8 0x556b795c84b0 <unknown>\n#9 0x556b795b4743 <unknown>\n#10 0x556b7958a533 <unknown>\n#11 0x556b7958b715 <unknown>\n#12 0x556b797b57bd <unknown>\n#13 0x556b797b8bf9 <unknown>\n#14 0x556b7979af2e <unknown>\n#15 0x556b797b99b3 <unknown>\n#16 0x556b7978ee4f <unknown>\n#17 0x556b797d8ea8 <unknown>\n#18 0x556b797d9052 <unknown>\n#19 0x556b797f371f <unknown>\n#20 0x7fa697c69609 <unknown>\n"
     ]
    }
   ],
   "source": [
    "id_username[95].find_element('xpath', '//tr[position()=66]//span[@class=\"trn-ign__discriminator\"]').text"
   ]
  },
  {
   "cell_type": "code",
   "execution_count": 144,
   "id": "4b5127b6-512e-465f-869b-527feb5b44be",
   "metadata": {},
   "outputs": [
    {
     "data": {
      "text/plain": [
       "100"
      ]
     },
     "execution_count": 144,
     "metadata": {},
     "output_type": "execute_result"
    }
   ],
   "source": [
    "len(id_username)"
   ]
  },
  {
   "cell_type": "code",
   "execution_count": 149,
   "id": "9af71bc2-be9f-47d8-b5a7-152ee4ff3ad9",
   "metadata": {
    "tags": []
   },
   "outputs": [],
   "source": [
    "box_id_username = []\n",
    "for idx, i in enumerate(id_username):\n",
    "    try:\n",
    "        element = i.find_element('xpath', f'//tr[position()={idx+1}]//span[@class=\"trn-ign__discriminator\"]').text\n",
    "    except:\n",
    "        element = '#' + username[idx].split('#')[-1]\n",
    "        print(element)\n",
    "    \n",
    "    box_id_username.append(element)"
   ]
  },
  {
   "cell_type": "code",
   "execution_count": 111,
   "id": "ee289e84-13a5-49fb-b62e-690aee7f18d3",
   "metadata": {
    "collapsed": true,
    "jupyter": {
     "outputs_hidden": true
    },
    "tags": []
   },
   "outputs": [
    {
     "data": {
      "text/plain": [
       "['#alaN',\n",
       " '#lft',\n",
       " '#000',\n",
       " '#NA1',\n",
       " '#snrlx',\n",
       " '#000',\n",
       " '#お兄ちゃん',\n",
       " '#2EZ',\n",
       " '#n1ceu',\n",
       " '#regan',\n",
       " '#LFT',\n",
       " '#yuno',\n",
       " '#187',\n",
       " '#bri',\n",
       " '#2996',\n",
       " '#hmm',\n",
       " '#7555',\n",
       " '#DJM',\n",
       " '#TTV',\n",
       " '#jeffy',\n",
       " '#TTV',\n",
       " '#夜遊び',\n",
       " '#Muddy',\n",
       " '#1337',\n",
       " '#13TH',\n",
       " '#matt',\n",
       " '#jetta',\n",
       " '#CN2',\n",
       " '#TONKA',\n",
       " '#KTTA',\n",
       " '#24k',\n",
       " '#3131',\n",
       " '#SUSSY',\n",
       " '#buns',\n",
       " '#alone',\n",
       " '#TTV',\n",
       " '#white',\n",
       " '#RICH',\n",
       " '#roo',\n",
       " '#111',\n",
       " '#TTV',\n",
       " '#2009',\n",
       " '#777',\n",
       " '#ily',\n",
       " '#juice',\n",
       " '#ttv',\n",
       " '#1tap',\n",
       " '#xxx',\n",
       " '#BiH',\n",
       " '#6666',\n",
       " '#7023',\n",
       " '#TTV',\n",
       " '#4kt',\n",
       " '#mihir',\n",
       " '#TTV',\n",
       " '#HTC',\n",
       " '#WWJD',\n",
       " '#420',\n",
       " '#242',\n",
       " '#ray',\n",
       " '#NA1',\n",
       " '#KEKW',\n",
       " '#Rossy',\n",
       " '#Obi 1',\n",
       " '#CàPhê',\n",
       " '#2465',\n",
       " '#GOD',\n",
       " '#666',\n",
       " '#2324',\n",
       " '#000',\n",
       " '#6896',\n",
       " '#SEXY',\n",
       " '#bella',\n",
       " '#betch',\n",
       " '#bunny',\n",
       " '#ibon',\n",
       " '#lfabg',\n",
       " '#troll',\n",
       " '#Chip',\n",
       " '#TUFF',\n",
       " '#9999',\n",
       " '#000',\n",
       " '#QQQ',\n",
       " '#4TF',\n",
       " '#TTV',\n",
       " '#tacko',\n",
       " '#kay',\n",
       " '#00000',\n",
       " '#1of1',\n",
       " '#Dhawk',\n",
       " '#what',\n",
       " '#idc',\n",
       " '#iwnl',\n",
       " '#demon',\n",
       " '#boo',\n",
       " '#001',\n",
       " '#2006',\n",
       " '#nabi',\n",
       " '#rdy',\n",
       " '#wnl']"
      ]
     },
     "execution_count": 111,
     "metadata": {},
     "output_type": "execute_result"
    }
   ],
   "source": [
    "box_id_username"
   ]
  },
  {
   "cell_type": "code",
   "execution_count": 110,
   "id": "46351b05-5ef2-438c-ab12-badeaa6d979e",
   "metadata": {},
   "outputs": [
    {
     "data": {
      "text/plain": [
       "100"
      ]
     },
     "execution_count": 110,
     "metadata": {},
     "output_type": "execute_result"
    }
   ],
   "source": [
    "len(box_id_username)"
   ]
  },
  {
   "cell_type": "code",
   "execution_count": 84,
   "id": "63c63c21-a71b-46bf-9170-48ae5a353def",
   "metadata": {},
   "outputs": [
    {
     "data": {
      "text/plain": [
       "1"
      ]
     },
     "execution_count": 84,
     "metadata": {},
     "output_type": "execute_result"
    }
   ],
   "source": [
    "len(id_username)"
   ]
  },
  {
   "cell_type": "code",
   "execution_count": 57,
   "id": "a1f10666-45ec-4677-b20a-cbbafb8fe5ba",
   "metadata": {},
   "outputs": [
    {
     "data": {
      "text/plain": [
       "100"
      ]
     },
     "execution_count": 57,
     "metadata": {},
     "output_type": "execute_result"
    }
   ],
   "source": [
    "len(rank)"
   ]
  },
  {
   "cell_type": "code",
   "execution_count": 116,
   "id": "78b476e8-906c-4e77-bf4a-30d4230ce205",
   "metadata": {
    "tags": []
   },
   "outputs": [],
   "source": [
    "id_username = 0"
   ]
  },
  {
   "cell_type": "code",
   "execution_count": 169,
   "id": "a6309fe8-be14-43f6-a693-acb1924733cb",
   "metadata": {},
   "outputs": [],
   "source": [
    "def extrect_all_pages(link):\n",
    "    driver.get(url)\n",
    "    time.sleep(0.5)\n",
    "    rank = [i.text for i in driver.find_elements('xpath','//td[@class=\"rank\"]')]\n",
    "    username = [i.text for i in driver.find_elements('xpath','//td[@class=\"username\"]//span[@class=\"trn-ign__username\"]')]\n",
    "    id_username = [i for i in driver.find_elements('xpath', '//tr[@data-v-754518f9=\"\"]//td[@class=\"username\"]')  ]\n",
    "    time.sleep(3)\n",
    "    box_id_username = []\n",
    "    for idx, i in enumerate(id_username):\n",
    "        try:\n",
    "            element = i.find_element('xpath', f'//tr[position()={idx+1}]//span[@class=\"trn-ign__discriminator\"]').text\n",
    "        except NoSuchElementException:\n",
    "            element = '#' + username[idx].split('#')[-1]\n",
    "            print(element)\n",
    "            print(link)\n",
    "\n",
    "        box_id_username.append(element)\n",
    "    \n",
    "    return pd.DataFrame({'Rank':rank, 'Username':username, 'Id_username':box_id_username})"
   ]
  },
  {
   "cell_type": "code",
   "execution_count": null,
   "id": "125153f5-09de-45d7-be3a-97f0964dc132",
   "metadata": {},
   "outputs": [],
   "source": []
  },
  {
   "cell_type": "code",
   "execution_count": 171,
   "id": "e913a350-9b8e-453f-b573-c2c06798a1b5",
   "metadata": {
    "tags": []
   },
   "outputs": [
    {
     "name": "stdout",
     "output_type": "stream",
     "text": [
      "#Obi 1\n",
      "https://tracker.gg/valorant/leaderboards/ranked/all/default?page=4\n",
      "#B C\n",
      "https://tracker.gg/valorant/leaderboards/ranked/all/default?page=11\n",
      "#go at\n",
      "https://tracker.gg/valorant/leaderboards/ranked/all/default?page=13\n",
      "#Top G\n",
      "https://tracker.gg/valorant/leaderboards/ranked/all/default?page=16\n",
      "#A 808\n",
      "https://tracker.gg/valorant/leaderboards/ranked/all/default?page=30\n",
      "#dS mv\n",
      "https://tracker.gg/valorant/leaderboards/ranked/all/default?page=30\n",
      "#10\n",
      "https://tracker.gg/valorant/leaderboards/ranked/all/default?page=32\n",
      "#sup b\n",
      "https://tracker.gg/valorant/leaderboards/ranked/all/default?page=32\n",
      "#o o\n",
      "https://tracker.gg/valorant/leaderboards/ranked/all/default?page=33\n",
      "#SO EZ\n",
      "https://tracker.gg/valorant/leaderboards/ranked/all/default?page=36\n",
      "#Lv 1\n",
      "https://tracker.gg/valorant/leaderboards/ranked/all/default?page=36\n",
      "#a lot\n",
      "https://tracker.gg/valorant/leaderboards/ranked/all/default?page=37\n",
      "#P M\n",
      "https://tracker.gg/valorant/leaderboards/ranked/all/default?page=38\n",
      "#T T\n",
      "https://tracker.gg/valorant/leaderboards/ranked/all/default?page=39\n",
      "#sar ﾒ\n",
      "https://tracker.gg/valorant/leaderboards/ranked/all/default?page=42\n",
      "#Em oi\n",
      "https://tracker.gg/valorant/leaderboards/ranked/all/default?page=43\n",
      "#cs go\n",
      "https://tracker.gg/valorant/leaderboards/ranked/all/default?page=49\n",
      "#fk no\n",
      "https://tracker.gg/valorant/leaderboards/ranked/all/default?page=49\n",
      "#dm me\n",
      "https://tracker.gg/valorant/leaderboards/ranked/all/default?page=51\n",
      "#no u\n",
      "https://tracker.gg/valorant/leaderboards/ranked/all/default?page=52\n",
      "#odd 1\n",
      "https://tracker.gg/valorant/leaderboards/ranked/all/default?page=54\n",
      "#상단 g\n",
      "https://tracker.gg/valorant/leaderboards/ranked/all/default?page=61\n",
      "#0\n",
      "https://tracker.gg/valorant/leaderboards/ranked/all/default?page=63\n",
      "#do it\n",
      "https://tracker.gg/valorant/leaderboards/ranked/all/default?page=74\n",
      "#luv u\n",
      "https://tracker.gg/valorant/leaderboards/ranked/all/default?page=75\n",
      "#Boa H\n",
      "https://tracker.gg/valorant/leaderboards/ranked/all/default?page=78\n",
      "#69\n",
      "https://tracker.gg/valorant/leaderboards/ranked/all/default?page=78\n",
      "#0\n",
      "https://tracker.gg/valorant/leaderboards/ranked/all/default?page=78\n",
      "#3 6 9\n",
      "https://tracker.gg/valorant/leaderboards/ranked/all/default?page=83\n",
      "#NA 1\n",
      "https://tracker.gg/valorant/leaderboards/ranked/all/default?page=84\n",
      "#s a e\n",
      "https://tracker.gg/valorant/leaderboards/ranked/all/default?page=84\n",
      "#e h e\n",
      "https://tracker.gg/valorant/leaderboards/ranked/all/default?page=95\n",
      "#luv u\n",
      "https://tracker.gg/valorant/leaderboards/ranked/all/default?page=95\n",
      "#Max W\n",
      "https://tracker.gg/valorant/leaderboards/ranked/all/default?page=96\n",
      "#08 ﾂ\n",
      "https://tracker.gg/valorant/leaderboards/ranked/all/default?page=98\n",
      "#a dot\n",
      "https://tracker.gg/valorant/leaderboards/ranked/all/default?page=98\n",
      "#0\n",
      "https://tracker.gg/valorant/leaderboards/ranked/all/default?page=99\n"
     ]
    }
   ],
   "source": [
    "box = []\n",
    "for i in range(1, 101):\n",
    "    url = f'https://tracker.gg/valorant/leaderboards/ranked/all/default?page={i}'\n",
    "    df = extrect_all_pages(url)\n",
    "    box.append(df)"
   ]
  },
  {
   "cell_type": "code",
   "execution_count": 172,
   "id": "210803e6-00bd-49b6-b877-e50f17dab80b",
   "metadata": {
    "tags": []
   },
   "outputs": [],
   "source": [
    "df = pd.concat(box)"
   ]
  },
  {
   "cell_type": "code",
   "execution_count": 175,
   "id": "8858dc4a-a718-4d22-a0b9-5477a826b7b3",
   "metadata": {},
   "outputs": [
    {
     "data": {
      "text/html": [
       "<div>\n",
       "<style scoped>\n",
       "    .dataframe tbody tr th:only-of-type {\n",
       "        vertical-align: middle;\n",
       "    }\n",
       "\n",
       "    .dataframe tbody tr th {\n",
       "        vertical-align: top;\n",
       "    }\n",
       "\n",
       "    .dataframe thead th {\n",
       "        text-align: right;\n",
       "    }\n",
       "</style>\n",
       "<table border=\"1\" class=\"dataframe\">\n",
       "  <thead>\n",
       "    <tr style=\"text-align: right;\">\n",
       "      <th></th>\n",
       "      <th>Rank</th>\n",
       "      <th>Username</th>\n",
       "      <th>Id_username</th>\n",
       "    </tr>\n",
       "  </thead>\n",
       "  <tbody>\n",
       "    <tr>\n",
       "      <th>95</th>\n",
       "      <td>11161</td>\n",
       "      <td>Bianco</td>\n",
       "      <td>#0001</td>\n",
       "    </tr>\n",
       "    <tr>\n",
       "      <th>96</th>\n",
       "      <td>11162</td>\n",
       "      <td>Xzurify</td>\n",
       "      <td>#DEMON</td>\n",
       "    </tr>\n",
       "    <tr>\n",
       "      <th>97</th>\n",
       "      <td>11163</td>\n",
       "      <td>8 K</td>\n",
       "      <td>#8888</td>\n",
       "    </tr>\n",
       "    <tr>\n",
       "      <th>98</th>\n",
       "      <td>11164</td>\n",
       "      <td>Shwin Li</td>\n",
       "      <td>#0404</td>\n",
       "    </tr>\n",
       "    <tr>\n",
       "      <th>99</th>\n",
       "      <td>11166</td>\n",
       "      <td>Cuti3</td>\n",
       "      <td>#onYT</td>\n",
       "    </tr>\n",
       "  </tbody>\n",
       "</table>\n",
       "</div>"
      ],
      "text/plain": [
       "     Rank  Username Id_username\n",
       "95  11161    Bianco       #0001\n",
       "96  11162   Xzurify      #DEMON\n",
       "97  11163       8 K       #8888\n",
       "98  11164  Shwin Li       #0404\n",
       "99  11166     Cuti3       #onYT"
      ]
     },
     "execution_count": 175,
     "metadata": {},
     "output_type": "execute_result"
    }
   ],
   "source": [
    "df.tail()"
   ]
  },
  {
   "cell_type": "code",
   "execution_count": 174,
   "id": "6ae387f8-f7b7-48df-8f98-f21b863a485f",
   "metadata": {},
   "outputs": [
    {
     "data": {
      "text/plain": [
       "(10000, 3)"
      ]
     },
     "execution_count": 174,
     "metadata": {},
     "output_type": "execute_result"
    }
   ],
   "source": [
    "df.shape"
   ]
  },
  {
   "cell_type": "code",
   "execution_count": 178,
   "id": "676090eb-1c8f-4660-82df-1ba8f3da5111",
   "metadata": {},
   "outputs": [],
   "source": [
    "df.to_excel('results_06_09.xlsx', index=False)"
   ]
  },
  {
   "cell_type": "code",
   "execution_count": 179,
   "id": "42eb7a5e-46ce-4c2d-8686-ea25902219c0",
   "metadata": {},
   "outputs": [],
   "source": [
    "df.to_csv('results_06_09.csv', index=False)"
   ]
  },
  {
   "cell_type": "code",
   "execution_count": null,
   "id": "5772fbb5-3471-49f8-9832-43a3579c0cb2",
   "metadata": {},
   "outputs": [],
   "source": []
  }
 ],
 "metadata": {
  "kernelspec": {
   "display_name": "Python [conda env:ws]",
   "language": "python",
   "name": "conda-env-ws-py"
  },
  "language_info": {
   "codemirror_mode": {
    "name": "ipython",
    "version": 3
   },
   "file_extension": ".py",
   "mimetype": "text/x-python",
   "name": "python",
   "nbconvert_exporter": "python",
   "pygments_lexer": "ipython3",
   "version": "3.9.7"
  }
 },
 "nbformat": 4,
 "nbformat_minor": 5
}
