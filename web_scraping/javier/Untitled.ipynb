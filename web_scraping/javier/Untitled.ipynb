{
 "cells": [
  {
   "cell_type": "code",
   "execution_count": 11,
   "id": "d9dac3c1-52d0-4625-b836-ab52b6984f5f",
   "metadata": {},
   "outputs": [],
   "source": [
    "import pandas as pd\n",
    "from agenda_tools import download_images"
   ]
  },
  {
   "cell_type": "code",
   "execution_count": 14,
   "id": "5dd0c7ae-5f65-4aa5-a9dc-74b187bd5636",
   "metadata": {},
   "outputs": [],
   "source": [
    "df2 = pd.read_csv('//mnt/c/Users/cesar/Dropbox/My PC (LAPTOP-51JCM9VV)/results_outlet_25_3.csv',index_col=['Unnamed: 0'])"
   ]
  },
  {
   "cell_type": "code",
   "execution_count": 15,
   "id": "c0f3994c-de93-4807-bfa9-54cad1099b7b",
   "metadata": {},
   "outputs": [],
   "source": [
    "list_names = list(df2.loc[:,'Nombre'])"
   ]
  },
  {
   "cell_type": "code",
   "execution_count": 16,
   "id": "a9f14249-2b8e-446b-82fa-c7f8c30c0cb1",
   "metadata": {},
   "outputs": [],
   "source": [
    "images_df2 = list(df2.Images)"
   ]
  },
  {
   "cell_type": "code",
   "execution_count": 17,
   "id": "32b9cde7-12fa-4dd6-81c8-f0484c4f9ca3",
   "metadata": {},
   "outputs": [
    {
     "data": {
      "text/plain": [
       "True"
      ]
     },
     "execution_count": 17,
     "metadata": {},
     "output_type": "execute_result"
    }
   ],
   "source": [
    "len(list_names) == len(images_df2)"
   ]
  },
  {
   "cell_type": "code",
   "execution_count": 23,
   "id": "f23e70ee-9591-4195-82ab-e4d622140ced",
   "metadata": {},
   "outputs": [
    {
     "data": {
      "text/plain": [
       "'/home/cesarppz/Documents/jobs'"
      ]
     },
     "execution_count": 23,
     "metadata": {},
     "output_type": "execute_result"
    }
   ],
   "source": [
    "pwd"
   ]
  },
  {
   "cell_type": "code",
   "execution_count": 29,
   "id": "0309d99d-a61e-4d81-b7de-bcbd58c2d3ea",
   "metadata": {},
   "outputs": [],
   "source": [
    "df2['image'] = names_images"
   ]
  },
  {
   "cell_type": "code",
   "execution_count": 22,
   "id": "cf6298e5-0be6-443f-bfc8-6782b77baf25",
   "metadata": {
    "tags": []
   },
   "outputs": [
    {
     "name": "stdout",
     "output_type": "stream",
     "text": [
      "Descargada image 1/12547\n",
      "Descargada image 102/12547\n",
      "Descargada image 203/12547\n",
      "Descargada image 304/12547\n",
      "Descargada image 405/12547\n",
      "Descargada image 506/12547\n",
      "Descargada image 607/12547\n",
      "Descargada image 708/12547\n",
      "Descargada image 809/12547\n",
      "Descargada image 910/12547\n",
      "Descargada image 1011/12547\n",
      "Descargada image 1112/12547\n",
      "Descargada image 1213/12547\n",
      "Descargada image 1314/12547\n",
      "Descargada image 1415/12547\n",
      "Descargada image 1516/12547\n",
      "Descargada image 1617/12547\n",
      "Descargada image 1718/12547\n",
      "Descargada image 1819/12547\n",
      "Descargada image 1920/12547\n",
      "Descargada image 2021/12547\n",
      "Descargada image 2122/12547\n",
      "Descargada image 2223/12547\n",
      "Descargada image 2324/12547\n",
      "Descargada image 2425/12547\n",
      "Descargada image 2526/12547\n",
      "Descargada image 2627/12547\n",
      "Descargada image 2728/12547\n",
      "Descargada image 2829/12547\n",
      "Descargada image 2930/12547\n",
      "Descargada image 3031/12547\n",
      "Descargada image 3132/12547\n",
      "Descargada image 3233/12547\n",
      "Descargada image 3334/12547\n",
      "Descargada image 3435/12547\n",
      "Descargada image 3536/12547\n",
      "Descargada image 3637/12547\n",
      "Descargada image 3738/12547\n",
      "Descargada image 3839/12547\n",
      "Descargada image 3940/12547\n",
      "Descargada image 4041/12547\n",
      "Descargada image 4142/12547\n",
      "Descargada image 4243/12547\n",
      "Descargada image 4344/12547\n",
      "Descargada image 4445/12547\n",
      "Descargada image 4546/12547\n",
      "Descargada image 4647/12547\n",
      "Descargada image 4748/12547\n",
      "Descargada image 4849/12547\n",
      "Descargada image 4950/12547\n",
      "Descargada image 5051/12547\n",
      "Descargada image 5152/12547\n",
      "Descargada image 5253/12547\n",
      "Descargada image 5354/12547\n",
      "Descargada image 5455/12547\n",
      "Descargada image 5556/12547\n",
      "Descargada image 5657/12547\n",
      "Descargada image 5758/12547\n",
      "Descargada image 5859/12547\n",
      "Descargada image 5960/12547\n",
      "Descargada image 6061/12547\n",
      "Descargada image 6162/12547\n",
      "Descargada image 6263/12547\n",
      "Descargada image 6364/12547\n",
      "Descargada image 6465/12547\n",
      "Descargada image 6566/12547\n",
      "Descargada image 6667/12547\n",
      "Descargada image 6768/12547\n",
      "Descargada image 6869/12547\n",
      "Descargada image 6970/12547\n",
      "Descargada image 7071/12547\n",
      "Descargada image 7172/12547\n",
      "Descargada image 7273/12547\n",
      "Descargada image 7374/12547\n",
      "Descargada image 7475/12547\n",
      "Descargada image 7576/12547\n",
      "Descargada image 7677/12547\n",
      "Descargada image 7778/12547\n",
      "Descargada image 7879/12547\n",
      "Descargada image 7980/12547\n",
      "Descargada image 8081/12547\n",
      "Descargada image 8182/12547\n",
      "Descargada image 8283/12547\n",
      "Descargada image 8384/12547\n",
      "Descargada image 8485/12547\n",
      "Descargada image 8586/12547\n",
      "Descargada image 8687/12547\n",
      "Descargada image 8788/12547\n",
      "Descargada image 8889/12547\n",
      "Descargada image 8990/12547\n",
      "Descargada image 9091/12547\n",
      "Descargada image 9192/12547\n",
      "Descargada image 9293/12547\n",
      "Descargada image 9394/12547\n",
      "Descargada image 9495/12547\n",
      "Descargada image 9596/12547\n",
      "Descargada image 9697/12547\n",
      "Descargada image 9798/12547\n",
      "Descargada image 9899/12547\n",
      "Descargada image 10000/12547\n",
      "Descargada image 10101/12547\n",
      "Descargada image 10202/12547\n",
      "Descargada image 10303/12547\n",
      "Descargada image 10404/12547\n",
      "Descargada image 10505/12547\n",
      "Descargada image 10606/12547\n",
      "Descargada image 10707/12547\n",
      "Descargada image 10808/12547\n",
      "Descargada image 10909/12547\n",
      "Descargada image 11010/12547\n",
      "Descargada image 11111/12547\n",
      "Descargada image 11212/12547\n",
      "Descargada image 11313/12547\n",
      "Descargada image 11414/12547\n",
      "Descargada image 11515/12547\n",
      "Descargada image 11616/12547\n",
      "Descargada image 11717/12547\n",
      "Descargada image 11818/12547\n",
      "Descargada image 11919/12547\n",
      "Descargada image 12020/12547\n",
      "Descargada image 12121/12547\n",
      "Descargada image 12222/12547\n",
      "Descargada image 12323/12547\n",
      "Descargada image 12424/12547\n",
      "Descargada image 12525/12547\n"
     ]
    }
   ],
   "source": [
    "names_images = []\n",
    "for idx,image in enumerate(images_df2):\n",
    "    try:\n",
    "        name_image = download_images.download_image_with_requests(image,nombre_del_lugar='outlet_de_viviendas',idx=idx,len_links=len(images_df2),title_for_image='_'.join(list_names[idx].replace('/','').split(' ')))\n",
    "    except:\n",
    "        name_image = None\n",
    "        print('Error al descargar')\n",
    "    names_images.append(name_image)\n",
    "    if idx % 101 == 0:\n",
    "        print(f'Descargada image {idx+1}/{len(images_df2)}')"
   ]
  },
  {
   "cell_type": "code",
   "execution_count": 30,
   "id": "4908c22c-846c-4e62-993b-b2d6051d4b39",
   "metadata": {},
   "outputs": [],
   "source": [
    "df2.to_excel('//mnt/c/Users/cesar/Desktop/final_outlet.xlsx',index=False)"
   ]
  },
  {
   "cell_type": "code",
   "execution_count": 33,
   "id": "b08379a7-1341-4744-9213-4a90bd926042",
   "metadata": {},
   "outputs": [],
   "source": [
    "df = pd.read_excel('//mnt/c/Users/cesar/Desktop/final_outlet.xlsx')"
   ]
  },
  {
   "cell_type": "code",
   "execution_count": 34,
   "id": "9735f5ff-6401-493b-8d4e-aed00814e116",
   "metadata": {},
   "outputs": [],
   "source": [
    "faltantes = ['Piso_en_Bétera.jpg', 'Piso_en_Bétera.jpg', 'Piso_en_Bétera.jpg', 'Casa_en_Montichelvo.jpg', 'Piso_en_Bétera.jpg', 'Piso_en_Bétera.jpg', 'Local_en_Llíria.jpg', 'Local_en_Llíria.jpg', 'Casa_en_Güímar.jpg', 'Local_en_Llíria.jpg', 'Casa_en_Olesa_de_Bonesvalls.jpg', 'Casa_en_Sant_Joan_de_Vilatorrada.jpg', 'Casa_en_Torrente_de_Cinca.jpg', 'Industrial_en_Chueca.jpg', 'Casa_en_Olesa_de_Bonesvalls.jpg', 'Casa_en_Pallejà.jpg', 'Suelo_en_Consell.jpg']"
   ]
  },
  {
   "cell_type": "code",
   "execution_count": 39,
   "id": "1d2304c4-6e27-4a4a-a89c-5d7e33c13f6c",
   "metadata": {},
   "outputs": [],
   "source": [
    "df = df[~df['image'].isin(faltantes)]"
   ]
  },
  {
   "cell_type": "code",
   "execution_count": 42,
   "id": "90300def-573e-4530-a0f6-af89b8977647",
   "metadata": {},
   "outputs": [
    {
     "name": "stderr",
     "output_type": "stream",
     "text": [
      "/home/cesarppz/anaconda3/envs/ws/lib/python3.9/site-packages/pandas/core/frame.py:4906: SettingWithCopyWarning: \n",
      "A value is trying to be set on a copy of a slice from a DataFrame\n",
      "\n",
      "See the caveats in the documentation: https://pandas.pydata.org/pandas-docs/stable/user_guide/indexing.html#returning-a-view-versus-a-copy\n",
      "  return super().drop(\n"
     ]
    }
   ],
   "source": [
    "df.drop(columns=['Images','Image_name'],inplace=True)"
   ]
  },
  {
   "cell_type": "code",
   "execution_count": 44,
   "id": "69aaa2bb-7ff3-4807-bd2e-190861013a3d",
   "metadata": {},
   "outputs": [],
   "source": [
    "df.to_excel('//mnt/c/Users/cesar/Desktop/final_outlet.xlsx',index=False)"
   ]
  }
 ],
 "metadata": {
  "kernelspec": {
   "display_name": "Python [conda env:ws]",
   "language": "python",
   "name": "conda-env-ws-py"
  },
  "language_info": {
   "codemirror_mode": {
    "name": "ipython",
    "version": 3
   },
   "file_extension": ".py",
   "mimetype": "text/x-python",
   "name": "python",
   "nbconvert_exporter": "python",
   "pygments_lexer": "ipython3",
   "version": "3.9.7"
  }
 },
 "nbformat": 4,
 "nbformat_minor": 5
}
