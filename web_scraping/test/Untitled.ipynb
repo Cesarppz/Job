{
 "cells": [
  {
   "cell_type": "code",
   "execution_count": 2,
   "id": "28868b28-7054-465a-9ab1-cda00f77210f",
   "metadata": {},
   "outputs": [],
   "source": [
    "def solve():\n",
    "    import sys\n",
    "    from twocaptcha import TwoCaptcha\n",
    "    result = None\n",
    "\n",
    "    sitekey = '<your_site_key_from_two_captcha>'\n",
    "    api_key = '<your_api_key_from_two_captcha>'\n",
    "    solver = TwoCaptcha(api_key)\n",
    "    try:\n",
    "        result = solver.solve_captcha(\n",
    "            sitekey=sitekey,\n",
    "            url='https://www.deezer.com/en/login'\n",
    "        )\n",
    "\n",
    "    except Exception as e:\n",
    "        sys.exit(e)\n",
    "\n",
    "    return result"
   ]
  },
  {
   "cell_type": "code",
   "execution_count": 7,
   "id": "c896036f-f2bb-4b3b-b8b9-ad264f5f4227",
   "metadata": {
    "collapsed": true,
    "jupyter": {
     "outputs_hidden": true
    },
    "tags": []
   },
   "outputs": [
    {
     "ename": "NoSuchElementException",
     "evalue": "Message: no such element: Unable to locate element: {\"method\":\"xpath\",\"selector\":\"//*[@id=\"g-recaptcha-response\"]\"}\n  (Session info: chrome=105.0.5195.102)\nStacktrace:\n#0 0x562795d08693 <unknown>\n#1 0x562795b01b0a <unknown>\n#2 0x562795b3a5f7 <unknown>\n#3 0x562795b3a7c1 <unknown>\n#4 0x562795b6d804 <unknown>\n#5 0x562795b5794d <unknown>\n#6 0x562795b6b4b0 <unknown>\n#7 0x562795b57743 <unknown>\n#8 0x562795b2d533 <unknown>\n#9 0x562795b2e715 <unknown>\n#10 0x562795d587bd <unknown>\n#11 0x562795d5bbf9 <unknown>\n#12 0x562795d3df2e <unknown>\n#13 0x562795d5c9b3 <unknown>\n#14 0x562795d31e4f <unknown>\n#15 0x562795d7bea8 <unknown>\n#16 0x562795d7c052 <unknown>\n#17 0x562795d9671f <unknown>\n#18 0x7f9b83a2b609 <unknown>\n",
     "output_type": "error",
     "traceback": [
      "\u001b[0;31m---------------------------------------------------------------------------\u001b[0m",
      "\u001b[0;31mNoSuchElementException\u001b[0m                    Traceback (most recent call last)",
      "\u001b[0;32m/tmp/ipykernel_3045/801135563.py\u001b[0m in \u001b[0;36m<module>\u001b[0;34m\u001b[0m\n\u001b[0;32m----> 1\u001b[0;31m \u001b[0mtextarea\u001b[0m \u001b[0;34m=\u001b[0m \u001b[0mdriver\u001b[0m\u001b[0;34m.\u001b[0m\u001b[0mfind_element\u001b[0m\u001b[0;34m(\u001b[0m\u001b[0;34m'xpath'\u001b[0m\u001b[0;34m,\u001b[0m\u001b[0;34m'//*[@id=\"g-recaptcha-response\"]'\u001b[0m\u001b[0;34m)\u001b[0m\u001b[0;34m\u001b[0m\u001b[0;34m\u001b[0m\u001b[0m\n\u001b[0m\u001b[1;32m      2\u001b[0m \u001b[0msolution\u001b[0m \u001b[0;34m=\u001b[0m \u001b[0msolve\u001b[0m\u001b[0;34m(\u001b[0m\u001b[0;34m)\u001b[0m\u001b[0;34m\u001b[0m\u001b[0;34m\u001b[0m\u001b[0m\n\u001b[1;32m      3\u001b[0m \u001b[0mcode\u001b[0m \u001b[0;34m=\u001b[0m \u001b[0msolution\u001b[0m\u001b[0;34m[\u001b[0m\u001b[0;34m'code'\u001b[0m\u001b[0;34m]\u001b[0m\u001b[0;34m\u001b[0m\u001b[0;34m\u001b[0m\u001b[0m\n\u001b[1;32m      4\u001b[0m \u001b[0mdriver\u001b[0m\u001b[0;34m.\u001b[0m\u001b[0mexecute_script\u001b[0m\u001b[0;34m(\u001b[0m\u001b[0;34mf\"var ele=arguments[0]; ele.innerHTML = '{code}';\"\u001b[0m\u001b[0;34m,\u001b[0m \u001b[0mtextarea\u001b[0m\u001b[0;34m)\u001b[0m\u001b[0;34m\u001b[0m\u001b[0;34m\u001b[0m\u001b[0m\n\u001b[1;32m      5\u001b[0m \u001b[0mtime\u001b[0m\u001b[0;34m.\u001b[0m\u001b[0msleep\u001b[0m\u001b[0;34m(\u001b[0m\u001b[0;36m1\u001b[0m\u001b[0;34m)\u001b[0m \u001b[0;31m# waiting is mandatory\u001b[0m\u001b[0;34m\u001b[0m\u001b[0;34m\u001b[0m\u001b[0m\n",
      "\u001b[0;32m~/anaconda3/envs/ws/lib/python3.9/site-packages/selenium/webdriver/remote/webdriver.py\u001b[0m in \u001b[0;36mfind_element\u001b[0;34m(self, by, value)\u001b[0m\n\u001b[1;32m    853\u001b[0m             \u001b[0mvalue\u001b[0m \u001b[0;34m=\u001b[0m \u001b[0;34m'[name=\"%s\"]'\u001b[0m \u001b[0;34m%\u001b[0m \u001b[0mvalue\u001b[0m\u001b[0;34m\u001b[0m\u001b[0;34m\u001b[0m\u001b[0m\n\u001b[1;32m    854\u001b[0m \u001b[0;34m\u001b[0m\u001b[0m\n\u001b[0;32m--> 855\u001b[0;31m         return self.execute(Command.FIND_ELEMENT, {\n\u001b[0m\u001b[1;32m    856\u001b[0m             \u001b[0;34m'using'\u001b[0m\u001b[0;34m:\u001b[0m \u001b[0mby\u001b[0m\u001b[0;34m,\u001b[0m\u001b[0;34m\u001b[0m\u001b[0;34m\u001b[0m\u001b[0m\n\u001b[1;32m    857\u001b[0m             'value': value})['value']\n",
      "\u001b[0;32m~/anaconda3/envs/ws/lib/python3.9/site-packages/selenium/webdriver/remote/webdriver.py\u001b[0m in \u001b[0;36mexecute\u001b[0;34m(self, driver_command, params)\u001b[0m\n\u001b[1;32m    426\u001b[0m         \u001b[0mresponse\u001b[0m \u001b[0;34m=\u001b[0m \u001b[0mself\u001b[0m\u001b[0;34m.\u001b[0m\u001b[0mcommand_executor\u001b[0m\u001b[0;34m.\u001b[0m\u001b[0mexecute\u001b[0m\u001b[0;34m(\u001b[0m\u001b[0mdriver_command\u001b[0m\u001b[0;34m,\u001b[0m \u001b[0mparams\u001b[0m\u001b[0;34m)\u001b[0m\u001b[0;34m\u001b[0m\u001b[0;34m\u001b[0m\u001b[0m\n\u001b[1;32m    427\u001b[0m         \u001b[0;32mif\u001b[0m \u001b[0mresponse\u001b[0m\u001b[0;34m:\u001b[0m\u001b[0;34m\u001b[0m\u001b[0;34m\u001b[0m\u001b[0m\n\u001b[0;32m--> 428\u001b[0;31m             \u001b[0mself\u001b[0m\u001b[0;34m.\u001b[0m\u001b[0merror_handler\u001b[0m\u001b[0;34m.\u001b[0m\u001b[0mcheck_response\u001b[0m\u001b[0;34m(\u001b[0m\u001b[0mresponse\u001b[0m\u001b[0;34m)\u001b[0m\u001b[0;34m\u001b[0m\u001b[0;34m\u001b[0m\u001b[0m\n\u001b[0m\u001b[1;32m    429\u001b[0m             response['value'] = self._unwrap_value(\n\u001b[1;32m    430\u001b[0m                 response.get('value', None))\n",
      "\u001b[0;32m~/anaconda3/envs/ws/lib/python3.9/site-packages/selenium/webdriver/remote/errorhandler.py\u001b[0m in \u001b[0;36mcheck_response\u001b[0;34m(self, response)\u001b[0m\n\u001b[1;32m    241\u001b[0m                 \u001b[0malert_text\u001b[0m \u001b[0;34m=\u001b[0m \u001b[0mvalue\u001b[0m\u001b[0;34m[\u001b[0m\u001b[0;34m'alert'\u001b[0m\u001b[0;34m]\u001b[0m\u001b[0;34m.\u001b[0m\u001b[0mget\u001b[0m\u001b[0;34m(\u001b[0m\u001b[0;34m'text'\u001b[0m\u001b[0;34m)\u001b[0m\u001b[0;34m\u001b[0m\u001b[0;34m\u001b[0m\u001b[0m\n\u001b[1;32m    242\u001b[0m             \u001b[0;32mraise\u001b[0m \u001b[0mexception_class\u001b[0m\u001b[0;34m(\u001b[0m\u001b[0mmessage\u001b[0m\u001b[0;34m,\u001b[0m \u001b[0mscreen\u001b[0m\u001b[0;34m,\u001b[0m \u001b[0mstacktrace\u001b[0m\u001b[0;34m,\u001b[0m \u001b[0malert_text\u001b[0m\u001b[0;34m)\u001b[0m  \u001b[0;31m# type: ignore[call-arg]  # mypy is not smart enough here\u001b[0m\u001b[0;34m\u001b[0m\u001b[0;34m\u001b[0m\u001b[0m\n\u001b[0;32m--> 243\u001b[0;31m         \u001b[0;32mraise\u001b[0m \u001b[0mexception_class\u001b[0m\u001b[0;34m(\u001b[0m\u001b[0mmessage\u001b[0m\u001b[0;34m,\u001b[0m \u001b[0mscreen\u001b[0m\u001b[0;34m,\u001b[0m \u001b[0mstacktrace\u001b[0m\u001b[0;34m)\u001b[0m\u001b[0;34m\u001b[0m\u001b[0;34m\u001b[0m\u001b[0m\n\u001b[0m",
      "\u001b[0;31mNoSuchElementException\u001b[0m: Message: no such element: Unable to locate element: {\"method\":\"xpath\",\"selector\":\"//*[@id=\"g-recaptcha-response\"]\"}\n  (Session info: chrome=105.0.5195.102)\nStacktrace:\n#0 0x562795d08693 <unknown>\n#1 0x562795b01b0a <unknown>\n#2 0x562795b3a5f7 <unknown>\n#3 0x562795b3a7c1 <unknown>\n#4 0x562795b6d804 <unknown>\n#5 0x562795b5794d <unknown>\n#6 0x562795b6b4b0 <unknown>\n#7 0x562795b57743 <unknown>\n#8 0x562795b2d533 <unknown>\n#9 0x562795b2e715 <unknown>\n#10 0x562795d587bd <unknown>\n#11 0x562795d5bbf9 <unknown>\n#12 0x562795d3df2e <unknown>\n#13 0x562795d5c9b3 <unknown>\n#14 0x562795d31e4f <unknown>\n#15 0x562795d7bea8 <unknown>\n#16 0x562795d7c052 <unknown>\n#17 0x562795d9671f <unknown>\n#18 0x7f9b83a2b609 <unknown>\n"
     ]
    }
   ],
   "source": [
    "\n",
    "textarea = driver.find_element('xpath','//*[@id=\"g-recaptcha-response\"]')\n",
    "solution = solve()\n",
    "code = solution['code']\n",
    "driver.execute_script(f\"var ele=arguments[0]; ele.innerHTML = '{code}';\", textarea)\n",
    "time.sleep(1) # waiting is mandatory\n",
    "textarea = driver.find_element_by_xpath('//*[@id=\"login-btn\"]/button').click()"
   ]
  },
  {
   "cell_type": "code",
   "execution_count": 1,
   "id": "a5c2e4cc-bc03-4fed-84d3-ed6572bb80cf",
   "metadata": {},
   "outputs": [],
   "source": [
    "from fake_useragent import UserAgent\n",
    "ua = UserAgent()"
   ]
  },
  {
   "cell_type": "code",
   "execution_count": 11,
   "id": "ae6051a2-63ae-4566-8627-81d03e7795a7",
   "metadata": {},
   "outputs": [],
   "source": [
    "userAgent = ua.random"
   ]
  },
  {
   "cell_type": "code",
   "execution_count": 12,
   "id": "058f927e-b95e-47da-8983-a64dcdf9e749",
   "metadata": {},
   "outputs": [
    {
     "data": {
      "text/plain": [
       "'Mozilla/4.79 [en] (compatible; MSIE 7.0; Windows NT 5.0; .NET CLR 2.0.50727; InfoPath.2; .NET CLR 1.1.4322; .NET CLR 3.0.04506.30; .NET CLR 3.0.04506.648)'"
      ]
     },
     "execution_count": 12,
     "metadata": {},
     "output_type": "execute_result"
    }
   ],
   "source": [
    "userAgent"
   ]
  },
  {
   "cell_type": "code",
   "execution_count": 5,
   "id": "417728de-c9f9-4668-b04b-cff59f3fae0c",
   "metadata": {},
   "outputs": [],
   "source": [
    "import pandas as pd\n",
    "import time\n",
    "import re\n",
    "from IPython.display import clear_output\n",
    "\n",
    "from selenium.webdriver.common.by import By\n",
    "from selenium.webdriver.support.ui import WebDriverWait\n",
    "from selenium.webdriver.support import expected_conditions as EC\n",
    "from selenium import webdriver\n",
    "from agenda_tools.get_schedule import remove_blank_spaces\n",
    "from selenium.webdriver.chrome.service import Service\n",
    "from selenium.webdriver.common.keys import Keys\n",
    "from selenium.webdriver.common.desired_capabilities import DesiredCapabilities\n",
    "\n",
    "\n",
    "from selenium.common.exceptions import TimeoutException, NoSuchElementException, ElementNotInteractableException\n",
    "from concurrent.futures import ThreadPoolExecutor"
   ]
  },
  {
   "cell_type": "code",
   "execution_count": 6,
   "id": "c3872dca-db0e-4c32-999a-e8f71015baeb",
   "metadata": {},
   "outputs": [],
   "source": [
    "from selenium import webdriver\n",
    "from selenium.webdriver.chrome.service import Service\n",
    "from webdriver_manager.chrome import ChromeDriverManager\n",
    "\n",
    "options = webdriver.ChromeOptions()\n",
    "options.add_argument(\"start-maximized\")\n",
    "options.add_experimental_option(\"excludeSwitches\", [\"enable-automation\"])\n",
    "options.add_experimental_option('useAutomationExtension', False)\n",
    "# options.add_argument('--headless')\n",
    "options.add_argument(\"--incognito\")\n",
    "\n",
    "prefs = {\"profile.managed_default_content_settings.images\": 2}\n",
    "options.add_experimental_option(\"prefs\", prefs)\n",
    "options.add_argument(\"user-agent=Mozilla/5.0 (Windows NT 10.0; Win64; x64; rv:107.0) Gecko/20100101 Firefox/107.0\")\n",
    "\n",
    "\n",
    "capa = DesiredCapabilities.CHROME\n",
    "capa[\"pageLoadStrategy\"] = \"none\"\n",
    "\n",
    "driver = webdriver.Chrome(service=Service(ChromeDriverManager().install()), options=options, desired_capabilities=capa)\n",
    "driver.get(\"https://www.google.com\")\n",
    "wait = WebDriverWait(driver, 3)"
   ]
  },
  {
   "cell_type": "code",
   "execution_count": 3,
   "id": "310a1007-60c4-437d-8cec-839cba1c4c9f",
   "metadata": {},
   "outputs": [],
   "source": [
    "driver.get('https://www.tdlr.texas.gov/TABS/Search/Project/TABS2023006663')"
   ]
  },
  {
   "cell_type": "code",
   "execution_count": null,
   "id": "cd126c9d-ba53-4369-b23a-6890c3686f05",
   "metadata": {},
   "outputs": [],
   "source": []
  },
  {
   "cell_type": "markdown",
   "id": "47993245-e164-452e-a017-234523228a80",
   "metadata": {},
   "source": [
    "## Process"
   ]
  },
  {
   "cell_type": "code",
   "execution_count": 4,
   "id": "de157c09-4b6c-470e-9c92-fc8c61a811b5",
   "metadata": {},
   "outputs": [],
   "source": [
    "def get_text(path):\n",
    "    xpath = f'//dt[contains(.,\"{path}\")]/following-sibling::dd'\n",
    "    return driver.find_element('xpath',xpath).text"
   ]
  },
  {
   "cell_type": "code",
   "execution_count": 19,
   "id": "15e6402a-97a3-49c8-8acf-0ef58834bebc",
   "metadata": {},
   "outputs": [
    {
     "data": {
      "text/plain": [
       "'https://www.tdlr.texas.gov/TABS/Search/Project/TABS2023006680'"
      ]
     },
     "execution_count": 19,
     "metadata": {},
     "output_type": "execute_result"
    }
   ],
   "source": [
    "driver.current_url"
   ]
  },
  {
   "cell_type": "code",
   "execution_count": 29,
   "id": "ff88a27c-c023-41be-926a-9532627d80f6",
   "metadata": {},
   "outputs": [],
   "source": [
    "def scrape(driver):\n",
    "    time.sleep(0.5)\n",
    "    try:\n",
    "        wait.until(EC.presence_of_element_located((By.XPATH, f'//dt[contains(.,\"Project Name\")]/following-sibling::dd')))\n",
    "    except TimeoutException:\n",
    "        return None\n",
    "        \n",
    "    try:\n",
    "        project_name = get_text('Project Name')\n",
    "    except NoSuchElementException:\n",
    "        return None\n",
    "    url_link = driver.current_url,\n",
    "    project_number = get_text('Project Number:')\n",
    "    facility_name = get_text('Facility Name:')\n",
    "    address = get_text('Location Address:')\n",
    "    location = get_text('Location County:')\n",
    "    start_date = get_text('Start Date:')\n",
    "    completation_date = get_text('Completion Date:')\n",
    "    estimated_cost = get_text('Estimated Cost:')\n",
    "    type_work = get_text('Type of Work:')\n",
    "    type_funds = get_text('Type of Funds:')\n",
    "    scope_work = get_text('Scope of Work:')\n",
    "    square_footage = get_text('Square Footage:')\n",
    "    are_private = get_text('Are the private funds provided by the tenant?')\n",
    "    current_status = get_text('Current Status:')\n",
    "    \n",
    "    return {\n",
    "        'URL':url_link,\n",
    "        'Project Name':project_name,\n",
    "        'Project Number:':project_number,\n",
    "        'Facility Name:':facility_name,\n",
    "        'Location Address:':address,\n",
    "        'Location County:':location,\n",
    "        'Start Date:':start_date,\n",
    "        'Completion Date:':completation_date,\n",
    "        'Estimated Cost:':estimated_cost,\n",
    "        'Type of Work:':type_work,\n",
    "        'Type of Funds:':type_funds,\n",
    "        'Scope of Work:':scope_work,\n",
    "        'Square Footage:':square_footage,\n",
    "        'Are the private funds provided by the tenant?':are_private,\n",
    "        'Current Status:':current_status\n",
    "        \n",
    "    }\n"
   ]
  },
  {
   "cell_type": "code",
   "execution_count": 6,
   "id": "5f563ee4-1a46-4d5f-b08b-b4348798b16e",
   "metadata": {},
   "outputs": [],
   "source": [
    "list_url = []"
   ]
  },
  {
   "cell_type": "code",
   "execution_count": 7,
   "id": "93f7f593-46a0-49d6-b1b0-9be12e4ec1f6",
   "metadata": {},
   "outputs": [],
   "source": [
    "for i in range(60,81):\n",
    "    url = f'https://www.tdlr.texas.gov/TABS/Search/Project/TABS20230066{i}'\n",
    "    list_url.append(url)"
   ]
  },
  {
   "cell_type": "code",
   "execution_count": 30,
   "id": "8cea7fd3-8507-4429-a361-cd4eb8bb611d",
   "metadata": {},
   "outputs": [],
   "source": [
    "list_data = []\n",
    "for i in list_url:\n",
    "    driver.get(i)\n",
    "    data = scrape(driver)\n",
    "    if data:\n",
    "        list_data.append(data)"
   ]
  },
  {
   "cell_type": "code",
   "execution_count": 31,
   "id": "d5f64364-e91d-42ca-acee-16f655da4f68",
   "metadata": {},
   "outputs": [],
   "source": [
    "df = pd.DataFrame(list_data)"
   ]
  },
  {
   "cell_type": "code",
   "execution_count": 32,
   "id": "b2dfe8f6-01f6-40ad-81a7-d64451421039",
   "metadata": {},
   "outputs": [
    {
     "data": {
      "text/html": [
       "<div>\n",
       "<style scoped>\n",
       "    .dataframe tbody tr th:only-of-type {\n",
       "        vertical-align: middle;\n",
       "    }\n",
       "\n",
       "    .dataframe tbody tr th {\n",
       "        vertical-align: top;\n",
       "    }\n",
       "\n",
       "    .dataframe thead th {\n",
       "        text-align: right;\n",
       "    }\n",
       "</style>\n",
       "<table border=\"1\" class=\"dataframe\">\n",
       "  <thead>\n",
       "    <tr style=\"text-align: right;\">\n",
       "      <th></th>\n",
       "      <th>URL</th>\n",
       "      <th>Project Name</th>\n",
       "      <th>Project Number:</th>\n",
       "      <th>Facility Name:</th>\n",
       "      <th>Location Address:</th>\n",
       "      <th>Location County:</th>\n",
       "      <th>Start Date:</th>\n",
       "      <th>Completion Date:</th>\n",
       "      <th>Estimated Cost:</th>\n",
       "      <th>Type of Work:</th>\n",
       "      <th>Type of Funds:</th>\n",
       "      <th>Scope of Work:</th>\n",
       "      <th>Square Footage:</th>\n",
       "      <th>Are the private funds provided by the tenant?</th>\n",
       "      <th>Current Status:</th>\n",
       "    </tr>\n",
       "  </thead>\n",
       "  <tbody>\n",
       "    <tr>\n",
       "      <th>0</th>\n",
       "      <td>(https://www.tdlr.texas.gov/TABS/Search/Projec...</td>\n",
       "      <td>Bombay Vapor</td>\n",
       "      <td>TABS2023006660</td>\n",
       "      <td>Northlake Plaza Property LLC</td>\n",
       "      <td>5000 TX-114, Unit 110</td>\n",
       "      <td>Denton</td>\n",
       "      <td>1/2/2023</td>\n",
       "      <td>3/3/2023</td>\n",
       "      <td>$120,000</td>\n",
       "      <td>Renovation/Alteration</td>\n",
       "      <td>This project is privately funded, on private l...</td>\n",
       "      <td>This is an interior finish-out in an existing ...</td>\n",
       "      <td>2,257 ft 2</td>\n",
       "      <td>No</td>\n",
       "      <td>Project Registered</td>\n",
       "    </tr>\n",
       "    <tr>\n",
       "      <th>1</th>\n",
       "      <td>(https://www.tdlr.texas.gov/TABS/Search/Projec...</td>\n",
       "      <td>Cidercade Arlington</td>\n",
       "      <td>TABS2023006661</td>\n",
       "      <td>Cidercade Arlington</td>\n",
       "      <td>500 E Division St</td>\n",
       "      <td>Tarrant</td>\n",
       "      <td>12/15/2021</td>\n",
       "      <td>4/1/2022</td>\n",
       "      <td>$600,000</td>\n",
       "      <td>Renovation/Alteration</td>\n",
       "      <td>This project is privately funded, on private l...</td>\n",
       "      <td>Interior remodel for indoor commercial amuseme...</td>\n",
       "      <td>25,482 ft 2</td>\n",
       "      <td>Yes</td>\n",
       "      <td>Project Registered</td>\n",
       "    </tr>\n",
       "    <tr>\n",
       "      <th>2</th>\n",
       "      <td>(https://www.tdlr.texas.gov/TABS/Search/Projec...</td>\n",
       "      <td>Post Oak Centre North Suite 302</td>\n",
       "      <td>TABS2023006662</td>\n",
       "      <td>Post Oak Centre North</td>\n",
       "      <td>2200 Park Bend Dr. Building 1, Suite 302</td>\n",
       "      <td>Travis</td>\n",
       "      <td>2/20/2023</td>\n",
       "      <td>8/21/2023</td>\n",
       "      <td>$161,700</td>\n",
       "      <td>Renovation/Alteration</td>\n",
       "      <td>This project is privately funded, on private l...</td>\n",
       "      <td>Renovation of existing office suite for use as...</td>\n",
       "      <td>1,617 ft 2</td>\n",
       "      <td>Yes</td>\n",
       "      <td>Project Registered</td>\n",
       "    </tr>\n",
       "    <tr>\n",
       "      <th>3</th>\n",
       "      <td>(https://www.tdlr.texas.gov/TABS/Search/Projec...</td>\n",
       "      <td>Floss Dental</td>\n",
       "      <td>TABS2023006663</td>\n",
       "      <td>Floss Dental</td>\n",
       "      <td>2575 Town Center N Blvd. Suite L</td>\n",
       "      <td>Fort Bend</td>\n",
       "      <td>1/2/2023</td>\n",
       "      <td>4/3/2023</td>\n",
       "      <td>$300,000</td>\n",
       "      <td>Renovation/Alteration</td>\n",
       "      <td>This project is privately funded, on private l...</td>\n",
       "      <td>Dental Office buildout</td>\n",
       "      <td>3,046 ft 2</td>\n",
       "      <td>Yes</td>\n",
       "      <td>Project Registered</td>\n",
       "    </tr>\n",
       "    <tr>\n",
       "      <th>4</th>\n",
       "      <td>(https://www.tdlr.texas.gov/TABS/Search/Projec...</td>\n",
       "      <td>Elevator Installation and Refurbishment</td>\n",
       "      <td>TABS2023006664</td>\n",
       "      <td>Rick Husband Amarillo International Airport-AM...</td>\n",
       "      <td>10801 Airport Boulevard</td>\n",
       "      <td>Potter</td>\n",
       "      <td>12/2/2022</td>\n",
       "      <td>1/2/2024</td>\n",
       "      <td>$1,250,000</td>\n",
       "      <td>Renovation/Alteration</td>\n",
       "      <td>This project involves public funds, public lan...</td>\n",
       "      <td>THE PROPOSED BASE BID WORK INCLUDES A NEW TRAC...</td>\n",
       "      <td>666 ft 2</td>\n",
       "      <td>No</td>\n",
       "      <td>Project Registered</td>\n",
       "    </tr>\n",
       "  </tbody>\n",
       "</table>\n",
       "</div>"
      ],
      "text/plain": [
       "                                                 URL  \\\n",
       "0  (https://www.tdlr.texas.gov/TABS/Search/Projec...   \n",
       "1  (https://www.tdlr.texas.gov/TABS/Search/Projec...   \n",
       "2  (https://www.tdlr.texas.gov/TABS/Search/Projec...   \n",
       "3  (https://www.tdlr.texas.gov/TABS/Search/Projec...   \n",
       "4  (https://www.tdlr.texas.gov/TABS/Search/Projec...   \n",
       "\n",
       "                              Project Name Project Number:  \\\n",
       "0                             Bombay Vapor  TABS2023006660   \n",
       "1                      Cidercade Arlington  TABS2023006661   \n",
       "2          Post Oak Centre North Suite 302  TABS2023006662   \n",
       "3                             Floss Dental  TABS2023006663   \n",
       "4  Elevator Installation and Refurbishment  TABS2023006664   \n",
       "\n",
       "                                      Facility Name:  \\\n",
       "0                       Northlake Plaza Property LLC   \n",
       "1                                Cidercade Arlington   \n",
       "2                              Post Oak Centre North   \n",
       "3                                       Floss Dental   \n",
       "4  Rick Husband Amarillo International Airport-AM...   \n",
       "\n",
       "                          Location Address: Location County: Start Date:  \\\n",
       "0                     5000 TX-114, Unit 110           Denton    1/2/2023   \n",
       "1                         500 E Division St          Tarrant  12/15/2021   \n",
       "2  2200 Park Bend Dr. Building 1, Suite 302           Travis   2/20/2023   \n",
       "3          2575 Town Center N Blvd. Suite L        Fort Bend    1/2/2023   \n",
       "4                   10801 Airport Boulevard           Potter   12/2/2022   \n",
       "\n",
       "  Completion Date: Estimated Cost:          Type of Work:  \\\n",
       "0         3/3/2023        $120,000  Renovation/Alteration   \n",
       "1         4/1/2022        $600,000  Renovation/Alteration   \n",
       "2        8/21/2023        $161,700  Renovation/Alteration   \n",
       "3         4/3/2023        $300,000  Renovation/Alteration   \n",
       "4         1/2/2024      $1,250,000  Renovation/Alteration   \n",
       "\n",
       "                                      Type of Funds:  \\\n",
       "0  This project is privately funded, on private l...   \n",
       "1  This project is privately funded, on private l...   \n",
       "2  This project is privately funded, on private l...   \n",
       "3  This project is privately funded, on private l...   \n",
       "4  This project involves public funds, public lan...   \n",
       "\n",
       "                                      Scope of Work: Square Footage:  \\\n",
       "0  This is an interior finish-out in an existing ...      2,257 ft 2   \n",
       "1  Interior remodel for indoor commercial amuseme...     25,482 ft 2   \n",
       "2  Renovation of existing office suite for use as...      1,617 ft 2   \n",
       "3                             Dental Office buildout      3,046 ft 2   \n",
       "4  THE PROPOSED BASE BID WORK INCLUDES A NEW TRAC...        666 ft 2   \n",
       "\n",
       "  Are the private funds provided by the tenant?     Current Status:  \n",
       "0                                            No  Project Registered  \n",
       "1                                           Yes  Project Registered  \n",
       "2                                           Yes  Project Registered  \n",
       "3                                           Yes  Project Registered  \n",
       "4                                            No  Project Registered  "
      ]
     },
     "execution_count": 32,
     "metadata": {},
     "output_type": "execute_result"
    }
   ],
   "source": [
    "df.head()"
   ]
  },
  {
   "cell_type": "code",
   "execution_count": 18,
   "id": "bb3dba9d-464b-43bc-807d-28a92d909de8",
   "metadata": {},
   "outputs": [],
   "source": [
    "df.to_excel('data_test.xlsx', encoding='UTF-8', index=False)"
   ]
  },
  {
   "cell_type": "code",
   "execution_count": null,
   "id": "396015d1-fa6e-49d4-9867-cee38ea245ff",
   "metadata": {},
   "outputs": [],
   "source": []
  }
 ],
 "metadata": {
  "kernelspec": {
   "display_name": "Python [conda env:ws]",
   "language": "python",
   "name": "conda-env-ws-py"
  },
  "language_info": {
   "codemirror_mode": {
    "name": "ipython",
    "version": 3
   },
   "file_extension": ".py",
   "mimetype": "text/x-python",
   "name": "python",
   "nbconvert_exporter": "python",
   "pygments_lexer": "ipython3",
   "version": "3.9.7"
  }
 },
 "nbformat": 4,
 "nbformat_minor": 5
}
